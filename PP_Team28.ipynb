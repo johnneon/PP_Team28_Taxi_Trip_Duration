{
  "cells": [
    {
      "cell_type": "markdown",
      "metadata": {
        "id": "F6EDfWQLkBLX"
      },
      "source": [
        "## 1. Постановка задачи"
      ]
    },
    {
      "cell_type": "markdown",
      "metadata": {
        "id": "G3NPCLzmkBLa"
      },
      "source": [
        "<center> <img src=https://storage.googleapis.com/kaggle-competitions/kaggle/3333/media/taxi_meter.png align=\"right\" width=\"300\"/> </center>\n",
        "    \n",
        "Вам предстоит решить настоящую задачу машинного обучения, направленную на автоматизацию бизнес процессов. Мы построим модель, которая будет предсказывать общую продолжительность поездки такси в Нью-Йорке.\n",
        "\n",
        "Представьте вы заказываете такси из одной точки Нью-Йорка в другую, причем не обязательно конечная точка должна находиться в пределах города. Сколько вы должны будете за нее заплатить? Известно, что стоимость такси в США  рассчитывается на основе фиксированной ставки + тарифная стоимость, величина которой зависит от времени и расстояния. Тарифы варьируются в зависимости от города.\n",
        "\n",
        "В свою очередь время поездки зависит от множества факторов таких как, откуда и куда вы едете, в какое время суток вы совершаете вашу поездку, погодных условий и так далее.\n",
        "\n",
        "Таким образом, если мы разработаем алгоритм, способный определять длительность поездки, мы сможем прогнозировать ее стоимость самым тривиальным образом, например, просто умножая стоимость на заданный тариф.\n",
        "Сервисы такси хранят огромные объёмы информации о поездках, включая такие данные как конечная, начальная точка маршрута, дата поездки и ее длительность. Эти данные можно использовать для того, чтобы прогнозировать длительность поездки в автоматическом режиме с привлечением искусственного интеллекта.\n",
        "\n",
        "**Бизнес-задача:** определить характеристики и с их помощью спрогнозировать длительность поездки такси.\n",
        "\n",
        "**Техническая задача для вас как для специалиста в Data Science:** построить модель машинного обучения, которая на основе предложенных характеристик клиента будет предсказывать числовой признак - время поездки такси. То есть решить задачу регрессии.\n",
        "\n",
        "**Основные цели проекта:**\n",
        "1. Сформировать набор данных на основе нескольких источников информации\n",
        "2. Спроектировать новые признаки с помощью Feature Engineering и выявить наиболее значимые при построении модели\n",
        "3. Исследовать предоставленные данные и выявить закономерности\n",
        "4. Построить несколько моделей и выбрать из них наилучшую по заданной метрике\n",
        "5. Спроектировать процесс предсказания времени длительности поездки для новых данных\n",
        "\n",
        "Загрузить свое решение на платформу Kaggle, тем самым поучаствовав в настоящем Data Science соревновании.\n",
        "Во время выполнения проекта вы отработаете навыки работы с несколькими источниками данных, генерации признаков, разведывательного анализа и визуализации данных, отбора признаков и, конечно же, построения моделей машинного обучения!\n"
      ]
    },
    {
      "cell_type": "markdown",
      "metadata": {
        "id": "4Up0IUABkBLc"
      },
      "source": [
        "## 2. Знакомство с данными, базовый анализ и расширение данных"
      ]
    },
    {
      "cell_type": "markdown",
      "metadata": {
        "id": "7W9mZPhWkBLd"
      },
      "source": [
        "Начнём наше исследование со знакомства с предоставленными данными. А также подгрузим дополнительные источники данных и расширим наш исходный датасет.\n"
      ]
    },
    {
      "cell_type": "markdown",
      "metadata": {
        "id": "UTIxJupXkBLd"
      },
      "source": [
        "Заранее импортируем модули, которые нам понадобятся для решения задачи:"
      ]
    },
    {
      "cell_type": "code",
      "execution_count": null,
      "metadata": {
        "id": "yeC12P0hkBLe"
      },
      "outputs": [],
      "source": [
        "import numpy as np\n",
        "import pandas as pd\n",
        "import matplotlib.pyplot as plt\n",
        "import seaborn as sns\n",
        "import plotly.express as px\n",
        "\n",
        "from scipy import stats\n",
        "from sklearn import linear_model\n",
        "from sklearn import preprocessing\n",
        "from sklearn import model_selection\n",
        "from sklearn import tree\n",
        "from sklearn import ensemble\n",
        "from sklearn import metrics\n",
        "from sklearn import cluster\n",
        "from sklearn import feature_selection\n",
        "\n",
        "import gdown # Для загрузки данных с Google drive"
      ]
    },
    {
      "cell_type": "markdown",
      "metadata": {
        "id": "kk5-kjqikBLf"
      },
      "source": [
        "Прочитаем наш файл с исходными данными:"
      ]
    },
    {
      "cell_type": "code",
      "execution_count": null,
      "metadata": {
        "id": "-kGKUTeJ2mCZ",
        "colab": {
          "base_uri": "https://localhost:8080/"
        },
        "outputId": "4eeed33a-6192-48c9-b70e-c15cec993194"
      },
      "outputs": [
        {
          "output_type": "stream",
          "name": "stdout",
          "text": [
            "mkdir: cannot create directory ‘data’: File exists\n"
          ]
        }
      ],
      "source": [
        "!mkdir data # Создадим папку для датасета"
      ]
    },
    {
      "cell_type": "code",
      "execution_count": null,
      "metadata": {
        "colab": {
          "base_uri": "https://localhost:8080/",
          "height": 125
        },
        "id": "D9l3Jzyv1OKb",
        "outputId": "0ff39b44-50c7-4ea0-b88e-22a41d109d9a"
      },
      "outputs": [
        {
          "output_type": "stream",
          "name": "stderr",
          "text": [
            "Downloading...\n",
            "From (original): https://drive.google.com/uc?id=1bL9Q7U5-Hki054FwcDzTmgpuf1LOv5Su\n",
            "From (redirected): https://drive.google.com/uc?id=1bL9Q7U5-Hki054FwcDzTmgpuf1LOv5Su&confirm=t&uuid=138aee9b-5981-4c42-a69a-a8f4123858e0\n",
            "To: /content/data/train.csv\n",
            "100%|██████████| 201M/201M [00:02<00:00, 95.1MB/s]\n"
          ]
        },
        {
          "output_type": "execute_result",
          "data": {
            "text/plain": [
              "'data/train.csv'"
            ],
            "application/vnd.google.colaboratory.intrinsic+json": {
              "type": "string"
            }
          },
          "metadata": {},
          "execution_count": 336
        }
      ],
      "source": [
        "gdown.download(id='1bL9Q7U5-Hki054FwcDzTmgpuf1LOv5Su', output='data/train.csv') # Скачаем датасет и поместим по адресу 'data/train.csv'"
      ]
    },
    {
      "cell_type": "code",
      "execution_count": null,
      "metadata": {
        "colab": {
          "base_uri": "https://localhost:8080/",
          "height": 331
        },
        "id": "hMQnRJwdkBLg",
        "outputId": "c13bc792-0b41-4834-993f-e81a51f5a138"
      },
      "outputs": [
        {
          "output_type": "stream",
          "name": "stdout",
          "text": [
            "Train data shape: (1458644, 11)\n"
          ]
        },
        {
          "output_type": "execute_result",
          "data": {
            "text/plain": [
              "          id  vendor_id      pickup_datetime     dropoff_datetime  \\\n",
              "0  id2875421          2  2016-03-14 17:24:55  2016-03-14 17:32:30   \n",
              "1  id2377394          1  2016-06-12 00:43:35  2016-06-12 00:54:38   \n",
              "2  id3858529          2  2016-01-19 11:35:24  2016-01-19 12:10:48   \n",
              "3  id3504673          2  2016-04-06 19:32:31  2016-04-06 19:39:40   \n",
              "4  id2181028          2  2016-03-26 13:30:55  2016-03-26 13:38:10   \n",
              "\n",
              "   passenger_count  pickup_longitude  pickup_latitude  dropoff_longitude  \\\n",
              "0                1           -73.982           40.768            -73.965   \n",
              "1                1           -73.980           40.739            -73.999   \n",
              "2                1           -73.979           40.764            -74.005   \n",
              "3                1           -74.010           40.720            -74.012   \n",
              "4                1           -73.973           40.793            -73.973   \n",
              "\n",
              "   dropoff_latitude store_and_fwd_flag  trip_duration  \n",
              "0            40.766                  N            455  \n",
              "1            40.731                  N            663  \n",
              "2            40.710                  N           2124  \n",
              "3            40.707                  N            429  \n",
              "4            40.783                  N            435  "
            ],
            "text/html": [
              "\n",
              "  <div id=\"df-9b9ffab4-869c-4c67-ab28-9122d25214a3\" class=\"colab-df-container\">\n",
              "    <div>\n",
              "<style scoped>\n",
              "    .dataframe tbody tr th:only-of-type {\n",
              "        vertical-align: middle;\n",
              "    }\n",
              "\n",
              "    .dataframe tbody tr th {\n",
              "        vertical-align: top;\n",
              "    }\n",
              "\n",
              "    .dataframe thead th {\n",
              "        text-align: right;\n",
              "    }\n",
              "</style>\n",
              "<table border=\"1\" class=\"dataframe\">\n",
              "  <thead>\n",
              "    <tr style=\"text-align: right;\">\n",
              "      <th></th>\n",
              "      <th>id</th>\n",
              "      <th>vendor_id</th>\n",
              "      <th>pickup_datetime</th>\n",
              "      <th>dropoff_datetime</th>\n",
              "      <th>passenger_count</th>\n",
              "      <th>pickup_longitude</th>\n",
              "      <th>pickup_latitude</th>\n",
              "      <th>dropoff_longitude</th>\n",
              "      <th>dropoff_latitude</th>\n",
              "      <th>store_and_fwd_flag</th>\n",
              "      <th>trip_duration</th>\n",
              "    </tr>\n",
              "  </thead>\n",
              "  <tbody>\n",
              "    <tr>\n",
              "      <th>0</th>\n",
              "      <td>id2875421</td>\n",
              "      <td>2</td>\n",
              "      <td>2016-03-14 17:24:55</td>\n",
              "      <td>2016-03-14 17:32:30</td>\n",
              "      <td>1</td>\n",
              "      <td>-73.982</td>\n",
              "      <td>40.768</td>\n",
              "      <td>-73.965</td>\n",
              "      <td>40.766</td>\n",
              "      <td>N</td>\n",
              "      <td>455</td>\n",
              "    </tr>\n",
              "    <tr>\n",
              "      <th>1</th>\n",
              "      <td>id2377394</td>\n",
              "      <td>1</td>\n",
              "      <td>2016-06-12 00:43:35</td>\n",
              "      <td>2016-06-12 00:54:38</td>\n",
              "      <td>1</td>\n",
              "      <td>-73.980</td>\n",
              "      <td>40.739</td>\n",
              "      <td>-73.999</td>\n",
              "      <td>40.731</td>\n",
              "      <td>N</td>\n",
              "      <td>663</td>\n",
              "    </tr>\n",
              "    <tr>\n",
              "      <th>2</th>\n",
              "      <td>id3858529</td>\n",
              "      <td>2</td>\n",
              "      <td>2016-01-19 11:35:24</td>\n",
              "      <td>2016-01-19 12:10:48</td>\n",
              "      <td>1</td>\n",
              "      <td>-73.979</td>\n",
              "      <td>40.764</td>\n",
              "      <td>-74.005</td>\n",
              "      <td>40.710</td>\n",
              "      <td>N</td>\n",
              "      <td>2124</td>\n",
              "    </tr>\n",
              "    <tr>\n",
              "      <th>3</th>\n",
              "      <td>id3504673</td>\n",
              "      <td>2</td>\n",
              "      <td>2016-04-06 19:32:31</td>\n",
              "      <td>2016-04-06 19:39:40</td>\n",
              "      <td>1</td>\n",
              "      <td>-74.010</td>\n",
              "      <td>40.720</td>\n",
              "      <td>-74.012</td>\n",
              "      <td>40.707</td>\n",
              "      <td>N</td>\n",
              "      <td>429</td>\n",
              "    </tr>\n",
              "    <tr>\n",
              "      <th>4</th>\n",
              "      <td>id2181028</td>\n",
              "      <td>2</td>\n",
              "      <td>2016-03-26 13:30:55</td>\n",
              "      <td>2016-03-26 13:38:10</td>\n",
              "      <td>1</td>\n",
              "      <td>-73.973</td>\n",
              "      <td>40.793</td>\n",
              "      <td>-73.973</td>\n",
              "      <td>40.783</td>\n",
              "      <td>N</td>\n",
              "      <td>435</td>\n",
              "    </tr>\n",
              "  </tbody>\n",
              "</table>\n",
              "</div>\n",
              "    <div class=\"colab-df-buttons\">\n",
              "\n",
              "  <div class=\"colab-df-container\">\n",
              "    <button class=\"colab-df-convert\" onclick=\"convertToInteractive('df-9b9ffab4-869c-4c67-ab28-9122d25214a3')\"\n",
              "            title=\"Convert this dataframe to an interactive table.\"\n",
              "            style=\"display:none;\">\n",
              "\n",
              "  <svg xmlns=\"http://www.w3.org/2000/svg\" height=\"24px\" viewBox=\"0 -960 960 960\">\n",
              "    <path d=\"M120-120v-720h720v720H120Zm60-500h600v-160H180v160Zm220 220h160v-160H400v160Zm0 220h160v-160H400v160ZM180-400h160v-160H180v160Zm440 0h160v-160H620v160ZM180-180h160v-160H180v160Zm440 0h160v-160H620v160Z\"/>\n",
              "  </svg>\n",
              "    </button>\n",
              "\n",
              "  <style>\n",
              "    .colab-df-container {\n",
              "      display:flex;\n",
              "      gap: 12px;\n",
              "    }\n",
              "\n",
              "    .colab-df-convert {\n",
              "      background-color: #E8F0FE;\n",
              "      border: none;\n",
              "      border-radius: 50%;\n",
              "      cursor: pointer;\n",
              "      display: none;\n",
              "      fill: #1967D2;\n",
              "      height: 32px;\n",
              "      padding: 0 0 0 0;\n",
              "      width: 32px;\n",
              "    }\n",
              "\n",
              "    .colab-df-convert:hover {\n",
              "      background-color: #E2EBFA;\n",
              "      box-shadow: 0px 1px 2px rgba(60, 64, 67, 0.3), 0px 1px 3px 1px rgba(60, 64, 67, 0.15);\n",
              "      fill: #174EA6;\n",
              "    }\n",
              "\n",
              "    .colab-df-buttons div {\n",
              "      margin-bottom: 4px;\n",
              "    }\n",
              "\n",
              "    [theme=dark] .colab-df-convert {\n",
              "      background-color: #3B4455;\n",
              "      fill: #D2E3FC;\n",
              "    }\n",
              "\n",
              "    [theme=dark] .colab-df-convert:hover {\n",
              "      background-color: #434B5C;\n",
              "      box-shadow: 0px 1px 3px 1px rgba(0, 0, 0, 0.15);\n",
              "      filter: drop-shadow(0px 1px 2px rgba(0, 0, 0, 0.3));\n",
              "      fill: #FFFFFF;\n",
              "    }\n",
              "  </style>\n",
              "\n",
              "    <script>\n",
              "      const buttonEl =\n",
              "        document.querySelector('#df-9b9ffab4-869c-4c67-ab28-9122d25214a3 button.colab-df-convert');\n",
              "      buttonEl.style.display =\n",
              "        google.colab.kernel.accessAllowed ? 'block' : 'none';\n",
              "\n",
              "      async function convertToInteractive(key) {\n",
              "        const element = document.querySelector('#df-9b9ffab4-869c-4c67-ab28-9122d25214a3');\n",
              "        const dataTable =\n",
              "          await google.colab.kernel.invokeFunction('convertToInteractive',\n",
              "                                                    [key], {});\n",
              "        if (!dataTable) return;\n",
              "\n",
              "        const docLinkHtml = 'Like what you see? Visit the ' +\n",
              "          '<a target=\"_blank\" href=https://colab.research.google.com/notebooks/data_table.ipynb>data table notebook</a>'\n",
              "          + ' to learn more about interactive tables.';\n",
              "        element.innerHTML = '';\n",
              "        dataTable['output_type'] = 'display_data';\n",
              "        await google.colab.output.renderOutput(dataTable, element);\n",
              "        const docLink = document.createElement('div');\n",
              "        docLink.innerHTML = docLinkHtml;\n",
              "        element.appendChild(docLink);\n",
              "      }\n",
              "    </script>\n",
              "  </div>\n",
              "\n",
              "\n",
              "<div id=\"df-956c22da-272b-4dc1-b9de-7f03d5ee083d\">\n",
              "  <button class=\"colab-df-quickchart\" onclick=\"quickchart('df-956c22da-272b-4dc1-b9de-7f03d5ee083d')\"\n",
              "            title=\"Suggest charts\"\n",
              "            style=\"display:none;\">\n",
              "\n",
              "<svg xmlns=\"http://www.w3.org/2000/svg\" height=\"24px\"viewBox=\"0 0 24 24\"\n",
              "     width=\"24px\">\n",
              "    <g>\n",
              "        <path d=\"M19 3H5c-1.1 0-2 .9-2 2v14c0 1.1.9 2 2 2h14c1.1 0 2-.9 2-2V5c0-1.1-.9-2-2-2zM9 17H7v-7h2v7zm4 0h-2V7h2v10zm4 0h-2v-4h2v4z\"/>\n",
              "    </g>\n",
              "</svg>\n",
              "  </button>\n",
              "\n",
              "<style>\n",
              "  .colab-df-quickchart {\n",
              "      --bg-color: #E8F0FE;\n",
              "      --fill-color: #1967D2;\n",
              "      --hover-bg-color: #E2EBFA;\n",
              "      --hover-fill-color: #174EA6;\n",
              "      --disabled-fill-color: #AAA;\n",
              "      --disabled-bg-color: #DDD;\n",
              "  }\n",
              "\n",
              "  [theme=dark] .colab-df-quickchart {\n",
              "      --bg-color: #3B4455;\n",
              "      --fill-color: #D2E3FC;\n",
              "      --hover-bg-color: #434B5C;\n",
              "      --hover-fill-color: #FFFFFF;\n",
              "      --disabled-bg-color: #3B4455;\n",
              "      --disabled-fill-color: #666;\n",
              "  }\n",
              "\n",
              "  .colab-df-quickchart {\n",
              "    background-color: var(--bg-color);\n",
              "    border: none;\n",
              "    border-radius: 50%;\n",
              "    cursor: pointer;\n",
              "    display: none;\n",
              "    fill: var(--fill-color);\n",
              "    height: 32px;\n",
              "    padding: 0;\n",
              "    width: 32px;\n",
              "  }\n",
              "\n",
              "  .colab-df-quickchart:hover {\n",
              "    background-color: var(--hover-bg-color);\n",
              "    box-shadow: 0 1px 2px rgba(60, 64, 67, 0.3), 0 1px 3px 1px rgba(60, 64, 67, 0.15);\n",
              "    fill: var(--button-hover-fill-color);\n",
              "  }\n",
              "\n",
              "  .colab-df-quickchart-complete:disabled,\n",
              "  .colab-df-quickchart-complete:disabled:hover {\n",
              "    background-color: var(--disabled-bg-color);\n",
              "    fill: var(--disabled-fill-color);\n",
              "    box-shadow: none;\n",
              "  }\n",
              "\n",
              "  .colab-df-spinner {\n",
              "    border: 2px solid var(--fill-color);\n",
              "    border-color: transparent;\n",
              "    border-bottom-color: var(--fill-color);\n",
              "    animation:\n",
              "      spin 1s steps(1) infinite;\n",
              "  }\n",
              "\n",
              "  @keyframes spin {\n",
              "    0% {\n",
              "      border-color: transparent;\n",
              "      border-bottom-color: var(--fill-color);\n",
              "      border-left-color: var(--fill-color);\n",
              "    }\n",
              "    20% {\n",
              "      border-color: transparent;\n",
              "      border-left-color: var(--fill-color);\n",
              "      border-top-color: var(--fill-color);\n",
              "    }\n",
              "    30% {\n",
              "      border-color: transparent;\n",
              "      border-left-color: var(--fill-color);\n",
              "      border-top-color: var(--fill-color);\n",
              "      border-right-color: var(--fill-color);\n",
              "    }\n",
              "    40% {\n",
              "      border-color: transparent;\n",
              "      border-right-color: var(--fill-color);\n",
              "      border-top-color: var(--fill-color);\n",
              "    }\n",
              "    60% {\n",
              "      border-color: transparent;\n",
              "      border-right-color: var(--fill-color);\n",
              "    }\n",
              "    80% {\n",
              "      border-color: transparent;\n",
              "      border-right-color: var(--fill-color);\n",
              "      border-bottom-color: var(--fill-color);\n",
              "    }\n",
              "    90% {\n",
              "      border-color: transparent;\n",
              "      border-bottom-color: var(--fill-color);\n",
              "    }\n",
              "  }\n",
              "</style>\n",
              "\n",
              "  <script>\n",
              "    async function quickchart(key) {\n",
              "      const quickchartButtonEl =\n",
              "        document.querySelector('#' + key + ' button');\n",
              "      quickchartButtonEl.disabled = true;  // To prevent multiple clicks.\n",
              "      quickchartButtonEl.classList.add('colab-df-spinner');\n",
              "      try {\n",
              "        const charts = await google.colab.kernel.invokeFunction(\n",
              "            'suggestCharts', [key], {});\n",
              "      } catch (error) {\n",
              "        console.error('Error during call to suggestCharts:', error);\n",
              "      }\n",
              "      quickchartButtonEl.classList.remove('colab-df-spinner');\n",
              "      quickchartButtonEl.classList.add('colab-df-quickchart-complete');\n",
              "    }\n",
              "    (() => {\n",
              "      let quickchartButtonEl =\n",
              "        document.querySelector('#df-956c22da-272b-4dc1-b9de-7f03d5ee083d button');\n",
              "      quickchartButtonEl.style.display =\n",
              "        google.colab.kernel.accessAllowed ? 'block' : 'none';\n",
              "    })();\n",
              "  </script>\n",
              "</div>\n",
              "\n",
              "    </div>\n",
              "  </div>\n"
            ],
            "application/vnd.google.colaboratory.intrinsic+json": {
              "type": "dataframe",
              "variable_name": "taxi_data"
            }
          },
          "metadata": {},
          "execution_count": 337
        }
      ],
      "source": [
        "taxi_data = pd.read_csv(\"data/train.csv\")\n",
        "print('Train data shape: {}'.format(taxi_data.shape))\n",
        "taxi_data.head()"
      ]
    },
    {
      "cell_type": "markdown",
      "metadata": {
        "id": "xhaxNt0XkBLh"
      },
      "source": [
        "Итак, у нас с вами есть данные о почти 1.5 миллионах поездок и 11 характеристиках, которые описывают каждую из поездок."
      ]
    },
    {
      "cell_type": "markdown",
      "metadata": {
        "id": "tXufvADjkBLi"
      },
      "source": [
        "Мы условно разделили признаки нескольких групп. Каждой из групп мы в дальнейшем уделим отдельное внимание.\n",
        "\n",
        "**Данные о клиенте и таксопарке:**\n",
        "* id - уникальный идентификатор поездки\n",
        "* vendor_id - уникальный идентификатор поставщика (таксопарка), связанного с записью поездки\n",
        "\n",
        "**Временные характеристики:**\n",
        "* pickup_datetime - дата и время, когда был включен счетчик поездки\n",
        "* dropoff_datetime - дата и время, когда счетчик был отключен\n",
        "\n",
        "**Географическая информация:**\n",
        "* pickup_longitude -  долгота, на которой был включен счетчик\n",
        "* pickup_latitude - широта, на которой был включен счетчик\n",
        "* dropoff_longitude - долгота, на которой счетчик был отключен\n",
        "* dropoff_latitude - широта, на которой счетчик был отключен\n",
        "\n",
        "**Прочие признаки:**\n",
        "* passenger_count - количество пассажиров в транспортном средстве (введенное водителем значение)\n",
        "* store_and_fwd_flag - флаг, который указывает, сохранилась ли запись о поездке в памяти транспортного средства перед отправкой поставщику. Y - хранить и пересылать, N - не хранить и не пересылать поездку.\n",
        "\n",
        "**Целевой признак:**\n",
        "* trip_duration - продолжительность поездки в секундах\n"
      ]
    },
    {
      "cell_type": "markdown",
      "metadata": {
        "id": "VvrcGynTkBLi"
      },
      "source": [
        "Для начала мы проведем базовый анализ того, насколько данные готовы к дальнейшей предобработке и анализу."
      ]
    },
    {
      "cell_type": "markdown",
      "metadata": {
        "id": "33rsP7rTkBLj"
      },
      "source": [
        "### Задание 2.1\n",
        "Для начала посмотрим на временные рамки, в которых мы работаем с данными.\n",
        "\n",
        "Переведите признак pickup_datetime в тип данных datetime с форматом год-месяц-день час:минута:секунда (в функции pd.to_datetime() параметр format='%Y-%m-%d %H:%M:%S').\n",
        "\n",
        "Определите временные рамки (без учета времени), за которые представлены данные."
      ]
    },
    {
      "cell_type": "code",
      "execution_count": null,
      "metadata": {
        "id": "cIVxwqW1kBLj"
      },
      "outputs": [],
      "source": [
        "taxi_data['pickup_datetime'] = pd.to_datetime(taxi_data['pickup_datetime'], format='%Y-%m-%d %H:%M:%S')"
      ]
    },
    {
      "cell_type": "code",
      "execution_count": null,
      "metadata": {
        "colab": {
          "base_uri": "https://localhost:8080/"
        },
        "id": "pICb1_bRCyOS",
        "outputId": "34401607-ac7a-4e60-c511-cfbb8c176915"
      },
      "outputs": [
        {
          "output_type": "execute_result",
          "data": {
            "text/plain": [
              "count                          1458644\n",
              "mean     2016-04-01 10:10:24.940037120\n",
              "min                2016-01-01 00:00:17\n",
              "25%      2016-02-17 16:46:04.249999872\n",
              "50%                2016-04-01 17:19:40\n",
              "75%      2016-05-15 03:56:08.750000128\n",
              "max                2016-06-30 23:59:39\n",
              "Name: pickup_datetime, dtype: object"
            ]
          },
          "metadata": {},
          "execution_count": 339
        }
      ],
      "source": [
        "taxi_data['pickup_datetime'].describe()"
      ]
    },
    {
      "cell_type": "markdown",
      "metadata": {
        "id": "th9b2_ZjC3oj"
      },
      "source": [
        "Как видим, данные предоставлены за период с **2016-01-01** по **2016-06-30**."
      ]
    },
    {
      "cell_type": "markdown",
      "metadata": {
        "id": "prw5RhKnkBLj"
      },
      "source": [
        "### Задание 2.2\n",
        "Посмотрим на пропуски.\n",
        "Сколько пропущенных значений присутствует в данных (суммарно по всем столбцам таблицы)?"
      ]
    },
    {
      "cell_type": "code",
      "execution_count": null,
      "metadata": {
        "colab": {
          "base_uri": "https://localhost:8080/"
        },
        "id": "ug16JoZDkBLk",
        "outputId": "bb3740cf-8aec-44f8-d9b3-2b474fafb633"
      },
      "outputs": [
        {
          "output_type": "stream",
          "name": "stdout",
          "text": [
            "<class 'pandas.core.frame.DataFrame'>\n",
            "RangeIndex: 1458644 entries, 0 to 1458643\n",
            "Data columns (total 11 columns):\n",
            " #   Column              Non-Null Count    Dtype         \n",
            "---  ------              --------------    -----         \n",
            " 0   id                  1458644 non-null  object        \n",
            " 1   vendor_id           1458644 non-null  int64         \n",
            " 2   pickup_datetime     1458644 non-null  datetime64[ns]\n",
            " 3   dropoff_datetime    1458644 non-null  object        \n",
            " 4   passenger_count     1458644 non-null  int64         \n",
            " 5   pickup_longitude    1458644 non-null  float64       \n",
            " 6   pickup_latitude     1458644 non-null  float64       \n",
            " 7   dropoff_longitude   1458644 non-null  float64       \n",
            " 8   dropoff_latitude    1458644 non-null  float64       \n",
            " 9   store_and_fwd_flag  1458644 non-null  object        \n",
            " 10  trip_duration       1458644 non-null  int64         \n",
            "dtypes: datetime64[ns](1), float64(4), int64(3), object(3)\n",
            "memory usage: 122.4+ MB\n"
          ]
        }
      ],
      "source": [
        "taxi_data.info()"
      ]
    },
    {
      "cell_type": "code",
      "execution_count": null,
      "metadata": {
        "colab": {
          "base_uri": "https://localhost:8080/"
        },
        "id": "DU70lsX1Dybb",
        "outputId": "a2f0922d-5d12-4802-a9d5-d49f79385407"
      },
      "outputs": [
        {
          "output_type": "execute_result",
          "data": {
            "text/plain": [
              "id                    0\n",
              "vendor_id             0\n",
              "pickup_datetime       0\n",
              "dropoff_datetime      0\n",
              "passenger_count       0\n",
              "pickup_longitude      0\n",
              "pickup_latitude       0\n",
              "dropoff_longitude     0\n",
              "dropoff_latitude      0\n",
              "store_and_fwd_flag    0\n",
              "trip_duration         0\n",
              "dtype: int64"
            ]
          },
          "metadata": {},
          "execution_count": 341
        }
      ],
      "source": [
        "taxi_data.isnull().sum()"
      ]
    },
    {
      "cell_type": "markdown",
      "metadata": {
        "id": "FGXSRZNVD7RO"
      },
      "source": [
        "Как видим, пропущенных значений нет."
      ]
    },
    {
      "cell_type": "markdown",
      "metadata": {
        "id": "ZMMIyT1skBLk"
      },
      "source": [
        "### Задание 2.3\n",
        "Посмотрим на статистические характеристики некоторых признаков.\n",
        "\n",
        "а) Сколько уникальных таксопарков присутствует в данных?\n",
        "\n",
        "б) Каково максимальное количество пассажиров?\n",
        "\n",
        "в) Чему равна средняя и медианная длительность поездки? Ответ приведите в секундах и округлите до целого.\n",
        "\n",
        "г) Чему равно минимальное и максимальное время поездки (в секундах)?\n"
      ]
    },
    {
      "cell_type": "code",
      "execution_count": null,
      "metadata": {
        "colab": {
          "base_uri": "https://localhost:8080/"
        },
        "id": "lvN9DGelFJ_s",
        "outputId": "c7f0672b-ffe7-4858-a0cd-a3001b5a90bc"
      },
      "outputs": [
        {
          "output_type": "execute_result",
          "data": {
            "text/plain": [
              "2"
            ]
          },
          "metadata": {},
          "execution_count": 342
        }
      ],
      "source": [
        "taxi_data['vendor_id'].nunique()"
      ]
    },
    {
      "cell_type": "code",
      "execution_count": null,
      "metadata": {
        "colab": {
          "base_uri": "https://localhost:8080/",
          "height": 300
        },
        "id": "UeJfdmIskBLk",
        "outputId": "cac938ad-2682-479d-8cab-331baa35d7de"
      },
      "outputs": [
        {
          "output_type": "execute_result",
          "data": {
            "text/plain": [
              "          vendor_id                pickup_datetime  passenger_count  \\\n",
              "count 1,458,644.000                        1458644    1,458,644.000   \n",
              "mean          1.535  2016-04-01 10:10:24.940037120            1.665   \n",
              "min           1.000            2016-01-01 00:00:17            0.000   \n",
              "25%           1.000  2016-02-17 16:46:04.249999872            1.000   \n",
              "50%           2.000            2016-04-01 17:19:40            1.000   \n",
              "75%           2.000  2016-05-15 03:56:08.750000128            2.000   \n",
              "max           2.000            2016-06-30 23:59:39            9.000   \n",
              "std           0.499                            NaN            1.314   \n",
              "\n",
              "       pickup_longitude  pickup_latitude  dropoff_longitude  dropoff_latitude  \\\n",
              "count     1,458,644.000    1,458,644.000      1,458,644.000     1,458,644.000   \n",
              "mean            -73.973           40.751            -73.973            40.752   \n",
              "min            -121.933           34.360           -121.933            32.181   \n",
              "25%             -73.992           40.737            -73.991            40.736   \n",
              "50%             -73.982           40.754            -73.980            40.755   \n",
              "75%             -73.967           40.768            -73.963            40.770   \n",
              "max             -61.336           51.881            -61.336            43.921   \n",
              "std               0.071            0.033              0.071             0.036   \n",
              "\n",
              "       trip_duration  \n",
              "count  1,458,644.000  \n",
              "mean         959.492  \n",
              "min            1.000  \n",
              "25%          397.000  \n",
              "50%          662.000  \n",
              "75%        1,075.000  \n",
              "max    3,526,282.000  \n",
              "std        5,237.432  "
            ],
            "text/html": [
              "\n",
              "  <div id=\"df-0c5c1b23-0aec-4b1a-9291-629a9674f275\" class=\"colab-df-container\">\n",
              "    <div>\n",
              "<style scoped>\n",
              "    .dataframe tbody tr th:only-of-type {\n",
              "        vertical-align: middle;\n",
              "    }\n",
              "\n",
              "    .dataframe tbody tr th {\n",
              "        vertical-align: top;\n",
              "    }\n",
              "\n",
              "    .dataframe thead th {\n",
              "        text-align: right;\n",
              "    }\n",
              "</style>\n",
              "<table border=\"1\" class=\"dataframe\">\n",
              "  <thead>\n",
              "    <tr style=\"text-align: right;\">\n",
              "      <th></th>\n",
              "      <th>vendor_id</th>\n",
              "      <th>pickup_datetime</th>\n",
              "      <th>passenger_count</th>\n",
              "      <th>pickup_longitude</th>\n",
              "      <th>pickup_latitude</th>\n",
              "      <th>dropoff_longitude</th>\n",
              "      <th>dropoff_latitude</th>\n",
              "      <th>trip_duration</th>\n",
              "    </tr>\n",
              "  </thead>\n",
              "  <tbody>\n",
              "    <tr>\n",
              "      <th>count</th>\n",
              "      <td>1,458,644.000</td>\n",
              "      <td>1458644</td>\n",
              "      <td>1,458,644.000</td>\n",
              "      <td>1,458,644.000</td>\n",
              "      <td>1,458,644.000</td>\n",
              "      <td>1,458,644.000</td>\n",
              "      <td>1,458,644.000</td>\n",
              "      <td>1,458,644.000</td>\n",
              "    </tr>\n",
              "    <tr>\n",
              "      <th>mean</th>\n",
              "      <td>1.535</td>\n",
              "      <td>2016-04-01 10:10:24.940037120</td>\n",
              "      <td>1.665</td>\n",
              "      <td>-73.973</td>\n",
              "      <td>40.751</td>\n",
              "      <td>-73.973</td>\n",
              "      <td>40.752</td>\n",
              "      <td>959.492</td>\n",
              "    </tr>\n",
              "    <tr>\n",
              "      <th>min</th>\n",
              "      <td>1.000</td>\n",
              "      <td>2016-01-01 00:00:17</td>\n",
              "      <td>0.000</td>\n",
              "      <td>-121.933</td>\n",
              "      <td>34.360</td>\n",
              "      <td>-121.933</td>\n",
              "      <td>32.181</td>\n",
              "      <td>1.000</td>\n",
              "    </tr>\n",
              "    <tr>\n",
              "      <th>25%</th>\n",
              "      <td>1.000</td>\n",
              "      <td>2016-02-17 16:46:04.249999872</td>\n",
              "      <td>1.000</td>\n",
              "      <td>-73.992</td>\n",
              "      <td>40.737</td>\n",
              "      <td>-73.991</td>\n",
              "      <td>40.736</td>\n",
              "      <td>397.000</td>\n",
              "    </tr>\n",
              "    <tr>\n",
              "      <th>50%</th>\n",
              "      <td>2.000</td>\n",
              "      <td>2016-04-01 17:19:40</td>\n",
              "      <td>1.000</td>\n",
              "      <td>-73.982</td>\n",
              "      <td>40.754</td>\n",
              "      <td>-73.980</td>\n",
              "      <td>40.755</td>\n",
              "      <td>662.000</td>\n",
              "    </tr>\n",
              "    <tr>\n",
              "      <th>75%</th>\n",
              "      <td>2.000</td>\n",
              "      <td>2016-05-15 03:56:08.750000128</td>\n",
              "      <td>2.000</td>\n",
              "      <td>-73.967</td>\n",
              "      <td>40.768</td>\n",
              "      <td>-73.963</td>\n",
              "      <td>40.770</td>\n",
              "      <td>1,075.000</td>\n",
              "    </tr>\n",
              "    <tr>\n",
              "      <th>max</th>\n",
              "      <td>2.000</td>\n",
              "      <td>2016-06-30 23:59:39</td>\n",
              "      <td>9.000</td>\n",
              "      <td>-61.336</td>\n",
              "      <td>51.881</td>\n",
              "      <td>-61.336</td>\n",
              "      <td>43.921</td>\n",
              "      <td>3,526,282.000</td>\n",
              "    </tr>\n",
              "    <tr>\n",
              "      <th>std</th>\n",
              "      <td>0.499</td>\n",
              "      <td>NaN</td>\n",
              "      <td>1.314</td>\n",
              "      <td>0.071</td>\n",
              "      <td>0.033</td>\n",
              "      <td>0.071</td>\n",
              "      <td>0.036</td>\n",
              "      <td>5,237.432</td>\n",
              "    </tr>\n",
              "  </tbody>\n",
              "</table>\n",
              "</div>\n",
              "    <div class=\"colab-df-buttons\">\n",
              "\n",
              "  <div class=\"colab-df-container\">\n",
              "    <button class=\"colab-df-convert\" onclick=\"convertToInteractive('df-0c5c1b23-0aec-4b1a-9291-629a9674f275')\"\n",
              "            title=\"Convert this dataframe to an interactive table.\"\n",
              "            style=\"display:none;\">\n",
              "\n",
              "  <svg xmlns=\"http://www.w3.org/2000/svg\" height=\"24px\" viewBox=\"0 -960 960 960\">\n",
              "    <path d=\"M120-120v-720h720v720H120Zm60-500h600v-160H180v160Zm220 220h160v-160H400v160Zm0 220h160v-160H400v160ZM180-400h160v-160H180v160Zm440 0h160v-160H620v160ZM180-180h160v-160H180v160Zm440 0h160v-160H620v160Z\"/>\n",
              "  </svg>\n",
              "    </button>\n",
              "\n",
              "  <style>\n",
              "    .colab-df-container {\n",
              "      display:flex;\n",
              "      gap: 12px;\n",
              "    }\n",
              "\n",
              "    .colab-df-convert {\n",
              "      background-color: #E8F0FE;\n",
              "      border: none;\n",
              "      border-radius: 50%;\n",
              "      cursor: pointer;\n",
              "      display: none;\n",
              "      fill: #1967D2;\n",
              "      height: 32px;\n",
              "      padding: 0 0 0 0;\n",
              "      width: 32px;\n",
              "    }\n",
              "\n",
              "    .colab-df-convert:hover {\n",
              "      background-color: #E2EBFA;\n",
              "      box-shadow: 0px 1px 2px rgba(60, 64, 67, 0.3), 0px 1px 3px 1px rgba(60, 64, 67, 0.15);\n",
              "      fill: #174EA6;\n",
              "    }\n",
              "\n",
              "    .colab-df-buttons div {\n",
              "      margin-bottom: 4px;\n",
              "    }\n",
              "\n",
              "    [theme=dark] .colab-df-convert {\n",
              "      background-color: #3B4455;\n",
              "      fill: #D2E3FC;\n",
              "    }\n",
              "\n",
              "    [theme=dark] .colab-df-convert:hover {\n",
              "      background-color: #434B5C;\n",
              "      box-shadow: 0px 1px 3px 1px rgba(0, 0, 0, 0.15);\n",
              "      filter: drop-shadow(0px 1px 2px rgba(0, 0, 0, 0.3));\n",
              "      fill: #FFFFFF;\n",
              "    }\n",
              "  </style>\n",
              "\n",
              "    <script>\n",
              "      const buttonEl =\n",
              "        document.querySelector('#df-0c5c1b23-0aec-4b1a-9291-629a9674f275 button.colab-df-convert');\n",
              "      buttonEl.style.display =\n",
              "        google.colab.kernel.accessAllowed ? 'block' : 'none';\n",
              "\n",
              "      async function convertToInteractive(key) {\n",
              "        const element = document.querySelector('#df-0c5c1b23-0aec-4b1a-9291-629a9674f275');\n",
              "        const dataTable =\n",
              "          await google.colab.kernel.invokeFunction('convertToInteractive',\n",
              "                                                    [key], {});\n",
              "        if (!dataTable) return;\n",
              "\n",
              "        const docLinkHtml = 'Like what you see? Visit the ' +\n",
              "          '<a target=\"_blank\" href=https://colab.research.google.com/notebooks/data_table.ipynb>data table notebook</a>'\n",
              "          + ' to learn more about interactive tables.';\n",
              "        element.innerHTML = '';\n",
              "        dataTable['output_type'] = 'display_data';\n",
              "        await google.colab.output.renderOutput(dataTable, element);\n",
              "        const docLink = document.createElement('div');\n",
              "        docLink.innerHTML = docLinkHtml;\n",
              "        element.appendChild(docLink);\n",
              "      }\n",
              "    </script>\n",
              "  </div>\n",
              "\n",
              "\n",
              "<div id=\"df-6a9dfd9a-422f-4b73-8e57-cc7652cba69d\">\n",
              "  <button class=\"colab-df-quickchart\" onclick=\"quickchart('df-6a9dfd9a-422f-4b73-8e57-cc7652cba69d')\"\n",
              "            title=\"Suggest charts\"\n",
              "            style=\"display:none;\">\n",
              "\n",
              "<svg xmlns=\"http://www.w3.org/2000/svg\" height=\"24px\"viewBox=\"0 0 24 24\"\n",
              "     width=\"24px\">\n",
              "    <g>\n",
              "        <path d=\"M19 3H5c-1.1 0-2 .9-2 2v14c0 1.1.9 2 2 2h14c1.1 0 2-.9 2-2V5c0-1.1-.9-2-2-2zM9 17H7v-7h2v7zm4 0h-2V7h2v10zm4 0h-2v-4h2v4z\"/>\n",
              "    </g>\n",
              "</svg>\n",
              "  </button>\n",
              "\n",
              "<style>\n",
              "  .colab-df-quickchart {\n",
              "      --bg-color: #E8F0FE;\n",
              "      --fill-color: #1967D2;\n",
              "      --hover-bg-color: #E2EBFA;\n",
              "      --hover-fill-color: #174EA6;\n",
              "      --disabled-fill-color: #AAA;\n",
              "      --disabled-bg-color: #DDD;\n",
              "  }\n",
              "\n",
              "  [theme=dark] .colab-df-quickchart {\n",
              "      --bg-color: #3B4455;\n",
              "      --fill-color: #D2E3FC;\n",
              "      --hover-bg-color: #434B5C;\n",
              "      --hover-fill-color: #FFFFFF;\n",
              "      --disabled-bg-color: #3B4455;\n",
              "      --disabled-fill-color: #666;\n",
              "  }\n",
              "\n",
              "  .colab-df-quickchart {\n",
              "    background-color: var(--bg-color);\n",
              "    border: none;\n",
              "    border-radius: 50%;\n",
              "    cursor: pointer;\n",
              "    display: none;\n",
              "    fill: var(--fill-color);\n",
              "    height: 32px;\n",
              "    padding: 0;\n",
              "    width: 32px;\n",
              "  }\n",
              "\n",
              "  .colab-df-quickchart:hover {\n",
              "    background-color: var(--hover-bg-color);\n",
              "    box-shadow: 0 1px 2px rgba(60, 64, 67, 0.3), 0 1px 3px 1px rgba(60, 64, 67, 0.15);\n",
              "    fill: var(--button-hover-fill-color);\n",
              "  }\n",
              "\n",
              "  .colab-df-quickchart-complete:disabled,\n",
              "  .colab-df-quickchart-complete:disabled:hover {\n",
              "    background-color: var(--disabled-bg-color);\n",
              "    fill: var(--disabled-fill-color);\n",
              "    box-shadow: none;\n",
              "  }\n",
              "\n",
              "  .colab-df-spinner {\n",
              "    border: 2px solid var(--fill-color);\n",
              "    border-color: transparent;\n",
              "    border-bottom-color: var(--fill-color);\n",
              "    animation:\n",
              "      spin 1s steps(1) infinite;\n",
              "  }\n",
              "\n",
              "  @keyframes spin {\n",
              "    0% {\n",
              "      border-color: transparent;\n",
              "      border-bottom-color: var(--fill-color);\n",
              "      border-left-color: var(--fill-color);\n",
              "    }\n",
              "    20% {\n",
              "      border-color: transparent;\n",
              "      border-left-color: var(--fill-color);\n",
              "      border-top-color: var(--fill-color);\n",
              "    }\n",
              "    30% {\n",
              "      border-color: transparent;\n",
              "      border-left-color: var(--fill-color);\n",
              "      border-top-color: var(--fill-color);\n",
              "      border-right-color: var(--fill-color);\n",
              "    }\n",
              "    40% {\n",
              "      border-color: transparent;\n",
              "      border-right-color: var(--fill-color);\n",
              "      border-top-color: var(--fill-color);\n",
              "    }\n",
              "    60% {\n",
              "      border-color: transparent;\n",
              "      border-right-color: var(--fill-color);\n",
              "    }\n",
              "    80% {\n",
              "      border-color: transparent;\n",
              "      border-right-color: var(--fill-color);\n",
              "      border-bottom-color: var(--fill-color);\n",
              "    }\n",
              "    90% {\n",
              "      border-color: transparent;\n",
              "      border-bottom-color: var(--fill-color);\n",
              "    }\n",
              "  }\n",
              "</style>\n",
              "\n",
              "  <script>\n",
              "    async function quickchart(key) {\n",
              "      const quickchartButtonEl =\n",
              "        document.querySelector('#' + key + ' button');\n",
              "      quickchartButtonEl.disabled = true;  // To prevent multiple clicks.\n",
              "      quickchartButtonEl.classList.add('colab-df-spinner');\n",
              "      try {\n",
              "        const charts = await google.colab.kernel.invokeFunction(\n",
              "            'suggestCharts', [key], {});\n",
              "      } catch (error) {\n",
              "        console.error('Error during call to suggestCharts:', error);\n",
              "      }\n",
              "      quickchartButtonEl.classList.remove('colab-df-spinner');\n",
              "      quickchartButtonEl.classList.add('colab-df-quickchart-complete');\n",
              "    }\n",
              "    (() => {\n",
              "      let quickchartButtonEl =\n",
              "        document.querySelector('#df-6a9dfd9a-422f-4b73-8e57-cc7652cba69d button');\n",
              "      quickchartButtonEl.style.display =\n",
              "        google.colab.kernel.accessAllowed ? 'block' : 'none';\n",
              "    })();\n",
              "  </script>\n",
              "</div>\n",
              "\n",
              "    </div>\n",
              "  </div>\n"
            ],
            "application/vnd.google.colaboratory.intrinsic+json": {
              "type": "dataframe",
              "summary": "{\n  \"name\": \"taxi_data\",\n  \"rows\": 8,\n  \"fields\": [\n    {\n      \"column\": \"vendor_id\",\n      \"properties\": {\n        \"dtype\": \"number\",\n        \"std\": 515708.0250890787,\n        \"min\": 0.4987771539074,\n        \"max\": 1458644.0,\n        \"num_unique_values\": 5,\n        \"samples\": [\n          1.5349502688798637,\n          0.4987771539074,\n          1.0\n        ],\n        \"semantic_type\": \"\",\n        \"description\": \"\"\n      }\n    },\n    {\n      \"column\": \"pickup_datetime\",\n      \"properties\": {\n        \"dtype\": \"date\",\n        \"min\": \"1970-01-01 00:00:00.001458644\",\n        \"max\": \"2016-06-30 23:59:39\",\n        \"num_unique_values\": 7,\n        \"samples\": [\n          \"1458644\",\n          \"2016-04-01 10:10:24.940037120\",\n          \"2016-05-15 03:56:08.750000128\"\n        ],\n        \"semantic_type\": \"\",\n        \"description\": \"\"\n      }\n    },\n    {\n      \"column\": \"passenger_count\",\n      \"properties\": {\n        \"dtype\": \"number\",\n        \"std\": 515707.7248263122,\n        \"min\": 0.0,\n        \"max\": 1458644.0,\n        \"num_unique_values\": 7,\n        \"samples\": [\n          1458644.0,\n          1.6645295219395548,\n          9.0\n        ],\n        \"semantic_type\": \"\",\n        \"description\": \"\"\n      }\n    },\n    {\n      \"column\": \"pickup_longitude\",\n      \"properties\": {\n        \"dtype\": \"number\",\n        \"std\": 515732.73176924884,\n        \"min\": -121.93334197998048,\n        \"max\": 1458644.0,\n        \"num_unique_values\": 8,\n        \"samples\": [\n          -73.97348630489282,\n          -73.96733093261719,\n          1458644.0\n        ],\n        \"semantic_type\": \"\",\n        \"description\": \"\"\n      }\n    },\n    {\n      \"column\": \"pickup_latitude\",\n      \"properties\": {\n        \"dtype\": \"number\",\n        \"std\": 515695.94133236835,\n        \"min\": 0.032881186257633054,\n        \"max\": 1458644.0,\n        \"num_unique_values\": 8,\n        \"samples\": [\n          40.750920908391734,\n          40.768360137939446,\n          1458644.0\n        ],\n        \"semantic_type\": \"\",\n        \"description\": \"\"\n      }\n    },\n    {\n      \"column\": \"dropoff_longitude\",\n      \"properties\": {\n        \"dtype\": \"number\",\n        \"std\": 515732.7314307756,\n        \"min\": -121.9333038330078,\n        \"max\": 1458644.0,\n        \"num_unique_values\": 8,\n        \"samples\": [\n          -73.9734159469458,\n          -73.9630126953125,\n          1458644.0\n        ],\n        \"semantic_type\": \"\",\n        \"description\": \"\"\n      }\n    },\n    {\n      \"column\": \"dropoff_latitude\",\n      \"properties\": {\n        \"dtype\": \"number\",\n        \"std\": 515696.4531646672,\n        \"min\": 0.03589055560563689,\n        \"max\": 1458644.0,\n        \"num_unique_values\": 8,\n        \"samples\": [\n          40.7517995149002,\n          40.76980972290039,\n          1458644.0\n        ],\n        \"semantic_type\": \"\",\n        \"description\": \"\"\n      }\n    },\n    {\n      \"column\": \"trip_duration\",\n      \"properties\": {\n        \"dtype\": \"number\",\n        \"std\": 1278713.5878413154,\n        \"min\": 1.0,\n        \"max\": 3526282.0,\n        \"num_unique_values\": 8,\n        \"samples\": [\n          959.4922729603659,\n          1075.0,\n          1458644.0\n        ],\n        \"semantic_type\": \"\",\n        \"description\": \"\"\n      }\n    }\n  ]\n}"
            }
          },
          "metadata": {},
          "execution_count": 343
        }
      ],
      "source": [
        "pd.options.display.float_format = '{:,.3f}'.format # Сделаем нормальное отображение цифр\n",
        "taxi_data.describe()"
      ]
    },
    {
      "cell_type": "markdown",
      "source": [
        "а) В данных есть **2** уникальных таксопарка.\n",
        "\n",
        "б) Максимальное количество пассажиров - **9**.\n",
        "\n",
        "в) Средняя длительность поездки - **959** секунд, медианная - **662** секунды.\n",
        "\n",
        "г) Минимальное время поездки - **1** секунда, максимальное - **3526282** секунд.\n",
        "\n",
        "\n",
        "9 пассажиров в одном такси выглядит странновато. Неужели наши таксисты нарушают ПДД? Впрочем, 0 пассажиров мы тоже здесь встретим.\n",
        "\n",
        "Минимальное и максимальное время поездки тоже вызывают вопросы, будем разбираться с этим дальше."
      ],
      "metadata": {
        "id": "ELYbJnjVI0Sm"
      }
    },
    {
      "cell_type": "markdown",
      "metadata": {
        "id": "JhUgalQSkBLk"
      },
      "source": [
        "Займемся расширением исходного набора данных как с помощью внешних источников, так и с помощью манипуляций над имеющимися в данных признаками.\n"
      ]
    },
    {
      "cell_type": "markdown",
      "metadata": {
        "id": "riVyyTGRkBLk"
      },
      "source": [
        "### Задание 2.4\n",
        "Реализуйте функцию add_datetime_features(), которая принимает на вход таблицу с данными о поездках (DataFrame) и возвращает ту же таблицу с добавленными в нее 3 столбцами:\n",
        "* pickup_date - дата включения счетчика - начала поездки (без времени);\n",
        "* pickup_hour - час дня включения счетчика;\n",
        "* pickup_day_of_week - порядковый номер дня недели (число), в который был включен счетчик.\n",
        "\n",
        "а) Сколько поездок было совершено в субботу?\n",
        "\n",
        "б) Сколько поездок в среднем совершается в день? Ответ округлите до целого"
      ]
    },
    {
      "cell_type": "code",
      "source": [
        "taxi_data['pickup_date'] = taxi_data['pickup_datetime'].dt.date\n",
        "taxi_data['pickup_hour'] = taxi_data['pickup_datetime'].dt.hour\n",
        "taxi_data['pickup_day_of_week'] = taxi_data['pickup_datetime'].dt.weekday"
      ],
      "metadata": {
        "id": "EXd33KOZMjID"
      },
      "execution_count": null,
      "outputs": []
    },
    {
      "cell_type": "code",
      "source": [
        "taxi_data['pickup_day_of_week'].value_counts()"
      ],
      "metadata": {
        "colab": {
          "base_uri": "https://localhost:8080/"
        },
        "id": "d7aGj5VhPmJA",
        "outputId": "b5bf8f96-823c-46f5-d3eb-3d84a0ddde13"
      },
      "execution_count": null,
      "outputs": [
        {
          "output_type": "execute_result",
          "data": {
            "text/plain": [
              "pickup_day_of_week\n",
              "4    223533\n",
              "5    220868\n",
              "3    218574\n",
              "2    210136\n",
              "1    202749\n",
              "6    195366\n",
              "0    187418\n",
              "Name: count, dtype: int64"
            ]
          },
          "metadata": {},
          "execution_count": 345
        }
      ]
    },
    {
      "cell_type": "code",
      "source": [
        "taxi_data['id'].count() / taxi_data['pickup_date'].nunique()"
      ],
      "metadata": {
        "colab": {
          "base_uri": "https://localhost:8080/"
        },
        "id": "bu3UVRfFNtP-",
        "outputId": "89058b89-6ca9-4545-db3e-26253b854d84"
      },
      "execution_count": null,
      "outputs": [
        {
          "output_type": "execute_result",
          "data": {
            "text/plain": [
              "8014.527472527472"
            ]
          },
          "metadata": {},
          "execution_count": 346
        }
      ]
    },
    {
      "cell_type": "markdown",
      "source": [
        "а) В субботу было совершено **220868 поездок**.\n",
        "\n",
        "б) В среднем в день совершается **8015 поездок**."
      ],
      "metadata": {
        "id": "g_2W01TFQwgg"
      }
    },
    {
      "cell_type": "markdown",
      "metadata": {
        "id": "5rCk6lyTkBLl"
      },
      "source": [
        "### Задание 2.5\n",
        "Реализуйте функцию add_holiday_features(), которая принимает на вход две таблицы:\n",
        "* таблицу с данными о поездках;\n",
        "* таблицу с данными о праздничных днях;\n",
        "\n",
        "и возвращает обновленную таблицу с данными о поездках с добавленным в нее столбцом pickup_holiday - бинарным признаком того, начата ли поездка в праздничный день или нет (1 - да, 0 - нет).\n",
        "\n",
        "Чему равна медианная длительность поездки на такси в праздничные дни? Ответ приведите в секундах, округлив до целого.\n"
      ]
    },
    {
      "cell_type": "code",
      "source": [
        "gdown.download(id='1dgclPFmCHatMIGQig9UHrpbYRi2v-Ne-', output='data/holiday_data.csv') # Скачаем датасет праздников и поместим по адресу 'data/holiday_data.csv'"
      ],
      "metadata": {
        "colab": {
          "base_uri": "https://localhost:8080/",
          "height": 107
        },
        "id": "aT4shx4EY9uq",
        "outputId": "4d2dfbe1-bca1-41fc-f473-dcaea5e63e0b"
      },
      "execution_count": null,
      "outputs": [
        {
          "output_type": "stream",
          "name": "stderr",
          "text": [
            "Downloading...\n",
            "From: https://drive.google.com/uc?id=1dgclPFmCHatMIGQig9UHrpbYRi2v-Ne-\n",
            "To: /content/data/holiday_data.csv\n",
            "100%|██████████| 508/508 [00:00<00:00, 1.44MB/s]\n"
          ]
        },
        {
          "output_type": "execute_result",
          "data": {
            "text/plain": [
              "'data/holiday_data.csv'"
            ],
            "application/vnd.google.colaboratory.intrinsic+json": {
              "type": "string"
            }
          },
          "metadata": {},
          "execution_count": 347
        }
      ]
    },
    {
      "cell_type": "code",
      "execution_count": null,
      "metadata": {
        "id": "ZnPWsSMukBLl"
      },
      "outputs": [],
      "source": [
        "holiday_data = pd.read_csv('data/holiday_data.csv', sep=';')"
      ]
    },
    {
      "cell_type": "code",
      "source": [
        "# Преобразуем столбец 'pickup_date' таблицы taxi_data в формат datetime\n",
        "taxi_data['pickup_date'] = pd.to_datetime(taxi_data['pickup_date'], format='%Y-%m-%d')\n",
        "\n",
        "# Преобразуем столбец 'date' таблицы holiday_data в формат datetime\n",
        "holiday_data['date'] = pd.to_datetime(holiday_data['date'], format='%Y-%m-%d')\n",
        "\n",
        "# Смержим в новый датафрейм таблицы taxi_data и holiday_data на основании даты\n",
        "DF = taxi_data.merge(holiday_data['date'], how='left', left_on='pickup_date', right_on='date')\n",
        "\n",
        "# Добавим новый столбец 'pickup_holiday', в котором будет 1, если в столбце 'date' есть дата, иначе 0.\n",
        "DF['pickup_holiday'] = DF['date'].apply(lambda x: 0 if pd.isnull(x) else 1)\n",
        "\n",
        "# Удалим теперь ненужный нам столбец 'date'\n",
        "DF.drop('date', axis= 1 , inplace= True)"
      ],
      "metadata": {
        "id": "ooQLtQi8ZuYf"
      },
      "execution_count": null,
      "outputs": []
    },
    {
      "cell_type": "code",
      "source": [
        "DF.query('pickup_holiday == 1').describe()"
      ],
      "metadata": {
        "colab": {
          "base_uri": "https://localhost:8080/",
          "height": 424
        },
        "id": "HeK-oslPlqyc",
        "outputId": "f2110854-7e1f-44cf-9e71-782328bf73c3"
      },
      "execution_count": null,
      "outputs": [
        {
          "output_type": "execute_result",
          "data": {
            "text/plain": [
              "       vendor_id                pickup_datetime  passenger_count  \\\n",
              "count 51,122.000                          51122       51,122.000   \n",
              "mean       1.545  2016-03-16 22:28:50.665447424            1.704   \n",
              "min        1.000            2016-01-01 00:00:17            0.000   \n",
              "25%        1.000  2016-01-18 19:34:06.750000128            1.000   \n",
              "50%        2.000            2016-02-15 11:05:11            1.000   \n",
              "75%        2.000  2016-05-08 22:57:53.249999872            2.000   \n",
              "max        2.000            2016-06-19 23:59:56            8.000   \n",
              "std        0.498                            NaN            1.324   \n",
              "\n",
              "       pickup_longitude  pickup_latitude  dropoff_longitude  dropoff_latitude  \\\n",
              "count        51,122.000       51,122.000         51,122.000        51,122.000   \n",
              "mean            -73.972           40.750            -73.972            40.751   \n",
              "min             -75.241           40.100            -75.570            36.398   \n",
              "25%             -73.992           40.736            -73.992            40.734   \n",
              "50%             -73.982           40.753            -73.980            40.754   \n",
              "75%             -73.967           40.768            -73.961            40.770   \n",
              "max             -73.428           41.431            -70.346            41.201   \n",
              "std               0.042            0.030              0.043             0.039   \n",
              "\n",
              "       trip_duration                    pickup_date  pickup_hour  \\\n",
              "count     51,122.000                          51122   51,122.000   \n",
              "mean         867.610  2016-03-16 09:01:24.926254848       12.956   \n",
              "min            2.000            2016-01-01 00:00:00        0.000   \n",
              "25%          356.000            2016-01-18 00:00:00        9.000   \n",
              "50%          585.000            2016-02-15 00:00:00       14.000   \n",
              "75%          964.000            2016-05-08 00:00:00       18.000   \n",
              "max       86,392.000            2016-06-19 00:00:00       23.000   \n",
              "std        3,123.483                            NaN        6.708   \n",
              "\n",
              "       pickup_day_of_week  pickup_holiday  \n",
              "count          51,122.000      51,122.000  \n",
              "mean                3.006           1.000  \n",
              "min                 0.000           1.000  \n",
              "25%                 0.000           1.000  \n",
              "50%                 4.000           1.000  \n",
              "75%                 6.000           1.000  \n",
              "max                 6.000           1.000  \n",
              "std                 2.540           0.000  "
            ],
            "text/html": [
              "\n",
              "  <div id=\"df-273f382e-d41e-46b2-89e8-c34f8dc29901\" class=\"colab-df-container\">\n",
              "    <div>\n",
              "<style scoped>\n",
              "    .dataframe tbody tr th:only-of-type {\n",
              "        vertical-align: middle;\n",
              "    }\n",
              "\n",
              "    .dataframe tbody tr th {\n",
              "        vertical-align: top;\n",
              "    }\n",
              "\n",
              "    .dataframe thead th {\n",
              "        text-align: right;\n",
              "    }\n",
              "</style>\n",
              "<table border=\"1\" class=\"dataframe\">\n",
              "  <thead>\n",
              "    <tr style=\"text-align: right;\">\n",
              "      <th></th>\n",
              "      <th>vendor_id</th>\n",
              "      <th>pickup_datetime</th>\n",
              "      <th>passenger_count</th>\n",
              "      <th>pickup_longitude</th>\n",
              "      <th>pickup_latitude</th>\n",
              "      <th>dropoff_longitude</th>\n",
              "      <th>dropoff_latitude</th>\n",
              "      <th>trip_duration</th>\n",
              "      <th>pickup_date</th>\n",
              "      <th>pickup_hour</th>\n",
              "      <th>pickup_day_of_week</th>\n",
              "      <th>pickup_holiday</th>\n",
              "    </tr>\n",
              "  </thead>\n",
              "  <tbody>\n",
              "    <tr>\n",
              "      <th>count</th>\n",
              "      <td>51,122.000</td>\n",
              "      <td>51122</td>\n",
              "      <td>51,122.000</td>\n",
              "      <td>51,122.000</td>\n",
              "      <td>51,122.000</td>\n",
              "      <td>51,122.000</td>\n",
              "      <td>51,122.000</td>\n",
              "      <td>51,122.000</td>\n",
              "      <td>51122</td>\n",
              "      <td>51,122.000</td>\n",
              "      <td>51,122.000</td>\n",
              "      <td>51,122.000</td>\n",
              "    </tr>\n",
              "    <tr>\n",
              "      <th>mean</th>\n",
              "      <td>1.545</td>\n",
              "      <td>2016-03-16 22:28:50.665447424</td>\n",
              "      <td>1.704</td>\n",
              "      <td>-73.972</td>\n",
              "      <td>40.750</td>\n",
              "      <td>-73.972</td>\n",
              "      <td>40.751</td>\n",
              "      <td>867.610</td>\n",
              "      <td>2016-03-16 09:01:24.926254848</td>\n",
              "      <td>12.956</td>\n",
              "      <td>3.006</td>\n",
              "      <td>1.000</td>\n",
              "    </tr>\n",
              "    <tr>\n",
              "      <th>min</th>\n",
              "      <td>1.000</td>\n",
              "      <td>2016-01-01 00:00:17</td>\n",
              "      <td>0.000</td>\n",
              "      <td>-75.241</td>\n",
              "      <td>40.100</td>\n",
              "      <td>-75.570</td>\n",
              "      <td>36.398</td>\n",
              "      <td>2.000</td>\n",
              "      <td>2016-01-01 00:00:00</td>\n",
              "      <td>0.000</td>\n",
              "      <td>0.000</td>\n",
              "      <td>1.000</td>\n",
              "    </tr>\n",
              "    <tr>\n",
              "      <th>25%</th>\n",
              "      <td>1.000</td>\n",
              "      <td>2016-01-18 19:34:06.750000128</td>\n",
              "      <td>1.000</td>\n",
              "      <td>-73.992</td>\n",
              "      <td>40.736</td>\n",
              "      <td>-73.992</td>\n",
              "      <td>40.734</td>\n",
              "      <td>356.000</td>\n",
              "      <td>2016-01-18 00:00:00</td>\n",
              "      <td>9.000</td>\n",
              "      <td>0.000</td>\n",
              "      <td>1.000</td>\n",
              "    </tr>\n",
              "    <tr>\n",
              "      <th>50%</th>\n",
              "      <td>2.000</td>\n",
              "      <td>2016-02-15 11:05:11</td>\n",
              "      <td>1.000</td>\n",
              "      <td>-73.982</td>\n",
              "      <td>40.753</td>\n",
              "      <td>-73.980</td>\n",
              "      <td>40.754</td>\n",
              "      <td>585.000</td>\n",
              "      <td>2016-02-15 00:00:00</td>\n",
              "      <td>14.000</td>\n",
              "      <td>4.000</td>\n",
              "      <td>1.000</td>\n",
              "    </tr>\n",
              "    <tr>\n",
              "      <th>75%</th>\n",
              "      <td>2.000</td>\n",
              "      <td>2016-05-08 22:57:53.249999872</td>\n",
              "      <td>2.000</td>\n",
              "      <td>-73.967</td>\n",
              "      <td>40.768</td>\n",
              "      <td>-73.961</td>\n",
              "      <td>40.770</td>\n",
              "      <td>964.000</td>\n",
              "      <td>2016-05-08 00:00:00</td>\n",
              "      <td>18.000</td>\n",
              "      <td>6.000</td>\n",
              "      <td>1.000</td>\n",
              "    </tr>\n",
              "    <tr>\n",
              "      <th>max</th>\n",
              "      <td>2.000</td>\n",
              "      <td>2016-06-19 23:59:56</td>\n",
              "      <td>8.000</td>\n",
              "      <td>-73.428</td>\n",
              "      <td>41.431</td>\n",
              "      <td>-70.346</td>\n",
              "      <td>41.201</td>\n",
              "      <td>86,392.000</td>\n",
              "      <td>2016-06-19 00:00:00</td>\n",
              "      <td>23.000</td>\n",
              "      <td>6.000</td>\n",
              "      <td>1.000</td>\n",
              "    </tr>\n",
              "    <tr>\n",
              "      <th>std</th>\n",
              "      <td>0.498</td>\n",
              "      <td>NaN</td>\n",
              "      <td>1.324</td>\n",
              "      <td>0.042</td>\n",
              "      <td>0.030</td>\n",
              "      <td>0.043</td>\n",
              "      <td>0.039</td>\n",
              "      <td>3,123.483</td>\n",
              "      <td>NaN</td>\n",
              "      <td>6.708</td>\n",
              "      <td>2.540</td>\n",
              "      <td>0.000</td>\n",
              "    </tr>\n",
              "  </tbody>\n",
              "</table>\n",
              "</div>\n",
              "    <div class=\"colab-df-buttons\">\n",
              "\n",
              "  <div class=\"colab-df-container\">\n",
              "    <button class=\"colab-df-convert\" onclick=\"convertToInteractive('df-273f382e-d41e-46b2-89e8-c34f8dc29901')\"\n",
              "            title=\"Convert this dataframe to an interactive table.\"\n",
              "            style=\"display:none;\">\n",
              "\n",
              "  <svg xmlns=\"http://www.w3.org/2000/svg\" height=\"24px\" viewBox=\"0 -960 960 960\">\n",
              "    <path d=\"M120-120v-720h720v720H120Zm60-500h600v-160H180v160Zm220 220h160v-160H400v160Zm0 220h160v-160H400v160ZM180-400h160v-160H180v160Zm440 0h160v-160H620v160ZM180-180h160v-160H180v160Zm440 0h160v-160H620v160Z\"/>\n",
              "  </svg>\n",
              "    </button>\n",
              "\n",
              "  <style>\n",
              "    .colab-df-container {\n",
              "      display:flex;\n",
              "      gap: 12px;\n",
              "    }\n",
              "\n",
              "    .colab-df-convert {\n",
              "      background-color: #E8F0FE;\n",
              "      border: none;\n",
              "      border-radius: 50%;\n",
              "      cursor: pointer;\n",
              "      display: none;\n",
              "      fill: #1967D2;\n",
              "      height: 32px;\n",
              "      padding: 0 0 0 0;\n",
              "      width: 32px;\n",
              "    }\n",
              "\n",
              "    .colab-df-convert:hover {\n",
              "      background-color: #E2EBFA;\n",
              "      box-shadow: 0px 1px 2px rgba(60, 64, 67, 0.3), 0px 1px 3px 1px rgba(60, 64, 67, 0.15);\n",
              "      fill: #174EA6;\n",
              "    }\n",
              "\n",
              "    .colab-df-buttons div {\n",
              "      margin-bottom: 4px;\n",
              "    }\n",
              "\n",
              "    [theme=dark] .colab-df-convert {\n",
              "      background-color: #3B4455;\n",
              "      fill: #D2E3FC;\n",
              "    }\n",
              "\n",
              "    [theme=dark] .colab-df-convert:hover {\n",
              "      background-color: #434B5C;\n",
              "      box-shadow: 0px 1px 3px 1px rgba(0, 0, 0, 0.15);\n",
              "      filter: drop-shadow(0px 1px 2px rgba(0, 0, 0, 0.3));\n",
              "      fill: #FFFFFF;\n",
              "    }\n",
              "  </style>\n",
              "\n",
              "    <script>\n",
              "      const buttonEl =\n",
              "        document.querySelector('#df-273f382e-d41e-46b2-89e8-c34f8dc29901 button.colab-df-convert');\n",
              "      buttonEl.style.display =\n",
              "        google.colab.kernel.accessAllowed ? 'block' : 'none';\n",
              "\n",
              "      async function convertToInteractive(key) {\n",
              "        const element = document.querySelector('#df-273f382e-d41e-46b2-89e8-c34f8dc29901');\n",
              "        const dataTable =\n",
              "          await google.colab.kernel.invokeFunction('convertToInteractive',\n",
              "                                                    [key], {});\n",
              "        if (!dataTable) return;\n",
              "\n",
              "        const docLinkHtml = 'Like what you see? Visit the ' +\n",
              "          '<a target=\"_blank\" href=https://colab.research.google.com/notebooks/data_table.ipynb>data table notebook</a>'\n",
              "          + ' to learn more about interactive tables.';\n",
              "        element.innerHTML = '';\n",
              "        dataTable['output_type'] = 'display_data';\n",
              "        await google.colab.output.renderOutput(dataTable, element);\n",
              "        const docLink = document.createElement('div');\n",
              "        docLink.innerHTML = docLinkHtml;\n",
              "        element.appendChild(docLink);\n",
              "      }\n",
              "    </script>\n",
              "  </div>\n",
              "\n",
              "\n",
              "<div id=\"df-b3d345cf-64e6-4805-a311-ca9f0df10e10\">\n",
              "  <button class=\"colab-df-quickchart\" onclick=\"quickchart('df-b3d345cf-64e6-4805-a311-ca9f0df10e10')\"\n",
              "            title=\"Suggest charts\"\n",
              "            style=\"display:none;\">\n",
              "\n",
              "<svg xmlns=\"http://www.w3.org/2000/svg\" height=\"24px\"viewBox=\"0 0 24 24\"\n",
              "     width=\"24px\">\n",
              "    <g>\n",
              "        <path d=\"M19 3H5c-1.1 0-2 .9-2 2v14c0 1.1.9 2 2 2h14c1.1 0 2-.9 2-2V5c0-1.1-.9-2-2-2zM9 17H7v-7h2v7zm4 0h-2V7h2v10zm4 0h-2v-4h2v4z\"/>\n",
              "    </g>\n",
              "</svg>\n",
              "  </button>\n",
              "\n",
              "<style>\n",
              "  .colab-df-quickchart {\n",
              "      --bg-color: #E8F0FE;\n",
              "      --fill-color: #1967D2;\n",
              "      --hover-bg-color: #E2EBFA;\n",
              "      --hover-fill-color: #174EA6;\n",
              "      --disabled-fill-color: #AAA;\n",
              "      --disabled-bg-color: #DDD;\n",
              "  }\n",
              "\n",
              "  [theme=dark] .colab-df-quickchart {\n",
              "      --bg-color: #3B4455;\n",
              "      --fill-color: #D2E3FC;\n",
              "      --hover-bg-color: #434B5C;\n",
              "      --hover-fill-color: #FFFFFF;\n",
              "      --disabled-bg-color: #3B4455;\n",
              "      --disabled-fill-color: #666;\n",
              "  }\n",
              "\n",
              "  .colab-df-quickchart {\n",
              "    background-color: var(--bg-color);\n",
              "    border: none;\n",
              "    border-radius: 50%;\n",
              "    cursor: pointer;\n",
              "    display: none;\n",
              "    fill: var(--fill-color);\n",
              "    height: 32px;\n",
              "    padding: 0;\n",
              "    width: 32px;\n",
              "  }\n",
              "\n",
              "  .colab-df-quickchart:hover {\n",
              "    background-color: var(--hover-bg-color);\n",
              "    box-shadow: 0 1px 2px rgba(60, 64, 67, 0.3), 0 1px 3px 1px rgba(60, 64, 67, 0.15);\n",
              "    fill: var(--button-hover-fill-color);\n",
              "  }\n",
              "\n",
              "  .colab-df-quickchart-complete:disabled,\n",
              "  .colab-df-quickchart-complete:disabled:hover {\n",
              "    background-color: var(--disabled-bg-color);\n",
              "    fill: var(--disabled-fill-color);\n",
              "    box-shadow: none;\n",
              "  }\n",
              "\n",
              "  .colab-df-spinner {\n",
              "    border: 2px solid var(--fill-color);\n",
              "    border-color: transparent;\n",
              "    border-bottom-color: var(--fill-color);\n",
              "    animation:\n",
              "      spin 1s steps(1) infinite;\n",
              "  }\n",
              "\n",
              "  @keyframes spin {\n",
              "    0% {\n",
              "      border-color: transparent;\n",
              "      border-bottom-color: var(--fill-color);\n",
              "      border-left-color: var(--fill-color);\n",
              "    }\n",
              "    20% {\n",
              "      border-color: transparent;\n",
              "      border-left-color: var(--fill-color);\n",
              "      border-top-color: var(--fill-color);\n",
              "    }\n",
              "    30% {\n",
              "      border-color: transparent;\n",
              "      border-left-color: var(--fill-color);\n",
              "      border-top-color: var(--fill-color);\n",
              "      border-right-color: var(--fill-color);\n",
              "    }\n",
              "    40% {\n",
              "      border-color: transparent;\n",
              "      border-right-color: var(--fill-color);\n",
              "      border-top-color: var(--fill-color);\n",
              "    }\n",
              "    60% {\n",
              "      border-color: transparent;\n",
              "      border-right-color: var(--fill-color);\n",
              "    }\n",
              "    80% {\n",
              "      border-color: transparent;\n",
              "      border-right-color: var(--fill-color);\n",
              "      border-bottom-color: var(--fill-color);\n",
              "    }\n",
              "    90% {\n",
              "      border-color: transparent;\n",
              "      border-bottom-color: var(--fill-color);\n",
              "    }\n",
              "  }\n",
              "</style>\n",
              "\n",
              "  <script>\n",
              "    async function quickchart(key) {\n",
              "      const quickchartButtonEl =\n",
              "        document.querySelector('#' + key + ' button');\n",
              "      quickchartButtonEl.disabled = true;  // To prevent multiple clicks.\n",
              "      quickchartButtonEl.classList.add('colab-df-spinner');\n",
              "      try {\n",
              "        const charts = await google.colab.kernel.invokeFunction(\n",
              "            'suggestCharts', [key], {});\n",
              "      } catch (error) {\n",
              "        console.error('Error during call to suggestCharts:', error);\n",
              "      }\n",
              "      quickchartButtonEl.classList.remove('colab-df-spinner');\n",
              "      quickchartButtonEl.classList.add('colab-df-quickchart-complete');\n",
              "    }\n",
              "    (() => {\n",
              "      let quickchartButtonEl =\n",
              "        document.querySelector('#df-b3d345cf-64e6-4805-a311-ca9f0df10e10 button');\n",
              "      quickchartButtonEl.style.display =\n",
              "        google.colab.kernel.accessAllowed ? 'block' : 'none';\n",
              "    })();\n",
              "  </script>\n",
              "</div>\n",
              "\n",
              "    </div>\n",
              "  </div>\n"
            ],
            "application/vnd.google.colaboratory.intrinsic+json": {
              "type": "dataframe",
              "summary": "{\n  \"name\": \"DF\",\n  \"rows\": 8,\n  \"fields\": [\n    {\n      \"column\": \"vendor_id\",\n      \"properties\": {\n        \"dtype\": \"number\",\n        \"std\": 18073.849215153397,\n        \"min\": 0.49801356186490703,\n        \"max\": 51122.0,\n        \"num_unique_values\": 5,\n        \"samples\": [\n          1.5445796330347012,\n          0.49801356186490703,\n          1.0\n        ],\n        \"semantic_type\": \"\",\n        \"description\": \"\"\n      }\n    },\n    {\n      \"column\": \"pickup_datetime\",\n      \"properties\": {\n        \"dtype\": \"date\",\n        \"min\": \"1970-01-01 00:00:00.000051122\",\n        \"max\": \"2016-06-19 23:59:56\",\n        \"num_unique_values\": 7,\n        \"samples\": [\n          \"51122\",\n          \"2016-03-16 22:28:50.665447424\",\n          \"2016-05-08 22:57:53.249999872\"\n        ],\n        \"semantic_type\": \"\",\n        \"description\": \"\"\n      }\n    },\n    {\n      \"column\": \"passenger_count\",\n      \"properties\": {\n        \"dtype\": \"number\",\n        \"std\": 18073.59755121741,\n        \"min\": 0.0,\n        \"max\": 51122.0,\n        \"num_unique_values\": 7,\n        \"samples\": [\n          51122.0,\n          1.7043738507883104,\n          8.0\n        ],\n        \"semantic_type\": \"\",\n        \"description\": \"\"\n      }\n    },\n    {\n      \"column\": \"pickup_longitude\",\n      \"properties\": {\n        \"dtype\": \"number\",\n        \"std\": 18096.827768214636,\n        \"min\": -75.24149322509764,\n        \"max\": 51122.0,\n        \"num_unique_values\": 8,\n        \"samples\": [\n          -73.9721343805801,\n          -73.96689605712889,\n          51122.0\n        ],\n        \"semantic_type\": \"\",\n        \"description\": \"\"\n      }\n    },\n    {\n      \"column\": \"pickup_latitude\",\n      \"properties\": {\n        \"dtype\": \"number\",\n        \"std\": 18062.00956862014,\n        \"min\": 0.029791757566586457,\n        \"max\": 51122.0,\n        \"num_unique_values\": 8,\n        \"samples\": [\n          40.75004905634123,\n          40.768202781677246,\n          51122.0\n        ],\n        \"semantic_type\": \"\",\n        \"description\": \"\"\n      }\n    },\n    {\n      \"column\": \"dropoff_longitude\",\n      \"properties\": {\n        \"dtype\": \"number\",\n        \"std\": 18096.688018204077,\n        \"min\": -75.57015228271484,\n        \"max\": 51122.0,\n        \"num_unique_values\": 8,\n        \"samples\": [\n          -73.97200872823389,\n          -73.96092987060547,\n          51122.0\n        ],\n        \"semantic_type\": \"\",\n        \"description\": \"\"\n      }\n    },\n    {\n      \"column\": \"dropoff_latitude\",\n      \"properties\": {\n        \"dtype\": \"number\",\n        \"std\": 18062.207376650356,\n        \"min\": 0.03923012323483041,\n        \"max\": 51122.0,\n        \"num_unique_values\": 8,\n        \"samples\": [\n          40.751210267963245,\n          40.769911766052246,\n          51122.0\n        ],\n        \"semantic_type\": \"\",\n        \"description\": \"\"\n      }\n    },\n    {\n      \"column\": \"trip_duration\",\n      \"properties\": {\n        \"dtype\": \"number\",\n        \"std\": 32772.08121105527,\n        \"min\": 2.0,\n        \"max\": 86392.0,\n        \"num_unique_values\": 8,\n        \"samples\": [\n          867.6102069559093,\n          964.0,\n          51122.0\n        ],\n        \"semantic_type\": \"\",\n        \"description\": \"\"\n      }\n    },\n    {\n      \"column\": \"pickup_date\",\n      \"properties\": {\n        \"dtype\": \"date\",\n        \"min\": \"1970-01-01 00:00:00.000051122\",\n        \"max\": \"2016-06-19 00:00:00\",\n        \"num_unique_values\": 7,\n        \"samples\": [\n          \"51122\",\n          \"2016-03-16 09:01:24.926254848\",\n          \"2016-05-08 00:00:00\"\n        ],\n        \"semantic_type\": \"\",\n        \"description\": \"\"\n      }\n    },\n    {\n      \"column\": \"pickup_hour\",\n      \"properties\": {\n        \"dtype\": \"number\",\n        \"std\": 18070.13210888886,\n        \"min\": 0.0,\n        \"max\": 51122.0,\n        \"num_unique_values\": 8,\n        \"samples\": [\n          12.9561050037166,\n          18.0,\n          51122.0\n        ],\n        \"semantic_type\": \"\",\n        \"description\": \"\"\n      }\n    },\n    {\n      \"column\": \"pickup_day_of_week\",\n      \"properties\": {\n        \"dtype\": \"number\",\n        \"std\": 18073.26833389294,\n        \"min\": 0.0,\n        \"max\": 51122.0,\n        \"num_unique_values\": 6,\n        \"samples\": [\n          51122.0,\n          3.0057118266108525,\n          2.5404777798184286\n        ],\n        \"semantic_type\": \"\",\n        \"description\": \"\"\n      }\n    },\n    {\n      \"column\": \"pickup_holiday\",\n      \"properties\": {\n        \"dtype\": \"number\",\n        \"std\": 18074.0533915334,\n        \"min\": 0.0,\n        \"max\": 51122.0,\n        \"num_unique_values\": 3,\n        \"samples\": [\n          51122.0,\n          1.0,\n          0.0\n        ],\n        \"semantic_type\": \"\",\n        \"description\": \"\"\n      }\n    }\n  ]\n}"
            }
          },
          "metadata": {},
          "execution_count": 350
        }
      ]
    },
    {
      "cell_type": "markdown",
      "source": [
        "Медианная длительность поездки на такси в праздничные дни составляет **585 секунд**."
      ],
      "metadata": {
        "id": "blbadUaHnGAT"
      }
    },
    {
      "cell_type": "markdown",
      "metadata": {
        "id": "YPxMlVMAkBLl"
      },
      "source": [
        "### Задание 2.6\n",
        "Реализуйте функцию add_osrm_features(), которая принимает на вход две таблицы:\n",
        "* таблицу с данными о поездках;\n",
        "* таблицу с данными из OSRM;\n",
        "\n",
        "и возвращает обновленную таблицу с данными о поездках с добавленными в нее 3 столбцами:\n",
        "* total_distance;\n",
        "* total_travel_time;\n",
        "* number_of_steps.\n",
        "\n",
        "а) Чему равна разница (в секундах) между медианной длительностью поездки в данных и медианной длительностью поездки, полученной из OSRM?\n",
        "\n",
        "В результате объединения таблиц у вас должны были получиться пропуски в столбцах с информацией из OSRM API. Это связано с тем, что для некоторых поездок не удалось выгрузить данные из веб источника.\n",
        "\n",
        "б) Сколько пропусков содержится в столбцах с информацией из OSRM API после объединения таблиц?"
      ]
    },
    {
      "cell_type": "code",
      "source": [
        "gdown.download(id='1B8hMmhhBx7UOtd-dF1dmY-ZXgNe2_ixk', output='data/osrm_data_train.csv') # Скачаем датасет OSRM и поместим по адресу 'data/osrm_data_train.csv'"
      ],
      "metadata": {
        "colab": {
          "base_uri": "https://localhost:8080/",
          "height": 125
        },
        "id": "gv4Xoha6rPOP",
        "outputId": "7be3612d-80ea-4834-d2c0-54db75d3c6b3"
      },
      "execution_count": null,
      "outputs": [
        {
          "output_type": "stream",
          "name": "stderr",
          "text": [
            "Downloading...\n",
            "From (original): https://drive.google.com/uc?id=1B8hMmhhBx7UOtd-dF1dmY-ZXgNe2_ixk\n",
            "From (redirected): https://drive.google.com/uc?id=1B8hMmhhBx7UOtd-dF1dmY-ZXgNe2_ixk&confirm=t&uuid=be7fd0ae-ab23-450a-8e52-128267fea6f9\n",
            "To: /content/data/osrm_data_train.csv\n",
            "100%|██████████| 736M/736M [00:22<00:00, 32.1MB/s]\n"
          ]
        },
        {
          "output_type": "execute_result",
          "data": {
            "text/plain": [
              "'data/osrm_data_train.csv'"
            ],
            "application/vnd.google.colaboratory.intrinsic+json": {
              "type": "string"
            }
          },
          "metadata": {},
          "execution_count": 351
        }
      ]
    },
    {
      "cell_type": "code",
      "execution_count": null,
      "metadata": {
        "id": "uey_zFbwkBLm"
      },
      "outputs": [],
      "source": [
        "osrm_data = pd.read_csv('data/osrm_data_train.csv')"
      ]
    },
    {
      "cell_type": "code",
      "source": [
        "DF = DF.merge(osrm_data[['id', 'total_distance', 'total_travel_time', 'number_of_steps']], how='left', left_on='id', right_on='id')"
      ],
      "metadata": {
        "id": "oCHMteLC4MdA"
      },
      "execution_count": null,
      "outputs": []
    },
    {
      "cell_type": "code",
      "source": [
        "DF.isna().sum()"
      ],
      "metadata": {
        "colab": {
          "base_uri": "https://localhost:8080/"
        },
        "id": "85EXlNBGJMEZ",
        "outputId": "a4244a17-89f7-486b-a0d7-cad464640350"
      },
      "execution_count": null,
      "outputs": [
        {
          "output_type": "execute_result",
          "data": {
            "text/plain": [
              "id                    0\n",
              "vendor_id             0\n",
              "pickup_datetime       0\n",
              "dropoff_datetime      0\n",
              "passenger_count       0\n",
              "pickup_longitude      0\n",
              "pickup_latitude       0\n",
              "dropoff_longitude     0\n",
              "dropoff_latitude      0\n",
              "store_and_fwd_flag    0\n",
              "trip_duration         0\n",
              "pickup_date           0\n",
              "pickup_hour           0\n",
              "pickup_day_of_week    0\n",
              "pickup_holiday        0\n",
              "total_distance        1\n",
              "total_travel_time     1\n",
              "number_of_steps       1\n",
              "dtype: int64"
            ]
          },
          "metadata": {},
          "execution_count": 354
        }
      ]
    },
    {
      "cell_type": "code",
      "source": [
        "# Посмотрим, сколько строк имеют пропуски в столбцах с информацией из OSRM API\n",
        "DF.query('total_distance.isna() or total_travel_time.isna() or number_of_steps.isna()').shape[0]"
      ],
      "metadata": {
        "colab": {
          "base_uri": "https://localhost:8080/"
        },
        "id": "w79bb2oC6eBg",
        "outputId": "c0d17091-5943-4e7c-a724-31c49c92383b"
      },
      "execution_count": null,
      "outputs": [
        {
          "output_type": "execute_result",
          "data": {
            "text/plain": [
              "1"
            ]
          },
          "metadata": {},
          "execution_count": 355
        }
      ]
    },
    {
      "cell_type": "markdown",
      "source": [
        "а) Разница между медианной длительностью поездки в данных и медианной длительностью поездки, полученной из OSRM, равна **372.5 секунд**.\n",
        "\n",
        "б) В столбцах с информацией из OSRM API после объединения таблиц содержится **1 пропуск**."
      ],
      "metadata": {
        "id": "RrwTxoJu5cYf"
      }
    },
    {
      "cell_type": "markdown",
      "metadata": {
        "id": "lGQpi4erkBLm"
      },
      "source": [
        "### Задание 2.7.\n",
        "Реализуйте функцию add_geographical_features(), которая принимает на вход таблицу с данными о поездках и возвращает обновленную таблицу с добавленными в нее 2 столбцами:\n",
        "* haversine_distance - расстояние Хаверсина между точкой, в которой был включен счетчик, и точкой, в которой счетчик был выключен;\n",
        "* direction - направление движения из точки, в которой был включен счетчик, в точку, в которой счетчик был выключен.\n",
        "\n",
        "Чему равно медианное расстояние Хаверсина поездок (в киллометрах)? Ответ округлите до сотых.\n"
      ]
    },
    {
      "cell_type": "code",
      "execution_count": null,
      "metadata": {
        "id": "ti1rljMGkBLm"
      },
      "outputs": [],
      "source": [
        "def get_haversine_distance(lat1, lng1, lat2, lng2):\n",
        "    # переводим углы в радианы\n",
        "    lat1, lng1, lat2, lng2 = map(np.radians, (lat1, lng1, lat2, lng2))\n",
        "    # радиус земли в километрах\n",
        "    EARTH_RADIUS = 6371\n",
        "    # считаем кратчайшее расстояние h по формуле Хаверсина\n",
        "    lat_delta = lat2 - lat1\n",
        "    lng_delta = lng2 - lng1\n",
        "    d = np.sin(lat_delta * 0.5) ** 2 + np.cos(lat1) * np.cos(lat2) * np.sin(lng_delta * 0.5) ** 2\n",
        "    h = 2 * EARTH_RADIUS * np.arcsin(np.sqrt(d))\n",
        "    return h\n",
        "\n",
        "def get_angle_direction(lat1, lng1, lat2, lng2):\n",
        "    # переводим углы в радианы\n",
        "    lat1, lng1, lat2, lng2 = map(np.radians, (lat1, lng1, lat2, lng2))\n",
        "    # считаем угол направления движения alpha по формуле угла пеленга\n",
        "    lng_delta_rad = lng2 - lng1\n",
        "    y = np.sin(lng_delta_rad) * np.cos(lat2)\n",
        "    x = np.cos(lat1) * np.sin(lat2) - np.sin(lat1) * np.cos(lat2) * np.cos(lng_delta_rad)\n",
        "    alpha = np.degrees(np.arctan2(y, x))\n",
        "    return alpha"
      ]
    },
    {
      "cell_type": "code",
      "execution_count": null,
      "metadata": {
        "id": "zqIZyeHmkBLm"
      },
      "outputs": [],
      "source": [
        "def add_geographical_features(target: pd.DataFrame):\n",
        "  df = target.copy()\n",
        "  df['haversine_distance'] = get_haversine_distance(target['pickup_latitude'], target['pickup_longitude'], target['dropoff_latitude'], target['dropoff_longitude'])\n",
        "  df['direction'] = get_angle_direction(target['pickup_latitude'], target['pickup_longitude'], target['dropoff_latitude'], target['dropoff_longitude'])\n",
        "  return df"
      ]
    },
    {
      "cell_type": "markdown",
      "source": [
        "Применим функцию к датасету:"
      ],
      "metadata": {
        "id": "eMjED0XY8OEb"
      }
    },
    {
      "cell_type": "code",
      "source": [
        "DF = add_geographical_features(DF)"
      ],
      "metadata": {
        "id": "r52XbVU27a7H"
      },
      "execution_count": null,
      "outputs": []
    },
    {
      "cell_type": "code",
      "source": [
        "DF.describe()"
      ],
      "metadata": {
        "colab": {
          "base_uri": "https://localhost:8080/",
          "height": 424
        },
        "id": "fR1SZ0E-8Xnl",
        "outputId": "3a649bcd-83c6-4634-ae17-a045aa3bd24c"
      },
      "execution_count": null,
      "outputs": [
        {
          "output_type": "execute_result",
          "data": {
            "text/plain": [
              "          vendor_id                pickup_datetime  passenger_count  \\\n",
              "count 1,458,644.000                        1458644    1,458,644.000   \n",
              "mean          1.535  2016-04-01 10:10:24.940037120            1.665   \n",
              "min           1.000            2016-01-01 00:00:17            0.000   \n",
              "25%           1.000  2016-02-17 16:46:04.249999872            1.000   \n",
              "50%           2.000            2016-04-01 17:19:40            1.000   \n",
              "75%           2.000  2016-05-15 03:56:08.750000128            2.000   \n",
              "max           2.000            2016-06-30 23:59:39            9.000   \n",
              "std           0.499                            NaN            1.314   \n",
              "\n",
              "       pickup_longitude  pickup_latitude  dropoff_longitude  dropoff_latitude  \\\n",
              "count     1,458,644.000    1,458,644.000      1,458,644.000     1,458,644.000   \n",
              "mean            -73.973           40.751            -73.973            40.752   \n",
              "min            -121.933           34.360           -121.933            32.181   \n",
              "25%             -73.992           40.737            -73.991            40.736   \n",
              "50%             -73.982           40.754            -73.980            40.755   \n",
              "75%             -73.967           40.768            -73.963            40.770   \n",
              "max             -61.336           51.881            -61.336            43.921   \n",
              "std               0.071            0.033              0.071             0.036   \n",
              "\n",
              "       trip_duration                    pickup_date   pickup_hour  \\\n",
              "count  1,458,644.000                        1458644 1,458,644.000   \n",
              "mean         959.492  2016-03-31 20:03:56.715196160        13.606   \n",
              "min            1.000            2016-01-01 00:00:00         0.000   \n",
              "25%          397.000            2016-02-17 00:00:00         9.000   \n",
              "50%          662.000            2016-04-01 00:00:00        14.000   \n",
              "75%        1,075.000            2016-05-15 00:00:00        19.000   \n",
              "max    3,526,282.000            2016-06-30 00:00:00        23.000   \n",
              "std        5,237.432                            NaN         6.400   \n",
              "\n",
              "       pickup_day_of_week  pickup_holiday  total_distance  total_travel_time  \\\n",
              "count       1,458,644.000   1,458,644.000   1,458,643.000      1,458,643.000   \n",
              "mean                3.050           0.035       4,626.383            389.372   \n",
              "min                 0.000           0.000           0.000              0.000   \n",
              "25%                 1.000           0.000       1,666.100            181.500   \n",
              "50%                 3.000           0.000       2,755.100            289.500   \n",
              "75%                 5.000           0.000       5,113.800            490.700   \n",
              "max                 6.000           1.000      94,204.200          5,135.400   \n",
              "std                 1.954           0.184       5,303.878            314.468   \n",
              "\n",
              "       number_of_steps  haversine_distance     direction  \n",
              "count    1,458,643.000       1,458,644.000 1,458,644.000  \n",
              "mean             7.547               3.441       -15.669  \n",
              "min              2.000               0.000      -179.993  \n",
              "25%              5.000               1.232      -125.274  \n",
              "50%              6.000               2.094         8.200  \n",
              "75%              9.000               3.875        53.405  \n",
              "max             46.000           1,240.909       180.000  \n",
              "std              4.433               4.297       104.491  "
            ],
            "text/html": [
              "\n",
              "  <div id=\"df-dd64c352-d29b-48e3-9ab8-6a5b1b4a98bf\" class=\"colab-df-container\">\n",
              "    <div>\n",
              "<style scoped>\n",
              "    .dataframe tbody tr th:only-of-type {\n",
              "        vertical-align: middle;\n",
              "    }\n",
              "\n",
              "    .dataframe tbody tr th {\n",
              "        vertical-align: top;\n",
              "    }\n",
              "\n",
              "    .dataframe thead th {\n",
              "        text-align: right;\n",
              "    }\n",
              "</style>\n",
              "<table border=\"1\" class=\"dataframe\">\n",
              "  <thead>\n",
              "    <tr style=\"text-align: right;\">\n",
              "      <th></th>\n",
              "      <th>vendor_id</th>\n",
              "      <th>pickup_datetime</th>\n",
              "      <th>passenger_count</th>\n",
              "      <th>pickup_longitude</th>\n",
              "      <th>pickup_latitude</th>\n",
              "      <th>dropoff_longitude</th>\n",
              "      <th>dropoff_latitude</th>\n",
              "      <th>trip_duration</th>\n",
              "      <th>pickup_date</th>\n",
              "      <th>pickup_hour</th>\n",
              "      <th>pickup_day_of_week</th>\n",
              "      <th>pickup_holiday</th>\n",
              "      <th>total_distance</th>\n",
              "      <th>total_travel_time</th>\n",
              "      <th>number_of_steps</th>\n",
              "      <th>haversine_distance</th>\n",
              "      <th>direction</th>\n",
              "    </tr>\n",
              "  </thead>\n",
              "  <tbody>\n",
              "    <tr>\n",
              "      <th>count</th>\n",
              "      <td>1,458,644.000</td>\n",
              "      <td>1458644</td>\n",
              "      <td>1,458,644.000</td>\n",
              "      <td>1,458,644.000</td>\n",
              "      <td>1,458,644.000</td>\n",
              "      <td>1,458,644.000</td>\n",
              "      <td>1,458,644.000</td>\n",
              "      <td>1,458,644.000</td>\n",
              "      <td>1458644</td>\n",
              "      <td>1,458,644.000</td>\n",
              "      <td>1,458,644.000</td>\n",
              "      <td>1,458,644.000</td>\n",
              "      <td>1,458,643.000</td>\n",
              "      <td>1,458,643.000</td>\n",
              "      <td>1,458,643.000</td>\n",
              "      <td>1,458,644.000</td>\n",
              "      <td>1,458,644.000</td>\n",
              "    </tr>\n",
              "    <tr>\n",
              "      <th>mean</th>\n",
              "      <td>1.535</td>\n",
              "      <td>2016-04-01 10:10:24.940037120</td>\n",
              "      <td>1.665</td>\n",
              "      <td>-73.973</td>\n",
              "      <td>40.751</td>\n",
              "      <td>-73.973</td>\n",
              "      <td>40.752</td>\n",
              "      <td>959.492</td>\n",
              "      <td>2016-03-31 20:03:56.715196160</td>\n",
              "      <td>13.606</td>\n",
              "      <td>3.050</td>\n",
              "      <td>0.035</td>\n",
              "      <td>4,626.383</td>\n",
              "      <td>389.372</td>\n",
              "      <td>7.547</td>\n",
              "      <td>3.441</td>\n",
              "      <td>-15.669</td>\n",
              "    </tr>\n",
              "    <tr>\n",
              "      <th>min</th>\n",
              "      <td>1.000</td>\n",
              "      <td>2016-01-01 00:00:17</td>\n",
              "      <td>0.000</td>\n",
              "      <td>-121.933</td>\n",
              "      <td>34.360</td>\n",
              "      <td>-121.933</td>\n",
              "      <td>32.181</td>\n",
              "      <td>1.000</td>\n",
              "      <td>2016-01-01 00:00:00</td>\n",
              "      <td>0.000</td>\n",
              "      <td>0.000</td>\n",
              "      <td>0.000</td>\n",
              "      <td>0.000</td>\n",
              "      <td>0.000</td>\n",
              "      <td>2.000</td>\n",
              "      <td>0.000</td>\n",
              "      <td>-179.993</td>\n",
              "    </tr>\n",
              "    <tr>\n",
              "      <th>25%</th>\n",
              "      <td>1.000</td>\n",
              "      <td>2016-02-17 16:46:04.249999872</td>\n",
              "      <td>1.000</td>\n",
              "      <td>-73.992</td>\n",
              "      <td>40.737</td>\n",
              "      <td>-73.991</td>\n",
              "      <td>40.736</td>\n",
              "      <td>397.000</td>\n",
              "      <td>2016-02-17 00:00:00</td>\n",
              "      <td>9.000</td>\n",
              "      <td>1.000</td>\n",
              "      <td>0.000</td>\n",
              "      <td>1,666.100</td>\n",
              "      <td>181.500</td>\n",
              "      <td>5.000</td>\n",
              "      <td>1.232</td>\n",
              "      <td>-125.274</td>\n",
              "    </tr>\n",
              "    <tr>\n",
              "      <th>50%</th>\n",
              "      <td>2.000</td>\n",
              "      <td>2016-04-01 17:19:40</td>\n",
              "      <td>1.000</td>\n",
              "      <td>-73.982</td>\n",
              "      <td>40.754</td>\n",
              "      <td>-73.980</td>\n",
              "      <td>40.755</td>\n",
              "      <td>662.000</td>\n",
              "      <td>2016-04-01 00:00:00</td>\n",
              "      <td>14.000</td>\n",
              "      <td>3.000</td>\n",
              "      <td>0.000</td>\n",
              "      <td>2,755.100</td>\n",
              "      <td>289.500</td>\n",
              "      <td>6.000</td>\n",
              "      <td>2.094</td>\n",
              "      <td>8.200</td>\n",
              "    </tr>\n",
              "    <tr>\n",
              "      <th>75%</th>\n",
              "      <td>2.000</td>\n",
              "      <td>2016-05-15 03:56:08.750000128</td>\n",
              "      <td>2.000</td>\n",
              "      <td>-73.967</td>\n",
              "      <td>40.768</td>\n",
              "      <td>-73.963</td>\n",
              "      <td>40.770</td>\n",
              "      <td>1,075.000</td>\n",
              "      <td>2016-05-15 00:00:00</td>\n",
              "      <td>19.000</td>\n",
              "      <td>5.000</td>\n",
              "      <td>0.000</td>\n",
              "      <td>5,113.800</td>\n",
              "      <td>490.700</td>\n",
              "      <td>9.000</td>\n",
              "      <td>3.875</td>\n",
              "      <td>53.405</td>\n",
              "    </tr>\n",
              "    <tr>\n",
              "      <th>max</th>\n",
              "      <td>2.000</td>\n",
              "      <td>2016-06-30 23:59:39</td>\n",
              "      <td>9.000</td>\n",
              "      <td>-61.336</td>\n",
              "      <td>51.881</td>\n",
              "      <td>-61.336</td>\n",
              "      <td>43.921</td>\n",
              "      <td>3,526,282.000</td>\n",
              "      <td>2016-06-30 00:00:00</td>\n",
              "      <td>23.000</td>\n",
              "      <td>6.000</td>\n",
              "      <td>1.000</td>\n",
              "      <td>94,204.200</td>\n",
              "      <td>5,135.400</td>\n",
              "      <td>46.000</td>\n",
              "      <td>1,240.909</td>\n",
              "      <td>180.000</td>\n",
              "    </tr>\n",
              "    <tr>\n",
              "      <th>std</th>\n",
              "      <td>0.499</td>\n",
              "      <td>NaN</td>\n",
              "      <td>1.314</td>\n",
              "      <td>0.071</td>\n",
              "      <td>0.033</td>\n",
              "      <td>0.071</td>\n",
              "      <td>0.036</td>\n",
              "      <td>5,237.432</td>\n",
              "      <td>NaN</td>\n",
              "      <td>6.400</td>\n",
              "      <td>1.954</td>\n",
              "      <td>0.184</td>\n",
              "      <td>5,303.878</td>\n",
              "      <td>314.468</td>\n",
              "      <td>4.433</td>\n",
              "      <td>4.297</td>\n",
              "      <td>104.491</td>\n",
              "    </tr>\n",
              "  </tbody>\n",
              "</table>\n",
              "</div>\n",
              "    <div class=\"colab-df-buttons\">\n",
              "\n",
              "  <div class=\"colab-df-container\">\n",
              "    <button class=\"colab-df-convert\" onclick=\"convertToInteractive('df-dd64c352-d29b-48e3-9ab8-6a5b1b4a98bf')\"\n",
              "            title=\"Convert this dataframe to an interactive table.\"\n",
              "            style=\"display:none;\">\n",
              "\n",
              "  <svg xmlns=\"http://www.w3.org/2000/svg\" height=\"24px\" viewBox=\"0 -960 960 960\">\n",
              "    <path d=\"M120-120v-720h720v720H120Zm60-500h600v-160H180v160Zm220 220h160v-160H400v160Zm0 220h160v-160H400v160ZM180-400h160v-160H180v160Zm440 0h160v-160H620v160ZM180-180h160v-160H180v160Zm440 0h160v-160H620v160Z\"/>\n",
              "  </svg>\n",
              "    </button>\n",
              "\n",
              "  <style>\n",
              "    .colab-df-container {\n",
              "      display:flex;\n",
              "      gap: 12px;\n",
              "    }\n",
              "\n",
              "    .colab-df-convert {\n",
              "      background-color: #E8F0FE;\n",
              "      border: none;\n",
              "      border-radius: 50%;\n",
              "      cursor: pointer;\n",
              "      display: none;\n",
              "      fill: #1967D2;\n",
              "      height: 32px;\n",
              "      padding: 0 0 0 0;\n",
              "      width: 32px;\n",
              "    }\n",
              "\n",
              "    .colab-df-convert:hover {\n",
              "      background-color: #E2EBFA;\n",
              "      box-shadow: 0px 1px 2px rgba(60, 64, 67, 0.3), 0px 1px 3px 1px rgba(60, 64, 67, 0.15);\n",
              "      fill: #174EA6;\n",
              "    }\n",
              "\n",
              "    .colab-df-buttons div {\n",
              "      margin-bottom: 4px;\n",
              "    }\n",
              "\n",
              "    [theme=dark] .colab-df-convert {\n",
              "      background-color: #3B4455;\n",
              "      fill: #D2E3FC;\n",
              "    }\n",
              "\n",
              "    [theme=dark] .colab-df-convert:hover {\n",
              "      background-color: #434B5C;\n",
              "      box-shadow: 0px 1px 3px 1px rgba(0, 0, 0, 0.15);\n",
              "      filter: drop-shadow(0px 1px 2px rgba(0, 0, 0, 0.3));\n",
              "      fill: #FFFFFF;\n",
              "    }\n",
              "  </style>\n",
              "\n",
              "    <script>\n",
              "      const buttonEl =\n",
              "        document.querySelector('#df-dd64c352-d29b-48e3-9ab8-6a5b1b4a98bf button.colab-df-convert');\n",
              "      buttonEl.style.display =\n",
              "        google.colab.kernel.accessAllowed ? 'block' : 'none';\n",
              "\n",
              "      async function convertToInteractive(key) {\n",
              "        const element = document.querySelector('#df-dd64c352-d29b-48e3-9ab8-6a5b1b4a98bf');\n",
              "        const dataTable =\n",
              "          await google.colab.kernel.invokeFunction('convertToInteractive',\n",
              "                                                    [key], {});\n",
              "        if (!dataTable) return;\n",
              "\n",
              "        const docLinkHtml = 'Like what you see? Visit the ' +\n",
              "          '<a target=\"_blank\" href=https://colab.research.google.com/notebooks/data_table.ipynb>data table notebook</a>'\n",
              "          + ' to learn more about interactive tables.';\n",
              "        element.innerHTML = '';\n",
              "        dataTable['output_type'] = 'display_data';\n",
              "        await google.colab.output.renderOutput(dataTable, element);\n",
              "        const docLink = document.createElement('div');\n",
              "        docLink.innerHTML = docLinkHtml;\n",
              "        element.appendChild(docLink);\n",
              "      }\n",
              "    </script>\n",
              "  </div>\n",
              "\n",
              "\n",
              "<div id=\"df-bae453de-f55c-4882-9eba-eb6216277a8c\">\n",
              "  <button class=\"colab-df-quickchart\" onclick=\"quickchart('df-bae453de-f55c-4882-9eba-eb6216277a8c')\"\n",
              "            title=\"Suggest charts\"\n",
              "            style=\"display:none;\">\n",
              "\n",
              "<svg xmlns=\"http://www.w3.org/2000/svg\" height=\"24px\"viewBox=\"0 0 24 24\"\n",
              "     width=\"24px\">\n",
              "    <g>\n",
              "        <path d=\"M19 3H5c-1.1 0-2 .9-2 2v14c0 1.1.9 2 2 2h14c1.1 0 2-.9 2-2V5c0-1.1-.9-2-2-2zM9 17H7v-7h2v7zm4 0h-2V7h2v10zm4 0h-2v-4h2v4z\"/>\n",
              "    </g>\n",
              "</svg>\n",
              "  </button>\n",
              "\n",
              "<style>\n",
              "  .colab-df-quickchart {\n",
              "      --bg-color: #E8F0FE;\n",
              "      --fill-color: #1967D2;\n",
              "      --hover-bg-color: #E2EBFA;\n",
              "      --hover-fill-color: #174EA6;\n",
              "      --disabled-fill-color: #AAA;\n",
              "      --disabled-bg-color: #DDD;\n",
              "  }\n",
              "\n",
              "  [theme=dark] .colab-df-quickchart {\n",
              "      --bg-color: #3B4455;\n",
              "      --fill-color: #D2E3FC;\n",
              "      --hover-bg-color: #434B5C;\n",
              "      --hover-fill-color: #FFFFFF;\n",
              "      --disabled-bg-color: #3B4455;\n",
              "      --disabled-fill-color: #666;\n",
              "  }\n",
              "\n",
              "  .colab-df-quickchart {\n",
              "    background-color: var(--bg-color);\n",
              "    border: none;\n",
              "    border-radius: 50%;\n",
              "    cursor: pointer;\n",
              "    display: none;\n",
              "    fill: var(--fill-color);\n",
              "    height: 32px;\n",
              "    padding: 0;\n",
              "    width: 32px;\n",
              "  }\n",
              "\n",
              "  .colab-df-quickchart:hover {\n",
              "    background-color: var(--hover-bg-color);\n",
              "    box-shadow: 0 1px 2px rgba(60, 64, 67, 0.3), 0 1px 3px 1px rgba(60, 64, 67, 0.15);\n",
              "    fill: var(--button-hover-fill-color);\n",
              "  }\n",
              "\n",
              "  .colab-df-quickchart-complete:disabled,\n",
              "  .colab-df-quickchart-complete:disabled:hover {\n",
              "    background-color: var(--disabled-bg-color);\n",
              "    fill: var(--disabled-fill-color);\n",
              "    box-shadow: none;\n",
              "  }\n",
              "\n",
              "  .colab-df-spinner {\n",
              "    border: 2px solid var(--fill-color);\n",
              "    border-color: transparent;\n",
              "    border-bottom-color: var(--fill-color);\n",
              "    animation:\n",
              "      spin 1s steps(1) infinite;\n",
              "  }\n",
              "\n",
              "  @keyframes spin {\n",
              "    0% {\n",
              "      border-color: transparent;\n",
              "      border-bottom-color: var(--fill-color);\n",
              "      border-left-color: var(--fill-color);\n",
              "    }\n",
              "    20% {\n",
              "      border-color: transparent;\n",
              "      border-left-color: var(--fill-color);\n",
              "      border-top-color: var(--fill-color);\n",
              "    }\n",
              "    30% {\n",
              "      border-color: transparent;\n",
              "      border-left-color: var(--fill-color);\n",
              "      border-top-color: var(--fill-color);\n",
              "      border-right-color: var(--fill-color);\n",
              "    }\n",
              "    40% {\n",
              "      border-color: transparent;\n",
              "      border-right-color: var(--fill-color);\n",
              "      border-top-color: var(--fill-color);\n",
              "    }\n",
              "    60% {\n",
              "      border-color: transparent;\n",
              "      border-right-color: var(--fill-color);\n",
              "    }\n",
              "    80% {\n",
              "      border-color: transparent;\n",
              "      border-right-color: var(--fill-color);\n",
              "      border-bottom-color: var(--fill-color);\n",
              "    }\n",
              "    90% {\n",
              "      border-color: transparent;\n",
              "      border-bottom-color: var(--fill-color);\n",
              "    }\n",
              "  }\n",
              "</style>\n",
              "\n",
              "  <script>\n",
              "    async function quickchart(key) {\n",
              "      const quickchartButtonEl =\n",
              "        document.querySelector('#' + key + ' button');\n",
              "      quickchartButtonEl.disabled = true;  // To prevent multiple clicks.\n",
              "      quickchartButtonEl.classList.add('colab-df-spinner');\n",
              "      try {\n",
              "        const charts = await google.colab.kernel.invokeFunction(\n",
              "            'suggestCharts', [key], {});\n",
              "      } catch (error) {\n",
              "        console.error('Error during call to suggestCharts:', error);\n",
              "      }\n",
              "      quickchartButtonEl.classList.remove('colab-df-spinner');\n",
              "      quickchartButtonEl.classList.add('colab-df-quickchart-complete');\n",
              "    }\n",
              "    (() => {\n",
              "      let quickchartButtonEl =\n",
              "        document.querySelector('#df-bae453de-f55c-4882-9eba-eb6216277a8c button');\n",
              "      quickchartButtonEl.style.display =\n",
              "        google.colab.kernel.accessAllowed ? 'block' : 'none';\n",
              "    })();\n",
              "  </script>\n",
              "</div>\n",
              "\n",
              "    </div>\n",
              "  </div>\n"
            ],
            "application/vnd.google.colaboratory.intrinsic+json": {
              "type": "dataframe",
              "summary": "{\n  \"name\": \"DF\",\n  \"rows\": 8,\n  \"fields\": [\n    {\n      \"column\": \"vendor_id\",\n      \"properties\": {\n        \"dtype\": \"number\",\n        \"std\": 515708.0250890787,\n        \"min\": 0.4987771539074,\n        \"max\": 1458644.0,\n        \"num_unique_values\": 5,\n        \"samples\": [\n          1.5349502688798637,\n          0.4987771539074,\n          1.0\n        ],\n        \"semantic_type\": \"\",\n        \"description\": \"\"\n      }\n    },\n    {\n      \"column\": \"pickup_datetime\",\n      \"properties\": {\n        \"dtype\": \"date\",\n        \"min\": \"1970-01-01 00:00:00.001458644\",\n        \"max\": \"2016-06-30 23:59:39\",\n        \"num_unique_values\": 7,\n        \"samples\": [\n          \"1458644\",\n          \"2016-04-01 10:10:24.940037120\",\n          \"2016-05-15 03:56:08.750000128\"\n        ],\n        \"semantic_type\": \"\",\n        \"description\": \"\"\n      }\n    },\n    {\n      \"column\": \"passenger_count\",\n      \"properties\": {\n        \"dtype\": \"number\",\n        \"std\": 515707.7248263122,\n        \"min\": 0.0,\n        \"max\": 1458644.0,\n        \"num_unique_values\": 7,\n        \"samples\": [\n          1458644.0,\n          1.6645295219395548,\n          9.0\n        ],\n        \"semantic_type\": \"\",\n        \"description\": \"\"\n      }\n    },\n    {\n      \"column\": \"pickup_longitude\",\n      \"properties\": {\n        \"dtype\": \"number\",\n        \"std\": 515732.73176924884,\n        \"min\": -121.93334197998048,\n        \"max\": 1458644.0,\n        \"num_unique_values\": 8,\n        \"samples\": [\n          -73.97348630489282,\n          -73.96733093261719,\n          1458644.0\n        ],\n        \"semantic_type\": \"\",\n        \"description\": \"\"\n      }\n    },\n    {\n      \"column\": \"pickup_latitude\",\n      \"properties\": {\n        \"dtype\": \"number\",\n        \"std\": 515695.94133236835,\n        \"min\": 0.032881186257633054,\n        \"max\": 1458644.0,\n        \"num_unique_values\": 8,\n        \"samples\": [\n          40.750920908391734,\n          40.768360137939446,\n          1458644.0\n        ],\n        \"semantic_type\": \"\",\n        \"description\": \"\"\n      }\n    },\n    {\n      \"column\": \"dropoff_longitude\",\n      \"properties\": {\n        \"dtype\": \"number\",\n        \"std\": 515732.7314307756,\n        \"min\": -121.9333038330078,\n        \"max\": 1458644.0,\n        \"num_unique_values\": 8,\n        \"samples\": [\n          -73.9734159469458,\n          -73.9630126953125,\n          1458644.0\n        ],\n        \"semantic_type\": \"\",\n        \"description\": \"\"\n      }\n    },\n    {\n      \"column\": \"dropoff_latitude\",\n      \"properties\": {\n        \"dtype\": \"number\",\n        \"std\": 515696.4531646672,\n        \"min\": 0.03589055560563689,\n        \"max\": 1458644.0,\n        \"num_unique_values\": 8,\n        \"samples\": [\n          40.7517995149002,\n          40.76980972290039,\n          1458644.0\n        ],\n        \"semantic_type\": \"\",\n        \"description\": \"\"\n      }\n    },\n    {\n      \"column\": \"trip_duration\",\n      \"properties\": {\n        \"dtype\": \"number\",\n        \"std\": 1278713.5878413154,\n        \"min\": 1.0,\n        \"max\": 3526282.0,\n        \"num_unique_values\": 8,\n        \"samples\": [\n          959.4922729603659,\n          1075.0,\n          1458644.0\n        ],\n        \"semantic_type\": \"\",\n        \"description\": \"\"\n      }\n    },\n    {\n      \"column\": \"pickup_date\",\n      \"properties\": {\n        \"dtype\": \"date\",\n        \"min\": \"1970-01-01 00:00:00.001458644\",\n        \"max\": \"2016-06-30 00:00:00\",\n        \"num_unique_values\": 7,\n        \"samples\": [\n          \"1458644\",\n          \"2016-03-31 20:03:56.715196160\",\n          \"2016-05-15 00:00:00\"\n        ],\n        \"semantic_type\": \"\",\n        \"description\": \"\"\n      }\n    },\n    {\n      \"column\": \"pickup_hour\",\n      \"properties\": {\n        \"dtype\": \"number\",\n        \"std\": 515704.2384582057,\n        \"min\": 0.0,\n        \"max\": 1458644.0,\n        \"num_unique_values\": 8,\n        \"samples\": [\n          13.60648383018749,\n          19.0,\n          1458644.0\n        ],\n        \"semantic_type\": \"\",\n        \"description\": \"\"\n      }\n    },\n    {\n      \"column\": \"pickup_day_of_week\",\n      \"properties\": {\n        \"dtype\": \"number\",\n        \"std\": 515707.52149678115,\n        \"min\": 0.0,\n        \"max\": 1458644.0,\n        \"num_unique_values\": 8,\n        \"samples\": [\n          3.050374868713682,\n          5.0,\n          1458644.0\n        ],\n        \"semantic_type\": \"\",\n        \"description\": \"\"\n      }\n    },\n    {\n      \"column\": \"pickup_holiday\",\n      \"properties\": {\n        \"dtype\": \"number\",\n        \"std\": 515708.47030248394,\n        \"min\": 0.0,\n        \"max\": 1458644.0,\n        \"num_unique_values\": 5,\n        \"samples\": [\n          0.03504761956995676,\n          0.1839002640505968,\n          0.0\n        ],\n        \"semantic_type\": \"\",\n        \"description\": \"\"\n      }\n    },\n    {\n      \"column\": \"total_distance\",\n      \"properties\": {\n        \"dtype\": \"number\",\n        \"std\": 510962.547572392,\n        \"min\": 0.0,\n        \"max\": 1458643.0,\n        \"num_unique_values\": 8,\n        \"samples\": [\n          4626.383079135879,\n          5113.8,\n          1458643.0\n        ],\n        \"semantic_type\": \"\",\n        \"description\": \"\"\n      }\n    },\n    {\n      \"column\": \"total_travel_time\",\n      \"properties\": {\n        \"dtype\": \"number\",\n        \"std\": 515367.5026138664,\n        \"min\": 0.0,\n        \"max\": 1458643.0,\n        \"num_unique_values\": 8,\n        \"samples\": [\n          389.371859255486,\n          490.7,\n          1458643.0\n        ],\n        \"semantic_type\": \"\",\n        \"description\": \"\"\n      }\n    },\n    {\n      \"column\": \"number_of_steps\",\n      \"properties\": {\n        \"dtype\": \"number\",\n        \"std\": 515704.1389311398,\n        \"min\": 2.0,\n        \"max\": 1458643.0,\n        \"num_unique_values\": 8,\n        \"samples\": [\n          7.547126335916328,\n          9.0,\n          1458643.0\n        ],\n        \"semantic_type\": \"\",\n        \"description\": \"\"\n      }\n    },\n    {\n      \"column\": \"haversine_distance\",\n      \"properties\": {\n        \"dtype\": \"number\",\n        \"std\": 515645.2841196432,\n        \"min\": 0.0,\n        \"max\": 1458644.0,\n        \"num_unique_values\": 8,\n        \"samples\": [\n          3.4408639020108867,\n          3.87533741823169,\n          1458644.0\n        ],\n        \"semantic_type\": \"\",\n        \"description\": \"\"\n      }\n    },\n    {\n      \"column\": \"direction\",\n      \"properties\": {\n        \"dtype\": \"number\",\n        \"std\": 515707.2741213129,\n        \"min\": -179.9927008011981,\n        \"max\": 1458644.0,\n        \"num_unique_values\": 8,\n        \"samples\": [\n          -15.668924673789938,\n          53.404953901402536,\n          1458644.0\n        ],\n        \"semantic_type\": \"\",\n        \"description\": \"\"\n      }\n    }\n  ]\n}"
            }
          },
          "metadata": {},
          "execution_count": 359
        }
      ]
    },
    {
      "cell_type": "markdown",
      "source": [
        " - Таким образом медианное расстояние Хаверсина поездок (в километрах) **равно 2.09**"
      ],
      "metadata": {
        "id": "YSvgRPSt8bVG"
      }
    },
    {
      "cell_type": "markdown",
      "metadata": {
        "id": "_WWydgB2kBLm"
      },
      "source": [
        "### Задание 2.8.\n",
        "Реализуйте функцию add_cluster_features(), которая принимает на вход таблицу с данными о поездках и обученный алгоритм кластеризации. Функция должна возвращать обновленную таблицу с добавленными в нее столбцом geo_cluster - географический кластер, к которому относится поездка.\n",
        "\n",
        "Сколько поездок содержится в наименьшем по размеру географическом кластере?\n"
      ]
    },
    {
      "cell_type": "code",
      "execution_count": null,
      "metadata": {
        "id": "YxpWNYfakBLn"
      },
      "outputs": [],
      "source": [
        "# создаем обучающую выборку из географических координат всех точек\n",
        "coords = np.hstack((taxi_data[['pickup_latitude', 'pickup_longitude']],\n",
        "                    taxi_data[['dropoff_latitude', 'dropoff_longitude']]))\n",
        "# обучаем алгоритм кластеризации\n",
        "kmeans = cluster.KMeans(n_clusters=10, random_state=42, n_init=10)\n",
        "kmeans.fit(coords)\n",
        "\n",
        "def add_cluster_features(target: pd.DataFrame, model: cluster.KMeans):\n",
        "  df = target.copy()\n",
        "  df['geo_cluster'] = model.predict(df[['pickup_latitude', 'pickup_longitude', 'dropoff_latitude', 'dropoff_longitude']].to_numpy())\n",
        "  return df\n",
        "\n",
        "DF = add_cluster_features(DF, kmeans)"
      ]
    },
    {
      "cell_type": "code",
      "source": [
        "DF[['geo_cluster']].value_counts()"
      ],
      "metadata": {
        "colab": {
          "base_uri": "https://localhost:8080/"
        },
        "id": "gv-2-V1B-IeP",
        "outputId": "19c94258-3405-4f8f-f95d-9f674ca42ee6"
      },
      "execution_count": null,
      "outputs": [
        {
          "output_type": "execute_result",
          "data": {
            "text/plain": [
              "geo_cluster\n",
              "0              596467\n",
              "9              383874\n",
              "4              359233\n",
              "5               43619\n",
              "7               41171\n",
              "3               27022\n",
              "1                7233\n",
              "6                  18\n",
              "8                   5\n",
              "2                   2\n",
              "Name: count, dtype: int64"
            ]
          },
          "metadata": {},
          "execution_count": 361
        }
      ]
    },
    {
      "cell_type": "markdown",
      "source": [
        " - Таким образом в наименьшем по размеру географическом кластере **содержится 2**."
      ],
      "metadata": {
        "id": "72ebqQAz_NJb"
      }
    },
    {
      "cell_type": "markdown",
      "metadata": {
        "id": "4FRtxWNDkBLn"
      },
      "source": [
        "### Задание 2.9.\n",
        "Реализуйте функцию add_weather_features(), которая принимает на вход две таблицы:\n",
        "* таблицу с данными о поездках;\n",
        "* таблицу с данными о погодных условиях на каждый час;\n",
        "\n",
        "и возвращает обновленную таблицу с данными о поездках с добавленными в нее 5 столбцами:\n",
        "* temperature - температура;\n",
        "* visibility - видимость;\n",
        "* wind speed - средняя скорость ветра;\n",
        "* precip - количество осадков;\n",
        "* events - погодные явления.\n",
        "\n",
        "а) Сколько поездок было совершено в снежную погоду?\n",
        "\n",
        "В результате объединения у вас должны получиться записи, для которых в столбцах temperature, visibility, wind speed, precip, и events будут пропуски. Это связано с тем, что в таблице с данными о погодных условиях отсутствуют измерения для некоторых моментов времени, в которых включался счетчик поездки.\n",
        "\n",
        "б) Сколько процентов от общего количества наблюдений в таблице с данными о поездках занимают пропуски в столбцах с погодными условиями? Ответ приведите с точностью до сотых процента.\n"
      ]
    },
    {
      "cell_type": "code",
      "source": [
        "gdown.download(id='152UC7VWgEdMr-5qAwTKMf66ja2_0IRMT', output='data/weather_data.csv') # Скачаем датасет с погодными условиями и поместим по адресу 'data/weather_data.csv'"
      ],
      "metadata": {
        "colab": {
          "base_uri": "https://localhost:8080/",
          "height": 107
        },
        "id": "vFKA6-Vj_gj8",
        "outputId": "67f1767b-d4b4-42e6-c445-dbeb7f1b980f"
      },
      "execution_count": null,
      "outputs": [
        {
          "output_type": "stream",
          "name": "stderr",
          "text": [
            "Downloading...\n",
            "From: https://drive.google.com/uc?id=152UC7VWgEdMr-5qAwTKMf66ja2_0IRMT\n",
            "To: /content/data/weather_data.csv\n",
            "100%|██████████| 842k/842k [00:00<00:00, 72.1MB/s]\n"
          ]
        },
        {
          "output_type": "execute_result",
          "data": {
            "text/plain": [
              "'data/weather_data.csv'"
            ],
            "application/vnd.google.colaboratory.intrinsic+json": {
              "type": "string"
            }
          },
          "metadata": {},
          "execution_count": 362
        }
      ]
    },
    {
      "cell_type": "code",
      "execution_count": null,
      "metadata": {
        "id": "PdgHJwQgkBLn"
      },
      "outputs": [],
      "source": [
        "weather_data = pd.read_csv('data/weather_data.csv')"
      ]
    },
    {
      "cell_type": "code",
      "source": [
        "# Выделим интересующие нас столбцы\n",
        "needle_weather_data = weather_data[['temperature', 'visibility', 'wind speed', 'precip', 'events', 'date', 'hour']].copy()\n",
        "# Приведем поля date и hour к типас даты/инта для последующего слияния таблиц\n",
        "needle_weather_data['date'] = pd.to_datetime(needle_weather_data['date'], format='%Y-%m-%d')\n",
        "needle_weather_data['hour'].astype(np.int32)\n",
        "needle_weather_data"
      ],
      "metadata": {
        "colab": {
          "base_uri": "https://localhost:8080/",
          "height": 424
        },
        "id": "cXLjzUqvBhQy",
        "outputId": "f0762ed8-0083-47d8-b9eb-ddacb31cc382"
      },
      "execution_count": null,
      "outputs": [
        {
          "output_type": "execute_result",
          "data": {
            "text/plain": [
              "      temperature  visibility  wind speed  precip events       date  hour\n",
              "0           7.800       8.000       5.600   0.800    NaN 2015-12-31     2\n",
              "1           7.200      12.900       7.400   0.300    NaN 2015-12-31     3\n",
              "2           7.200      12.900       0.000   0.000    NaN 2015-12-31     4\n",
              "3           7.200      14.500       7.400   0.000    NaN 2015-12-31     5\n",
              "4           7.200      11.300       5.600   0.000    NaN 2015-12-31     6\n",
              "...           ...         ...         ...     ...    ...        ...   ...\n",
              "8782        5.000      16.100       7.400   0.000    NaN 2017-01-01    21\n",
              "8783        5.600      16.100       9.300   0.000    NaN 2017-01-01    22\n",
              "8784        5.600      16.100       7.400   0.000    NaN 2017-01-01    23\n",
              "8785        5.000      16.100       7.400   0.000    NaN 2017-01-02     0\n",
              "8786        5.000      16.100      13.000   0.000    NaN 2017-01-02     1\n",
              "\n",
              "[8787 rows x 7 columns]"
            ],
            "text/html": [
              "\n",
              "  <div id=\"df-acb9cc10-d6d3-4b51-b8e4-a460bd375527\" class=\"colab-df-container\">\n",
              "    <div>\n",
              "<style scoped>\n",
              "    .dataframe tbody tr th:only-of-type {\n",
              "        vertical-align: middle;\n",
              "    }\n",
              "\n",
              "    .dataframe tbody tr th {\n",
              "        vertical-align: top;\n",
              "    }\n",
              "\n",
              "    .dataframe thead th {\n",
              "        text-align: right;\n",
              "    }\n",
              "</style>\n",
              "<table border=\"1\" class=\"dataframe\">\n",
              "  <thead>\n",
              "    <tr style=\"text-align: right;\">\n",
              "      <th></th>\n",
              "      <th>temperature</th>\n",
              "      <th>visibility</th>\n",
              "      <th>wind speed</th>\n",
              "      <th>precip</th>\n",
              "      <th>events</th>\n",
              "      <th>date</th>\n",
              "      <th>hour</th>\n",
              "    </tr>\n",
              "  </thead>\n",
              "  <tbody>\n",
              "    <tr>\n",
              "      <th>0</th>\n",
              "      <td>7.800</td>\n",
              "      <td>8.000</td>\n",
              "      <td>5.600</td>\n",
              "      <td>0.800</td>\n",
              "      <td>NaN</td>\n",
              "      <td>2015-12-31</td>\n",
              "      <td>2</td>\n",
              "    </tr>\n",
              "    <tr>\n",
              "      <th>1</th>\n",
              "      <td>7.200</td>\n",
              "      <td>12.900</td>\n",
              "      <td>7.400</td>\n",
              "      <td>0.300</td>\n",
              "      <td>NaN</td>\n",
              "      <td>2015-12-31</td>\n",
              "      <td>3</td>\n",
              "    </tr>\n",
              "    <tr>\n",
              "      <th>2</th>\n",
              "      <td>7.200</td>\n",
              "      <td>12.900</td>\n",
              "      <td>0.000</td>\n",
              "      <td>0.000</td>\n",
              "      <td>NaN</td>\n",
              "      <td>2015-12-31</td>\n",
              "      <td>4</td>\n",
              "    </tr>\n",
              "    <tr>\n",
              "      <th>3</th>\n",
              "      <td>7.200</td>\n",
              "      <td>14.500</td>\n",
              "      <td>7.400</td>\n",
              "      <td>0.000</td>\n",
              "      <td>NaN</td>\n",
              "      <td>2015-12-31</td>\n",
              "      <td>5</td>\n",
              "    </tr>\n",
              "    <tr>\n",
              "      <th>4</th>\n",
              "      <td>7.200</td>\n",
              "      <td>11.300</td>\n",
              "      <td>5.600</td>\n",
              "      <td>0.000</td>\n",
              "      <td>NaN</td>\n",
              "      <td>2015-12-31</td>\n",
              "      <td>6</td>\n",
              "    </tr>\n",
              "    <tr>\n",
              "      <th>...</th>\n",
              "      <td>...</td>\n",
              "      <td>...</td>\n",
              "      <td>...</td>\n",
              "      <td>...</td>\n",
              "      <td>...</td>\n",
              "      <td>...</td>\n",
              "      <td>...</td>\n",
              "    </tr>\n",
              "    <tr>\n",
              "      <th>8782</th>\n",
              "      <td>5.000</td>\n",
              "      <td>16.100</td>\n",
              "      <td>7.400</td>\n",
              "      <td>0.000</td>\n",
              "      <td>NaN</td>\n",
              "      <td>2017-01-01</td>\n",
              "      <td>21</td>\n",
              "    </tr>\n",
              "    <tr>\n",
              "      <th>8783</th>\n",
              "      <td>5.600</td>\n",
              "      <td>16.100</td>\n",
              "      <td>9.300</td>\n",
              "      <td>0.000</td>\n",
              "      <td>NaN</td>\n",
              "      <td>2017-01-01</td>\n",
              "      <td>22</td>\n",
              "    </tr>\n",
              "    <tr>\n",
              "      <th>8784</th>\n",
              "      <td>5.600</td>\n",
              "      <td>16.100</td>\n",
              "      <td>7.400</td>\n",
              "      <td>0.000</td>\n",
              "      <td>NaN</td>\n",
              "      <td>2017-01-01</td>\n",
              "      <td>23</td>\n",
              "    </tr>\n",
              "    <tr>\n",
              "      <th>8785</th>\n",
              "      <td>5.000</td>\n",
              "      <td>16.100</td>\n",
              "      <td>7.400</td>\n",
              "      <td>0.000</td>\n",
              "      <td>NaN</td>\n",
              "      <td>2017-01-02</td>\n",
              "      <td>0</td>\n",
              "    </tr>\n",
              "    <tr>\n",
              "      <th>8786</th>\n",
              "      <td>5.000</td>\n",
              "      <td>16.100</td>\n",
              "      <td>13.000</td>\n",
              "      <td>0.000</td>\n",
              "      <td>NaN</td>\n",
              "      <td>2017-01-02</td>\n",
              "      <td>1</td>\n",
              "    </tr>\n",
              "  </tbody>\n",
              "</table>\n",
              "<p>8787 rows × 7 columns</p>\n",
              "</div>\n",
              "    <div class=\"colab-df-buttons\">\n",
              "\n",
              "  <div class=\"colab-df-container\">\n",
              "    <button class=\"colab-df-convert\" onclick=\"convertToInteractive('df-acb9cc10-d6d3-4b51-b8e4-a460bd375527')\"\n",
              "            title=\"Convert this dataframe to an interactive table.\"\n",
              "            style=\"display:none;\">\n",
              "\n",
              "  <svg xmlns=\"http://www.w3.org/2000/svg\" height=\"24px\" viewBox=\"0 -960 960 960\">\n",
              "    <path d=\"M120-120v-720h720v720H120Zm60-500h600v-160H180v160Zm220 220h160v-160H400v160Zm0 220h160v-160H400v160ZM180-400h160v-160H180v160Zm440 0h160v-160H620v160ZM180-180h160v-160H180v160Zm440 0h160v-160H620v160Z\"/>\n",
              "  </svg>\n",
              "    </button>\n",
              "\n",
              "  <style>\n",
              "    .colab-df-container {\n",
              "      display:flex;\n",
              "      gap: 12px;\n",
              "    }\n",
              "\n",
              "    .colab-df-convert {\n",
              "      background-color: #E8F0FE;\n",
              "      border: none;\n",
              "      border-radius: 50%;\n",
              "      cursor: pointer;\n",
              "      display: none;\n",
              "      fill: #1967D2;\n",
              "      height: 32px;\n",
              "      padding: 0 0 0 0;\n",
              "      width: 32px;\n",
              "    }\n",
              "\n",
              "    .colab-df-convert:hover {\n",
              "      background-color: #E2EBFA;\n",
              "      box-shadow: 0px 1px 2px rgba(60, 64, 67, 0.3), 0px 1px 3px 1px rgba(60, 64, 67, 0.15);\n",
              "      fill: #174EA6;\n",
              "    }\n",
              "\n",
              "    .colab-df-buttons div {\n",
              "      margin-bottom: 4px;\n",
              "    }\n",
              "\n",
              "    [theme=dark] .colab-df-convert {\n",
              "      background-color: #3B4455;\n",
              "      fill: #D2E3FC;\n",
              "    }\n",
              "\n",
              "    [theme=dark] .colab-df-convert:hover {\n",
              "      background-color: #434B5C;\n",
              "      box-shadow: 0px 1px 3px 1px rgba(0, 0, 0, 0.15);\n",
              "      filter: drop-shadow(0px 1px 2px rgba(0, 0, 0, 0.3));\n",
              "      fill: #FFFFFF;\n",
              "    }\n",
              "  </style>\n",
              "\n",
              "    <script>\n",
              "      const buttonEl =\n",
              "        document.querySelector('#df-acb9cc10-d6d3-4b51-b8e4-a460bd375527 button.colab-df-convert');\n",
              "      buttonEl.style.display =\n",
              "        google.colab.kernel.accessAllowed ? 'block' : 'none';\n",
              "\n",
              "      async function convertToInteractive(key) {\n",
              "        const element = document.querySelector('#df-acb9cc10-d6d3-4b51-b8e4-a460bd375527');\n",
              "        const dataTable =\n",
              "          await google.colab.kernel.invokeFunction('convertToInteractive',\n",
              "                                                    [key], {});\n",
              "        if (!dataTable) return;\n",
              "\n",
              "        const docLinkHtml = 'Like what you see? Visit the ' +\n",
              "          '<a target=\"_blank\" href=https://colab.research.google.com/notebooks/data_table.ipynb>data table notebook</a>'\n",
              "          + ' to learn more about interactive tables.';\n",
              "        element.innerHTML = '';\n",
              "        dataTable['output_type'] = 'display_data';\n",
              "        await google.colab.output.renderOutput(dataTable, element);\n",
              "        const docLink = document.createElement('div');\n",
              "        docLink.innerHTML = docLinkHtml;\n",
              "        element.appendChild(docLink);\n",
              "      }\n",
              "    </script>\n",
              "  </div>\n",
              "\n",
              "\n",
              "<div id=\"df-f3c27a36-bfe4-47f9-a65b-fac7d1e37cf9\">\n",
              "  <button class=\"colab-df-quickchart\" onclick=\"quickchart('df-f3c27a36-bfe4-47f9-a65b-fac7d1e37cf9')\"\n",
              "            title=\"Suggest charts\"\n",
              "            style=\"display:none;\">\n",
              "\n",
              "<svg xmlns=\"http://www.w3.org/2000/svg\" height=\"24px\"viewBox=\"0 0 24 24\"\n",
              "     width=\"24px\">\n",
              "    <g>\n",
              "        <path d=\"M19 3H5c-1.1 0-2 .9-2 2v14c0 1.1.9 2 2 2h14c1.1 0 2-.9 2-2V5c0-1.1-.9-2-2-2zM9 17H7v-7h2v7zm4 0h-2V7h2v10zm4 0h-2v-4h2v4z\"/>\n",
              "    </g>\n",
              "</svg>\n",
              "  </button>\n",
              "\n",
              "<style>\n",
              "  .colab-df-quickchart {\n",
              "      --bg-color: #E8F0FE;\n",
              "      --fill-color: #1967D2;\n",
              "      --hover-bg-color: #E2EBFA;\n",
              "      --hover-fill-color: #174EA6;\n",
              "      --disabled-fill-color: #AAA;\n",
              "      --disabled-bg-color: #DDD;\n",
              "  }\n",
              "\n",
              "  [theme=dark] .colab-df-quickchart {\n",
              "      --bg-color: #3B4455;\n",
              "      --fill-color: #D2E3FC;\n",
              "      --hover-bg-color: #434B5C;\n",
              "      --hover-fill-color: #FFFFFF;\n",
              "      --disabled-bg-color: #3B4455;\n",
              "      --disabled-fill-color: #666;\n",
              "  }\n",
              "\n",
              "  .colab-df-quickchart {\n",
              "    background-color: var(--bg-color);\n",
              "    border: none;\n",
              "    border-radius: 50%;\n",
              "    cursor: pointer;\n",
              "    display: none;\n",
              "    fill: var(--fill-color);\n",
              "    height: 32px;\n",
              "    padding: 0;\n",
              "    width: 32px;\n",
              "  }\n",
              "\n",
              "  .colab-df-quickchart:hover {\n",
              "    background-color: var(--hover-bg-color);\n",
              "    box-shadow: 0 1px 2px rgba(60, 64, 67, 0.3), 0 1px 3px 1px rgba(60, 64, 67, 0.15);\n",
              "    fill: var(--button-hover-fill-color);\n",
              "  }\n",
              "\n",
              "  .colab-df-quickchart-complete:disabled,\n",
              "  .colab-df-quickchart-complete:disabled:hover {\n",
              "    background-color: var(--disabled-bg-color);\n",
              "    fill: var(--disabled-fill-color);\n",
              "    box-shadow: none;\n",
              "  }\n",
              "\n",
              "  .colab-df-spinner {\n",
              "    border: 2px solid var(--fill-color);\n",
              "    border-color: transparent;\n",
              "    border-bottom-color: var(--fill-color);\n",
              "    animation:\n",
              "      spin 1s steps(1) infinite;\n",
              "  }\n",
              "\n",
              "  @keyframes spin {\n",
              "    0% {\n",
              "      border-color: transparent;\n",
              "      border-bottom-color: var(--fill-color);\n",
              "      border-left-color: var(--fill-color);\n",
              "    }\n",
              "    20% {\n",
              "      border-color: transparent;\n",
              "      border-left-color: var(--fill-color);\n",
              "      border-top-color: var(--fill-color);\n",
              "    }\n",
              "    30% {\n",
              "      border-color: transparent;\n",
              "      border-left-color: var(--fill-color);\n",
              "      border-top-color: var(--fill-color);\n",
              "      border-right-color: var(--fill-color);\n",
              "    }\n",
              "    40% {\n",
              "      border-color: transparent;\n",
              "      border-right-color: var(--fill-color);\n",
              "      border-top-color: var(--fill-color);\n",
              "    }\n",
              "    60% {\n",
              "      border-color: transparent;\n",
              "      border-right-color: var(--fill-color);\n",
              "    }\n",
              "    80% {\n",
              "      border-color: transparent;\n",
              "      border-right-color: var(--fill-color);\n",
              "      border-bottom-color: var(--fill-color);\n",
              "    }\n",
              "    90% {\n",
              "      border-color: transparent;\n",
              "      border-bottom-color: var(--fill-color);\n",
              "    }\n",
              "  }\n",
              "</style>\n",
              "\n",
              "  <script>\n",
              "    async function quickchart(key) {\n",
              "      const quickchartButtonEl =\n",
              "        document.querySelector('#' + key + ' button');\n",
              "      quickchartButtonEl.disabled = true;  // To prevent multiple clicks.\n",
              "      quickchartButtonEl.classList.add('colab-df-spinner');\n",
              "      try {\n",
              "        const charts = await google.colab.kernel.invokeFunction(\n",
              "            'suggestCharts', [key], {});\n",
              "      } catch (error) {\n",
              "        console.error('Error during call to suggestCharts:', error);\n",
              "      }\n",
              "      quickchartButtonEl.classList.remove('colab-df-spinner');\n",
              "      quickchartButtonEl.classList.add('colab-df-quickchart-complete');\n",
              "    }\n",
              "    (() => {\n",
              "      let quickchartButtonEl =\n",
              "        document.querySelector('#df-f3c27a36-bfe4-47f9-a65b-fac7d1e37cf9 button');\n",
              "      quickchartButtonEl.style.display =\n",
              "        google.colab.kernel.accessAllowed ? 'block' : 'none';\n",
              "    })();\n",
              "  </script>\n",
              "</div>\n",
              "\n",
              "  <div id=\"id_876fb64c-5f42-4bbb-b271-6c455814d101\">\n",
              "    <style>\n",
              "      .colab-df-generate {\n",
              "        background-color: #E8F0FE;\n",
              "        border: none;\n",
              "        border-radius: 50%;\n",
              "        cursor: pointer;\n",
              "        display: none;\n",
              "        fill: #1967D2;\n",
              "        height: 32px;\n",
              "        padding: 0 0 0 0;\n",
              "        width: 32px;\n",
              "      }\n",
              "\n",
              "      .colab-df-generate:hover {\n",
              "        background-color: #E2EBFA;\n",
              "        box-shadow: 0px 1px 2px rgba(60, 64, 67, 0.3), 0px 1px 3px 1px rgba(60, 64, 67, 0.15);\n",
              "        fill: #174EA6;\n",
              "      }\n",
              "\n",
              "      [theme=dark] .colab-df-generate {\n",
              "        background-color: #3B4455;\n",
              "        fill: #D2E3FC;\n",
              "      }\n",
              "\n",
              "      [theme=dark] .colab-df-generate:hover {\n",
              "        background-color: #434B5C;\n",
              "        box-shadow: 0px 1px 3px 1px rgba(0, 0, 0, 0.15);\n",
              "        filter: drop-shadow(0px 1px 2px rgba(0, 0, 0, 0.3));\n",
              "        fill: #FFFFFF;\n",
              "      }\n",
              "    </style>\n",
              "    <button class=\"colab-df-generate\" onclick=\"generateWithVariable('needle_weather_data')\"\n",
              "            title=\"Generate code using this dataframe.\"\n",
              "            style=\"display:none;\">\n",
              "\n",
              "  <svg xmlns=\"http://www.w3.org/2000/svg\" height=\"24px\"viewBox=\"0 0 24 24\"\n",
              "       width=\"24px\">\n",
              "    <path d=\"M7,19H8.4L18.45,9,17,7.55,7,17.6ZM5,21V16.75L18.45,3.32a2,2,0,0,1,2.83,0l1.4,1.43a1.91,1.91,0,0,1,.58,1.4,1.91,1.91,0,0,1-.58,1.4L9.25,21ZM18.45,9,17,7.55Zm-12,3A5.31,5.31,0,0,0,4.9,8.1,5.31,5.31,0,0,0,1,6.5,5.31,5.31,0,0,0,4.9,4.9,5.31,5.31,0,0,0,6.5,1,5.31,5.31,0,0,0,8.1,4.9,5.31,5.31,0,0,0,12,6.5,5.46,5.46,0,0,0,6.5,12Z\"/>\n",
              "  </svg>\n",
              "    </button>\n",
              "    <script>\n",
              "      (() => {\n",
              "      const buttonEl =\n",
              "        document.querySelector('#id_876fb64c-5f42-4bbb-b271-6c455814d101 button.colab-df-generate');\n",
              "      buttonEl.style.display =\n",
              "        google.colab.kernel.accessAllowed ? 'block' : 'none';\n",
              "\n",
              "      buttonEl.onclick = () => {\n",
              "        google.colab.notebook.generateWithVariable('needle_weather_data');\n",
              "      }\n",
              "      })();\n",
              "    </script>\n",
              "  </div>\n",
              "\n",
              "    </div>\n",
              "  </div>\n"
            ],
            "application/vnd.google.colaboratory.intrinsic+json": {
              "type": "dataframe",
              "variable_name": "needle_weather_data",
              "summary": "{\n  \"name\": \"needle_weather_data\",\n  \"rows\": 8787,\n  \"fields\": [\n    {\n      \"column\": \"temperature\",\n      \"properties\": {\n        \"dtype\": \"number\",\n        \"std\": 9.719604948887355,\n        \"min\": -18.3,\n        \"max\": 35.6,\n        \"num_unique_values\": 139,\n        \"samples\": [\n          24.0,\n          18.3,\n          -3.9\n        ],\n        \"semantic_type\": \"\",\n        \"description\": \"\"\n      }\n    },\n    {\n      \"column\": \"visibility\",\n      \"properties\": {\n        \"dtype\": \"number\",\n        \"std\": 3.1442126491204667,\n        \"min\": 0.4,\n        \"max\": 16.1,\n        \"num_unique_values\": 17,\n        \"samples\": [\n          8.0,\n          12.9,\n          6.4\n        ],\n        \"semantic_type\": \"\",\n        \"description\": \"\"\n      }\n    },\n    {\n      \"column\": \"wind speed\",\n      \"properties\": {\n        \"dtype\": \"number\",\n        \"std\": 6.420919053028233,\n        \"min\": 0.0,\n        \"max\": 137.0,\n        \"num_unique_values\": 22,\n        \"samples\": [\n          5.6,\n          25.9,\n          22.2\n        ],\n        \"semantic_type\": \"\",\n        \"description\": \"\"\n      }\n    },\n    {\n      \"column\": \"precip\",\n      \"properties\": {\n        \"dtype\": \"number\",\n        \"std\": 0.6827492305259405,\n        \"min\": 0.0,\n        \"max\": 15.7,\n        \"num_unique_values\": 42,\n        \"samples\": [\n          10.2,\n          2.8,\n          0.5\n        ],\n        \"semantic_type\": \"\",\n        \"description\": \"\"\n      }\n    },\n    {\n      \"column\": \"events\",\n      \"properties\": {\n        \"dtype\": \"category\",\n        \"num_unique_values\": 3,\n        \"samples\": [\n          \"Rain\",\n          \"Snow\",\n          \"Fog\"\n        ],\n        \"semantic_type\": \"\",\n        \"description\": \"\"\n      }\n    },\n    {\n      \"column\": \"date\",\n      \"properties\": {\n        \"dtype\": \"date\",\n        \"min\": \"2015-12-31 00:00:00\",\n        \"max\": \"2017-01-02 00:00:00\",\n        \"num_unique_values\": 369,\n        \"samples\": [\n          \"2016-11-21 00:00:00\",\n          \"2016-02-02 00:00:00\",\n          \"2016-01-15 00:00:00\"\n        ],\n        \"semantic_type\": \"\",\n        \"description\": \"\"\n      }\n    },\n    {\n      \"column\": \"hour\",\n      \"properties\": {\n        \"dtype\": \"number\",\n        \"std\": 6,\n        \"min\": 0,\n        \"max\": 23,\n        \"num_unique_values\": 24,\n        \"samples\": [\n          10,\n          18,\n          2\n        ],\n        \"semantic_type\": \"\",\n        \"description\": \"\"\n      }\n    }\n  ]\n}"
            }
          },
          "metadata": {},
          "execution_count": 364
        }
      ]
    },
    {
      "cell_type": "markdown",
      "source": [
        "Напишем функцию для слияния таблиц и применим к датасету:"
      ],
      "metadata": {
        "id": "wc9LwZWvoKm3"
      }
    },
    {
      "cell_type": "code",
      "source": [
        "def add_weather_features(target: pd.DataFrame, weather: pd.DataFrame):\n",
        "  df = target.copy()\n",
        "  df = df.merge(weather, how='left', left_on=['pickup_date',\t'pickup_hour'], right_on=['date', 'hour'])\n",
        "  df.drop(columns=['date', 'hour'], inplace=True)\n",
        "  return df\n",
        "\n",
        "DF = add_weather_features(DF, needle_weather_data)"
      ],
      "metadata": {
        "id": "YZ2EFCP1LpMC"
      },
      "execution_count": null,
      "outputs": []
    },
    {
      "cell_type": "markdown",
      "source": [
        "Количество поездок в различных погодных условиях:"
      ],
      "metadata": {
        "id": "nZA2TOUxoDZq"
      }
    },
    {
      "cell_type": "code",
      "source": [
        "DF.events.value_counts()"
      ],
      "metadata": {
        "colab": {
          "base_uri": "https://localhost:8080/"
        },
        "id": "wMKm4IiRFFZx",
        "outputId": "f631ead7-787d-4cb6-b85a-ab6c1a00ba19"
      },
      "execution_count": null,
      "outputs": [
        {
          "output_type": "execute_result",
          "data": {
            "text/plain": [
              "events\n",
              "Rain    58300\n",
              "Snow    13126\n",
              "Fog         1\n",
              "Name: count, dtype: int64"
            ]
          },
          "metadata": {},
          "execution_count": 366
        }
      ]
    },
    {
      "cell_type": "markdown",
      "source": [
        "Доля пропусков в столбцах с погодными условиями:"
      ],
      "metadata": {
        "id": "DNa88kpooAYs"
      }
    },
    {
      "cell_type": "code",
      "source": [
        "weather_missing_values_count = DF[['temperature', 'visibility', 'wind speed', 'precip', 'events']].isnull().sum()\n",
        "total_observations = DF.shape[0]\n",
        "weather_missing_percentage = (weather_missing_values_count / total_observations) * 100\n",
        "print(round(weather_missing_percentage, 2))"
      ],
      "metadata": {
        "colab": {
          "base_uri": "https://localhost:8080/"
        },
        "id": "sGdXnatkJct4",
        "outputId": "ac9ae593-ac4b-4a4d-e37b-ae4e30ea97d1"
      },
      "execution_count": null,
      "outputs": [
        {
          "output_type": "stream",
          "name": "stdout",
          "text": [
            "temperature    0.820\n",
            "visibility     0.820\n",
            "wind speed     0.820\n",
            "precip         0.820\n",
            "events        95.100\n",
            "dtype: float64\n"
          ]
        }
      ]
    },
    {
      "cell_type": "markdown",
      "source": [
        "а) Поездок было совершено в снежную погоду - **13126**\n",
        "\n",
        "б) Процентов от общего количества наблюдений в таблице с данными о поездках занимают пропуски в столбцах с погодными условиями - **0.82**"
      ],
      "metadata": {
        "id": "zTZY3m8ZMC_7"
      }
    },
    {
      "cell_type": "markdown",
      "metadata": {
        "id": "hwsluTQHkBLn"
      },
      "source": [
        "### Задание 2.10.\n",
        "Реализуйте функцию fill_null_weather_data(), которая принимает на вход которая принимает на вход таблицу с данными о поездках. Функция должна заполнять пропущенные значения в столбцах.\n",
        "\n",
        "Пропуски в столбцах с погодными условиями -  temperature, visibility, wind speed, precip заполните медианным значением температуры, влажности, скорости ветра и видимости в зависимости от даты начала поездки. Для этого сгруппируйте данные по столбцу pickup_date и рассчитайте медиану в каждой группе, после чего с помощью комбинации методов transform() и fillna() заполните пропуски.\n",
        "Пропуски в столбце events заполните строкой 'None' - символом отсутствия погодных явлений (снега/дождя/тумана).\n",
        "\n",
        "Пропуски в столбцах с информацией из OSRM API - total_distance, total_travel_time и number_of_steps заполните медианным значением по столбцам.\n",
        "\n",
        "Чему равна медиана в столбце temperature после заполнения пропусков? Ответ округлите до десятых.\n"
      ]
    },
    {
      "cell_type": "code",
      "execution_count": null,
      "metadata": {
        "id": "oHIYqxjKkBLn"
      },
      "outputs": [],
      "source": [
        "def fill_null_weather_data(target: pd.DataFrame):\n",
        "  df = target.copy()\n",
        "  weather_cols = ['temperature', 'visibility', 'wind speed', 'precip', 'total_distance', 'total_travel_time', 'number_of_steps']\n",
        "\n",
        "  for col in weather_cols:\n",
        "    df[col] = df[col].fillna(df.groupby('pickup_date')[col].transform('median'))\n",
        "\n",
        "\n",
        "  df['events'] = df['events'].fillna('None')\n",
        "\n",
        "  return df\n",
        "\n",
        "DF = fill_null_weather_data(DF)"
      ]
    },
    {
      "cell_type": "code",
      "source": [
        "DF.describe()"
      ],
      "metadata": {
        "colab": {
          "base_uri": "https://localhost:8080/",
          "height": 454
        },
        "id": "TdFFRhJnv5Ek",
        "outputId": "8f3d7782-e439-40bc-cb5b-fbf022e6184e"
      },
      "execution_count": null,
      "outputs": [
        {
          "output_type": "execute_result",
          "data": {
            "text/plain": [
              "          vendor_id                pickup_datetime  passenger_count  \\\n",
              "count 1,458,644.000                        1458644    1,458,644.000   \n",
              "mean          1.535  2016-04-01 10:10:24.940037120            1.665   \n",
              "min           1.000            2016-01-01 00:00:17            0.000   \n",
              "25%           1.000  2016-02-17 16:46:04.249999872            1.000   \n",
              "50%           2.000            2016-04-01 17:19:40            1.000   \n",
              "75%           2.000  2016-05-15 03:56:08.750000128            2.000   \n",
              "max           2.000            2016-06-30 23:59:39            9.000   \n",
              "std           0.499                            NaN            1.314   \n",
              "\n",
              "       pickup_longitude  pickup_latitude  dropoff_longitude  dropoff_latitude  \\\n",
              "count     1,458,644.000    1,458,644.000      1,458,644.000     1,458,644.000   \n",
              "mean            -73.973           40.751            -73.973            40.752   \n",
              "min            -121.933           34.360           -121.933            32.181   \n",
              "25%             -73.992           40.737            -73.991            40.736   \n",
              "50%             -73.982           40.754            -73.980            40.755   \n",
              "75%             -73.967           40.768            -73.963            40.770   \n",
              "max             -61.336           51.881            -61.336            43.921   \n",
              "std               0.071            0.033              0.071             0.036   \n",
              "\n",
              "       trip_duration                    pickup_date   pickup_hour  ...  \\\n",
              "count  1,458,644.000                        1458644 1,458,644.000  ...   \n",
              "mean         959.492  2016-03-31 20:03:56.715196160        13.606  ...   \n",
              "min            1.000            2016-01-01 00:00:00         0.000  ...   \n",
              "25%          397.000            2016-02-17 00:00:00         9.000  ...   \n",
              "50%          662.000            2016-04-01 00:00:00        14.000  ...   \n",
              "75%        1,075.000            2016-05-15 00:00:00        19.000  ...   \n",
              "max    3,526,282.000            2016-06-30 00:00:00        23.000  ...   \n",
              "std        5,237.432                            NaN         6.400  ...   \n",
              "\n",
              "       total_distance  total_travel_time  number_of_steps  haversine_distance  \\\n",
              "count   1,458,644.000      1,458,644.000    1,458,644.000       1,458,644.000   \n",
              "mean        4,626.382            389.372            7.547               3.441   \n",
              "min             0.000              0.000            2.000               0.000   \n",
              "25%         1,666.100            181.500            5.000               1.232   \n",
              "50%         2,755.100            289.500            6.000               2.094   \n",
              "75%         5,113.800            490.700            9.000               3.875   \n",
              "max        94,204.200          5,135.400           46.000           1,240.909   \n",
              "std         5,303.877            314.468            4.433               4.297   \n",
              "\n",
              "          direction   geo_cluster   temperature    visibility    wind speed  \\\n",
              "count 1,458,644.000 1,458,644.000 1,458,644.000 1,458,644.000 1,458,644.000   \n",
              "mean        -15.669         3.761        11.092        14.747         8.940   \n",
              "min        -179.993         0.000       -18.300         0.400         0.000   \n",
              "25%        -125.274         0.000         3.900        16.100         5.600   \n",
              "50%           8.200         4.000        11.100        16.100         9.300   \n",
              "75%          53.405         9.000        18.300        16.100        13.000   \n",
              "max         180.000         9.000        32.200        16.100       137.000   \n",
              "std         104.491         3.662         9.122         3.053         7.211   \n",
              "\n",
              "             precip  \n",
              "count 1,458,644.000  \n",
              "mean          0.068  \n",
              "min           0.000  \n",
              "25%           0.000  \n",
              "50%           0.000  \n",
              "75%           0.000  \n",
              "max          11.900  \n",
              "std           0.462  \n",
              "\n",
              "[8 rows x 22 columns]"
            ],
            "text/html": [
              "\n",
              "  <div id=\"df-965a5e4f-d35e-42b9-9ef3-b6ed5fbcfd5a\" class=\"colab-df-container\">\n",
              "    <div>\n",
              "<style scoped>\n",
              "    .dataframe tbody tr th:only-of-type {\n",
              "        vertical-align: middle;\n",
              "    }\n",
              "\n",
              "    .dataframe tbody tr th {\n",
              "        vertical-align: top;\n",
              "    }\n",
              "\n",
              "    .dataframe thead th {\n",
              "        text-align: right;\n",
              "    }\n",
              "</style>\n",
              "<table border=\"1\" class=\"dataframe\">\n",
              "  <thead>\n",
              "    <tr style=\"text-align: right;\">\n",
              "      <th></th>\n",
              "      <th>vendor_id</th>\n",
              "      <th>pickup_datetime</th>\n",
              "      <th>passenger_count</th>\n",
              "      <th>pickup_longitude</th>\n",
              "      <th>pickup_latitude</th>\n",
              "      <th>dropoff_longitude</th>\n",
              "      <th>dropoff_latitude</th>\n",
              "      <th>trip_duration</th>\n",
              "      <th>pickup_date</th>\n",
              "      <th>pickup_hour</th>\n",
              "      <th>...</th>\n",
              "      <th>total_distance</th>\n",
              "      <th>total_travel_time</th>\n",
              "      <th>number_of_steps</th>\n",
              "      <th>haversine_distance</th>\n",
              "      <th>direction</th>\n",
              "      <th>geo_cluster</th>\n",
              "      <th>temperature</th>\n",
              "      <th>visibility</th>\n",
              "      <th>wind speed</th>\n",
              "      <th>precip</th>\n",
              "    </tr>\n",
              "  </thead>\n",
              "  <tbody>\n",
              "    <tr>\n",
              "      <th>count</th>\n",
              "      <td>1,458,644.000</td>\n",
              "      <td>1458644</td>\n",
              "      <td>1,458,644.000</td>\n",
              "      <td>1,458,644.000</td>\n",
              "      <td>1,458,644.000</td>\n",
              "      <td>1,458,644.000</td>\n",
              "      <td>1,458,644.000</td>\n",
              "      <td>1,458,644.000</td>\n",
              "      <td>1458644</td>\n",
              "      <td>1,458,644.000</td>\n",
              "      <td>...</td>\n",
              "      <td>1,458,644.000</td>\n",
              "      <td>1,458,644.000</td>\n",
              "      <td>1,458,644.000</td>\n",
              "      <td>1,458,644.000</td>\n",
              "      <td>1,458,644.000</td>\n",
              "      <td>1,458,644.000</td>\n",
              "      <td>1,458,644.000</td>\n",
              "      <td>1,458,644.000</td>\n",
              "      <td>1,458,644.000</td>\n",
              "      <td>1,458,644.000</td>\n",
              "    </tr>\n",
              "    <tr>\n",
              "      <th>mean</th>\n",
              "      <td>1.535</td>\n",
              "      <td>2016-04-01 10:10:24.940037120</td>\n",
              "      <td>1.665</td>\n",
              "      <td>-73.973</td>\n",
              "      <td>40.751</td>\n",
              "      <td>-73.973</td>\n",
              "      <td>40.752</td>\n",
              "      <td>959.492</td>\n",
              "      <td>2016-03-31 20:03:56.715196160</td>\n",
              "      <td>13.606</td>\n",
              "      <td>...</td>\n",
              "      <td>4,626.382</td>\n",
              "      <td>389.372</td>\n",
              "      <td>7.547</td>\n",
              "      <td>3.441</td>\n",
              "      <td>-15.669</td>\n",
              "      <td>3.761</td>\n",
              "      <td>11.092</td>\n",
              "      <td>14.747</td>\n",
              "      <td>8.940</td>\n",
              "      <td>0.068</td>\n",
              "    </tr>\n",
              "    <tr>\n",
              "      <th>min</th>\n",
              "      <td>1.000</td>\n",
              "      <td>2016-01-01 00:00:17</td>\n",
              "      <td>0.000</td>\n",
              "      <td>-121.933</td>\n",
              "      <td>34.360</td>\n",
              "      <td>-121.933</td>\n",
              "      <td>32.181</td>\n",
              "      <td>1.000</td>\n",
              "      <td>2016-01-01 00:00:00</td>\n",
              "      <td>0.000</td>\n",
              "      <td>...</td>\n",
              "      <td>0.000</td>\n",
              "      <td>0.000</td>\n",
              "      <td>2.000</td>\n",
              "      <td>0.000</td>\n",
              "      <td>-179.993</td>\n",
              "      <td>0.000</td>\n",
              "      <td>-18.300</td>\n",
              "      <td>0.400</td>\n",
              "      <td>0.000</td>\n",
              "      <td>0.000</td>\n",
              "    </tr>\n",
              "    <tr>\n",
              "      <th>25%</th>\n",
              "      <td>1.000</td>\n",
              "      <td>2016-02-17 16:46:04.249999872</td>\n",
              "      <td>1.000</td>\n",
              "      <td>-73.992</td>\n",
              "      <td>40.737</td>\n",
              "      <td>-73.991</td>\n",
              "      <td>40.736</td>\n",
              "      <td>397.000</td>\n",
              "      <td>2016-02-17 00:00:00</td>\n",
              "      <td>9.000</td>\n",
              "      <td>...</td>\n",
              "      <td>1,666.100</td>\n",
              "      <td>181.500</td>\n",
              "      <td>5.000</td>\n",
              "      <td>1.232</td>\n",
              "      <td>-125.274</td>\n",
              "      <td>0.000</td>\n",
              "      <td>3.900</td>\n",
              "      <td>16.100</td>\n",
              "      <td>5.600</td>\n",
              "      <td>0.000</td>\n",
              "    </tr>\n",
              "    <tr>\n",
              "      <th>50%</th>\n",
              "      <td>2.000</td>\n",
              "      <td>2016-04-01 17:19:40</td>\n",
              "      <td>1.000</td>\n",
              "      <td>-73.982</td>\n",
              "      <td>40.754</td>\n",
              "      <td>-73.980</td>\n",
              "      <td>40.755</td>\n",
              "      <td>662.000</td>\n",
              "      <td>2016-04-01 00:00:00</td>\n",
              "      <td>14.000</td>\n",
              "      <td>...</td>\n",
              "      <td>2,755.100</td>\n",
              "      <td>289.500</td>\n",
              "      <td>6.000</td>\n",
              "      <td>2.094</td>\n",
              "      <td>8.200</td>\n",
              "      <td>4.000</td>\n",
              "      <td>11.100</td>\n",
              "      <td>16.100</td>\n",
              "      <td>9.300</td>\n",
              "      <td>0.000</td>\n",
              "    </tr>\n",
              "    <tr>\n",
              "      <th>75%</th>\n",
              "      <td>2.000</td>\n",
              "      <td>2016-05-15 03:56:08.750000128</td>\n",
              "      <td>2.000</td>\n",
              "      <td>-73.967</td>\n",
              "      <td>40.768</td>\n",
              "      <td>-73.963</td>\n",
              "      <td>40.770</td>\n",
              "      <td>1,075.000</td>\n",
              "      <td>2016-05-15 00:00:00</td>\n",
              "      <td>19.000</td>\n",
              "      <td>...</td>\n",
              "      <td>5,113.800</td>\n",
              "      <td>490.700</td>\n",
              "      <td>9.000</td>\n",
              "      <td>3.875</td>\n",
              "      <td>53.405</td>\n",
              "      <td>9.000</td>\n",
              "      <td>18.300</td>\n",
              "      <td>16.100</td>\n",
              "      <td>13.000</td>\n",
              "      <td>0.000</td>\n",
              "    </tr>\n",
              "    <tr>\n",
              "      <th>max</th>\n",
              "      <td>2.000</td>\n",
              "      <td>2016-06-30 23:59:39</td>\n",
              "      <td>9.000</td>\n",
              "      <td>-61.336</td>\n",
              "      <td>51.881</td>\n",
              "      <td>-61.336</td>\n",
              "      <td>43.921</td>\n",
              "      <td>3,526,282.000</td>\n",
              "      <td>2016-06-30 00:00:00</td>\n",
              "      <td>23.000</td>\n",
              "      <td>...</td>\n",
              "      <td>94,204.200</td>\n",
              "      <td>5,135.400</td>\n",
              "      <td>46.000</td>\n",
              "      <td>1,240.909</td>\n",
              "      <td>180.000</td>\n",
              "      <td>9.000</td>\n",
              "      <td>32.200</td>\n",
              "      <td>16.100</td>\n",
              "      <td>137.000</td>\n",
              "      <td>11.900</td>\n",
              "    </tr>\n",
              "    <tr>\n",
              "      <th>std</th>\n",
              "      <td>0.499</td>\n",
              "      <td>NaN</td>\n",
              "      <td>1.314</td>\n",
              "      <td>0.071</td>\n",
              "      <td>0.033</td>\n",
              "      <td>0.071</td>\n",
              "      <td>0.036</td>\n",
              "      <td>5,237.432</td>\n",
              "      <td>NaN</td>\n",
              "      <td>6.400</td>\n",
              "      <td>...</td>\n",
              "      <td>5,303.877</td>\n",
              "      <td>314.468</td>\n",
              "      <td>4.433</td>\n",
              "      <td>4.297</td>\n",
              "      <td>104.491</td>\n",
              "      <td>3.662</td>\n",
              "      <td>9.122</td>\n",
              "      <td>3.053</td>\n",
              "      <td>7.211</td>\n",
              "      <td>0.462</td>\n",
              "    </tr>\n",
              "  </tbody>\n",
              "</table>\n",
              "<p>8 rows × 22 columns</p>\n",
              "</div>\n",
              "    <div class=\"colab-df-buttons\">\n",
              "\n",
              "  <div class=\"colab-df-container\">\n",
              "    <button class=\"colab-df-convert\" onclick=\"convertToInteractive('df-965a5e4f-d35e-42b9-9ef3-b6ed5fbcfd5a')\"\n",
              "            title=\"Convert this dataframe to an interactive table.\"\n",
              "            style=\"display:none;\">\n",
              "\n",
              "  <svg xmlns=\"http://www.w3.org/2000/svg\" height=\"24px\" viewBox=\"0 -960 960 960\">\n",
              "    <path d=\"M120-120v-720h720v720H120Zm60-500h600v-160H180v160Zm220 220h160v-160H400v160Zm0 220h160v-160H400v160ZM180-400h160v-160H180v160Zm440 0h160v-160H620v160ZM180-180h160v-160H180v160Zm440 0h160v-160H620v160Z\"/>\n",
              "  </svg>\n",
              "    </button>\n",
              "\n",
              "  <style>\n",
              "    .colab-df-container {\n",
              "      display:flex;\n",
              "      gap: 12px;\n",
              "    }\n",
              "\n",
              "    .colab-df-convert {\n",
              "      background-color: #E8F0FE;\n",
              "      border: none;\n",
              "      border-radius: 50%;\n",
              "      cursor: pointer;\n",
              "      display: none;\n",
              "      fill: #1967D2;\n",
              "      height: 32px;\n",
              "      padding: 0 0 0 0;\n",
              "      width: 32px;\n",
              "    }\n",
              "\n",
              "    .colab-df-convert:hover {\n",
              "      background-color: #E2EBFA;\n",
              "      box-shadow: 0px 1px 2px rgba(60, 64, 67, 0.3), 0px 1px 3px 1px rgba(60, 64, 67, 0.15);\n",
              "      fill: #174EA6;\n",
              "    }\n",
              "\n",
              "    .colab-df-buttons div {\n",
              "      margin-bottom: 4px;\n",
              "    }\n",
              "\n",
              "    [theme=dark] .colab-df-convert {\n",
              "      background-color: #3B4455;\n",
              "      fill: #D2E3FC;\n",
              "    }\n",
              "\n",
              "    [theme=dark] .colab-df-convert:hover {\n",
              "      background-color: #434B5C;\n",
              "      box-shadow: 0px 1px 3px 1px rgba(0, 0, 0, 0.15);\n",
              "      filter: drop-shadow(0px 1px 2px rgba(0, 0, 0, 0.3));\n",
              "      fill: #FFFFFF;\n",
              "    }\n",
              "  </style>\n",
              "\n",
              "    <script>\n",
              "      const buttonEl =\n",
              "        document.querySelector('#df-965a5e4f-d35e-42b9-9ef3-b6ed5fbcfd5a button.colab-df-convert');\n",
              "      buttonEl.style.display =\n",
              "        google.colab.kernel.accessAllowed ? 'block' : 'none';\n",
              "\n",
              "      async function convertToInteractive(key) {\n",
              "        const element = document.querySelector('#df-965a5e4f-d35e-42b9-9ef3-b6ed5fbcfd5a');\n",
              "        const dataTable =\n",
              "          await google.colab.kernel.invokeFunction('convertToInteractive',\n",
              "                                                    [key], {});\n",
              "        if (!dataTable) return;\n",
              "\n",
              "        const docLinkHtml = 'Like what you see? Visit the ' +\n",
              "          '<a target=\"_blank\" href=https://colab.research.google.com/notebooks/data_table.ipynb>data table notebook</a>'\n",
              "          + ' to learn more about interactive tables.';\n",
              "        element.innerHTML = '';\n",
              "        dataTable['output_type'] = 'display_data';\n",
              "        await google.colab.output.renderOutput(dataTable, element);\n",
              "        const docLink = document.createElement('div');\n",
              "        docLink.innerHTML = docLinkHtml;\n",
              "        element.appendChild(docLink);\n",
              "      }\n",
              "    </script>\n",
              "  </div>\n",
              "\n",
              "\n",
              "<div id=\"df-078a2f88-a37d-4e52-83d3-ddbeb0640d23\">\n",
              "  <button class=\"colab-df-quickchart\" onclick=\"quickchart('df-078a2f88-a37d-4e52-83d3-ddbeb0640d23')\"\n",
              "            title=\"Suggest charts\"\n",
              "            style=\"display:none;\">\n",
              "\n",
              "<svg xmlns=\"http://www.w3.org/2000/svg\" height=\"24px\"viewBox=\"0 0 24 24\"\n",
              "     width=\"24px\">\n",
              "    <g>\n",
              "        <path d=\"M19 3H5c-1.1 0-2 .9-2 2v14c0 1.1.9 2 2 2h14c1.1 0 2-.9 2-2V5c0-1.1-.9-2-2-2zM9 17H7v-7h2v7zm4 0h-2V7h2v10zm4 0h-2v-4h2v4z\"/>\n",
              "    </g>\n",
              "</svg>\n",
              "  </button>\n",
              "\n",
              "<style>\n",
              "  .colab-df-quickchart {\n",
              "      --bg-color: #E8F0FE;\n",
              "      --fill-color: #1967D2;\n",
              "      --hover-bg-color: #E2EBFA;\n",
              "      --hover-fill-color: #174EA6;\n",
              "      --disabled-fill-color: #AAA;\n",
              "      --disabled-bg-color: #DDD;\n",
              "  }\n",
              "\n",
              "  [theme=dark] .colab-df-quickchart {\n",
              "      --bg-color: #3B4455;\n",
              "      --fill-color: #D2E3FC;\n",
              "      --hover-bg-color: #434B5C;\n",
              "      --hover-fill-color: #FFFFFF;\n",
              "      --disabled-bg-color: #3B4455;\n",
              "      --disabled-fill-color: #666;\n",
              "  }\n",
              "\n",
              "  .colab-df-quickchart {\n",
              "    background-color: var(--bg-color);\n",
              "    border: none;\n",
              "    border-radius: 50%;\n",
              "    cursor: pointer;\n",
              "    display: none;\n",
              "    fill: var(--fill-color);\n",
              "    height: 32px;\n",
              "    padding: 0;\n",
              "    width: 32px;\n",
              "  }\n",
              "\n",
              "  .colab-df-quickchart:hover {\n",
              "    background-color: var(--hover-bg-color);\n",
              "    box-shadow: 0 1px 2px rgba(60, 64, 67, 0.3), 0 1px 3px 1px rgba(60, 64, 67, 0.15);\n",
              "    fill: var(--button-hover-fill-color);\n",
              "  }\n",
              "\n",
              "  .colab-df-quickchart-complete:disabled,\n",
              "  .colab-df-quickchart-complete:disabled:hover {\n",
              "    background-color: var(--disabled-bg-color);\n",
              "    fill: var(--disabled-fill-color);\n",
              "    box-shadow: none;\n",
              "  }\n",
              "\n",
              "  .colab-df-spinner {\n",
              "    border: 2px solid var(--fill-color);\n",
              "    border-color: transparent;\n",
              "    border-bottom-color: var(--fill-color);\n",
              "    animation:\n",
              "      spin 1s steps(1) infinite;\n",
              "  }\n",
              "\n",
              "  @keyframes spin {\n",
              "    0% {\n",
              "      border-color: transparent;\n",
              "      border-bottom-color: var(--fill-color);\n",
              "      border-left-color: var(--fill-color);\n",
              "    }\n",
              "    20% {\n",
              "      border-color: transparent;\n",
              "      border-left-color: var(--fill-color);\n",
              "      border-top-color: var(--fill-color);\n",
              "    }\n",
              "    30% {\n",
              "      border-color: transparent;\n",
              "      border-left-color: var(--fill-color);\n",
              "      border-top-color: var(--fill-color);\n",
              "      border-right-color: var(--fill-color);\n",
              "    }\n",
              "    40% {\n",
              "      border-color: transparent;\n",
              "      border-right-color: var(--fill-color);\n",
              "      border-top-color: var(--fill-color);\n",
              "    }\n",
              "    60% {\n",
              "      border-color: transparent;\n",
              "      border-right-color: var(--fill-color);\n",
              "    }\n",
              "    80% {\n",
              "      border-color: transparent;\n",
              "      border-right-color: var(--fill-color);\n",
              "      border-bottom-color: var(--fill-color);\n",
              "    }\n",
              "    90% {\n",
              "      border-color: transparent;\n",
              "      border-bottom-color: var(--fill-color);\n",
              "    }\n",
              "  }\n",
              "</style>\n",
              "\n",
              "  <script>\n",
              "    async function quickchart(key) {\n",
              "      const quickchartButtonEl =\n",
              "        document.querySelector('#' + key + ' button');\n",
              "      quickchartButtonEl.disabled = true;  // To prevent multiple clicks.\n",
              "      quickchartButtonEl.classList.add('colab-df-spinner');\n",
              "      try {\n",
              "        const charts = await google.colab.kernel.invokeFunction(\n",
              "            'suggestCharts', [key], {});\n",
              "      } catch (error) {\n",
              "        console.error('Error during call to suggestCharts:', error);\n",
              "      }\n",
              "      quickchartButtonEl.classList.remove('colab-df-spinner');\n",
              "      quickchartButtonEl.classList.add('colab-df-quickchart-complete');\n",
              "    }\n",
              "    (() => {\n",
              "      let quickchartButtonEl =\n",
              "        document.querySelector('#df-078a2f88-a37d-4e52-83d3-ddbeb0640d23 button');\n",
              "      quickchartButtonEl.style.display =\n",
              "        google.colab.kernel.accessAllowed ? 'block' : 'none';\n",
              "    })();\n",
              "  </script>\n",
              "</div>\n",
              "\n",
              "    </div>\n",
              "  </div>\n"
            ],
            "application/vnd.google.colaboratory.intrinsic+json": {
              "type": "dataframe"
            }
          },
          "metadata": {},
          "execution_count": 369
        }
      ]
    },
    {
      "cell_type": "markdown",
      "source": [
        " - Медиана в столбце temperature после заполнения пропусков **равна 11.1**."
      ],
      "metadata": {
        "id": "jaXj-L5owL4f"
      }
    },
    {
      "cell_type": "markdown",
      "metadata": {
        "id": "MahzwVDxkBLn"
      },
      "source": [
        "\n",
        "В завершение первой части найдем очевидные выбросы в целевой переменной - длительности поездки.\n",
        "\n",
        "Проще всего найти слишком продолжительные поездки. Давайте условимся, что выбросами будут считаться поездки, длительность которых превышает 24 часа.\n",
        "\n",
        "Чуть сложнее с анализом поездок, длительность которых слишком мала. Потому что к ним относятся действительно реальные поездки на короткие расстояния, поездки, которые были отменены через секунду после того как включился счетчик, а также “телепортации” - перемещение на большие расстояния за считанные секунды.\n",
        "Условимся, что мы будем считать выбросами только последнюю группу. Как же нам их обнаружить наиболее простым способом?\n",
        "\n",
        "Можно воспользоваться информацией о кратчайшем расстоянии, которое проезжает такси. Вычислить среднюю скорость автомобиля на кратчайшем пути следующим образом:\n",
        "$$avg\\_speed= \\frac{total\\_distance}{1000*trip\\_duration}*3600$$\n",
        "Если мы построим диаграмму рассеяния средней скорости движения автомобилей, мы увидим следующую картину:\n"
      ]
    },
    {
      "cell_type": "code",
      "execution_count": null,
      "metadata": {
        "id": "Nnp1KatIkBLo",
        "colab": {
          "base_uri": "https://localhost:8080/",
          "height": 465
        },
        "outputId": "8ceec4e1-dd08-4750-eba1-5b198c3ca576"
      },
      "outputs": [
        {
          "output_type": "display_data",
          "data": {
            "text/plain": [
              "<Figure size 1000x500 with 1 Axes>"
            ],
            "image/png": "[encoded data removed]"
          },
          "metadata": {}
        }
      ],
      "source": [
        "avg_speed = DF['total_distance'] / DF['trip_duration'] * 3.6\n",
        "fig, ax = plt.subplots(figsize=(10, 5))\n",
        "sns.scatterplot(x=avg_speed.index, y=avg_speed, ax=ax)\n",
        "ax.set_xlabel('Index')\n",
        "ax.set_ylabel('Average speed');"
      ]
    },
    {
      "cell_type": "markdown",
      "metadata": {
        "id": "BGxXxv7LkBLo"
      },
      "source": [
        "Как раз отсюда мы видим, что у нас есть “поездки-телепортации”, для которых средняя скорость более 1000 км/ч. Даже есть такая, средняя скорость которой составляла более 12000 км/ч!\n",
        "\n",
        "Давайте условимся, что предельная средняя скорость, которую могут развивать таксисты будет 300 км/ч.\n"
      ]
    },
    {
      "cell_type": "markdown",
      "metadata": {
        "id": "sSWHdHNWkBLo"
      },
      "source": [
        "### Задание 2.11.\n",
        "Найдите поездки, длительность которых превышает 24 часа. И удалите их из набора данных.\n",
        "\n",
        "а) Сколько выбросов по признаку длительности поездки вам удалось найти?\n",
        "\n",
        "Найдите поездки, средняя скорость которых по кратчайшему пути превышает 300 км/ч и удалите их из данных.\n",
        "\n",
        "б) Сколько выбросов по признаку скорости вам удалось найти?"
      ]
    },
    {
      "cell_type": "code",
      "source": [
        "DF[['total_distance', 'trip_duration']].describe()"
      ],
      "metadata": {
        "colab": {
          "base_uri": "https://localhost:8080/",
          "height": 300
        },
        "id": "gYyJZsDhw6eA",
        "outputId": "315a1677-66bb-44dd-d9b7-358e1055f2bc"
      },
      "execution_count": null,
      "outputs": [
        {
          "output_type": "execute_result",
          "data": {
            "text/plain": [
              "       total_distance  trip_duration\n",
              "count   1,458,644.000  1,458,644.000\n",
              "mean        4,626.382        959.492\n",
              "std         5,303.877      5,237.432\n",
              "min             0.000          1.000\n",
              "25%         1,666.100        397.000\n",
              "50%         2,755.100        662.000\n",
              "75%         5,113.800      1,075.000\n",
              "max        94,204.200  3,526,282.000"
            ],
            "text/html": [
              "\n",
              "  <div id=\"df-8f57f05c-cabe-4f45-a4fa-1bd122b7b36c\" class=\"colab-df-container\">\n",
              "    <div>\n",
              "<style scoped>\n",
              "    .dataframe tbody tr th:only-of-type {\n",
              "        vertical-align: middle;\n",
              "    }\n",
              "\n",
              "    .dataframe tbody tr th {\n",
              "        vertical-align: top;\n",
              "    }\n",
              "\n",
              "    .dataframe thead th {\n",
              "        text-align: right;\n",
              "    }\n",
              "</style>\n",
              "<table border=\"1\" class=\"dataframe\">\n",
              "  <thead>\n",
              "    <tr style=\"text-align: right;\">\n",
              "      <th></th>\n",
              "      <th>total_distance</th>\n",
              "      <th>trip_duration</th>\n",
              "    </tr>\n",
              "  </thead>\n",
              "  <tbody>\n",
              "    <tr>\n",
              "      <th>count</th>\n",
              "      <td>1,458,644.000</td>\n",
              "      <td>1,458,644.000</td>\n",
              "    </tr>\n",
              "    <tr>\n",
              "      <th>mean</th>\n",
              "      <td>4,626.382</td>\n",
              "      <td>959.492</td>\n",
              "    </tr>\n",
              "    <tr>\n",
              "      <th>std</th>\n",
              "      <td>5,303.877</td>\n",
              "      <td>5,237.432</td>\n",
              "    </tr>\n",
              "    <tr>\n",
              "      <th>min</th>\n",
              "      <td>0.000</td>\n",
              "      <td>1.000</td>\n",
              "    </tr>\n",
              "    <tr>\n",
              "      <th>25%</th>\n",
              "      <td>1,666.100</td>\n",
              "      <td>397.000</td>\n",
              "    </tr>\n",
              "    <tr>\n",
              "      <th>50%</th>\n",
              "      <td>2,755.100</td>\n",
              "      <td>662.000</td>\n",
              "    </tr>\n",
              "    <tr>\n",
              "      <th>75%</th>\n",
              "      <td>5,113.800</td>\n",
              "      <td>1,075.000</td>\n",
              "    </tr>\n",
              "    <tr>\n",
              "      <th>max</th>\n",
              "      <td>94,204.200</td>\n",
              "      <td>3,526,282.000</td>\n",
              "    </tr>\n",
              "  </tbody>\n",
              "</table>\n",
              "</div>\n",
              "    <div class=\"colab-df-buttons\">\n",
              "\n",
              "  <div class=\"colab-df-container\">\n",
              "    <button class=\"colab-df-convert\" onclick=\"convertToInteractive('df-8f57f05c-cabe-4f45-a4fa-1bd122b7b36c')\"\n",
              "            title=\"Convert this dataframe to an interactive table.\"\n",
              "            style=\"display:none;\">\n",
              "\n",
              "  <svg xmlns=\"http://www.w3.org/2000/svg\" height=\"24px\" viewBox=\"0 -960 960 960\">\n",
              "    <path d=\"M120-120v-720h720v720H120Zm60-500h600v-160H180v160Zm220 220h160v-160H400v160Zm0 220h160v-160H400v160ZM180-400h160v-160H180v160Zm440 0h160v-160H620v160ZM180-180h160v-160H180v160Zm440 0h160v-160H620v160Z\"/>\n",
              "  </svg>\n",
              "    </button>\n",
              "\n",
              "  <style>\n",
              "    .colab-df-container {\n",
              "      display:flex;\n",
              "      gap: 12px;\n",
              "    }\n",
              "\n",
              "    .colab-df-convert {\n",
              "      background-color: #E8F0FE;\n",
              "      border: none;\n",
              "      border-radius: 50%;\n",
              "      cursor: pointer;\n",
              "      display: none;\n",
              "      fill: #1967D2;\n",
              "      height: 32px;\n",
              "      padding: 0 0 0 0;\n",
              "      width: 32px;\n",
              "    }\n",
              "\n",
              "    .colab-df-convert:hover {\n",
              "      background-color: #E2EBFA;\n",
              "      box-shadow: 0px 1px 2px rgba(60, 64, 67, 0.3), 0px 1px 3px 1px rgba(60, 64, 67, 0.15);\n",
              "      fill: #174EA6;\n",
              "    }\n",
              "\n",
              "    .colab-df-buttons div {\n",
              "      margin-bottom: 4px;\n",
              "    }\n",
              "\n",
              "    [theme=dark] .colab-df-convert {\n",
              "      background-color: #3B4455;\n",
              "      fill: #D2E3FC;\n",
              "    }\n",
              "\n",
              "    [theme=dark] .colab-df-convert:hover {\n",
              "      background-color: #434B5C;\n",
              "      box-shadow: 0px 1px 3px 1px rgba(0, 0, 0, 0.15);\n",
              "      filter: drop-shadow(0px 1px 2px rgba(0, 0, 0, 0.3));\n",
              "      fill: #FFFFFF;\n",
              "    }\n",
              "  </style>\n",
              "\n",
              "    <script>\n",
              "      const buttonEl =\n",
              "        document.querySelector('#df-8f57f05c-cabe-4f45-a4fa-1bd122b7b36c button.colab-df-convert');\n",
              "      buttonEl.style.display =\n",
              "        google.colab.kernel.accessAllowed ? 'block' : 'none';\n",
              "\n",
              "      async function convertToInteractive(key) {\n",
              "        const element = document.querySelector('#df-8f57f05c-cabe-4f45-a4fa-1bd122b7b36c');\n",
              "        const dataTable =\n",
              "          await google.colab.kernel.invokeFunction('convertToInteractive',\n",
              "                                                    [key], {});\n",
              "        if (!dataTable) return;\n",
              "\n",
              "        const docLinkHtml = 'Like what you see? Visit the ' +\n",
              "          '<a target=\"_blank\" href=https://colab.research.google.com/notebooks/data_table.ipynb>data table notebook</a>'\n",
              "          + ' to learn more about interactive tables.';\n",
              "        element.innerHTML = '';\n",
              "        dataTable['output_type'] = 'display_data';\n",
              "        await google.colab.output.renderOutput(dataTable, element);\n",
              "        const docLink = document.createElement('div');\n",
              "        docLink.innerHTML = docLinkHtml;\n",
              "        element.appendChild(docLink);\n",
              "      }\n",
              "    </script>\n",
              "  </div>\n",
              "\n",
              "\n",
              "<div id=\"df-f524315b-953c-4f82-960e-9d439102c130\">\n",
              "  <button class=\"colab-df-quickchart\" onclick=\"quickchart('df-f524315b-953c-4f82-960e-9d439102c130')\"\n",
              "            title=\"Suggest charts\"\n",
              "            style=\"display:none;\">\n",
              "\n",
              "<svg xmlns=\"http://www.w3.org/2000/svg\" height=\"24px\"viewBox=\"0 0 24 24\"\n",
              "     width=\"24px\">\n",
              "    <g>\n",
              "        <path d=\"M19 3H5c-1.1 0-2 .9-2 2v14c0 1.1.9 2 2 2h14c1.1 0 2-.9 2-2V5c0-1.1-.9-2-2-2zM9 17H7v-7h2v7zm4 0h-2V7h2v10zm4 0h-2v-4h2v4z\"/>\n",
              "    </g>\n",
              "</svg>\n",
              "  </button>\n",
              "\n",
              "<style>\n",
              "  .colab-df-quickchart {\n",
              "      --bg-color: #E8F0FE;\n",
              "      --fill-color: #1967D2;\n",
              "      --hover-bg-color: #E2EBFA;\n",
              "      --hover-fill-color: #174EA6;\n",
              "      --disabled-fill-color: #AAA;\n",
              "      --disabled-bg-color: #DDD;\n",
              "  }\n",
              "\n",
              "  [theme=dark] .colab-df-quickchart {\n",
              "      --bg-color: #3B4455;\n",
              "      --fill-color: #D2E3FC;\n",
              "      --hover-bg-color: #434B5C;\n",
              "      --hover-fill-color: #FFFFFF;\n",
              "      --disabled-bg-color: #3B4455;\n",
              "      --disabled-fill-color: #666;\n",
              "  }\n",
              "\n",
              "  .colab-df-quickchart {\n",
              "    background-color: var(--bg-color);\n",
              "    border: none;\n",
              "    border-radius: 50%;\n",
              "    cursor: pointer;\n",
              "    display: none;\n",
              "    fill: var(--fill-color);\n",
              "    height: 32px;\n",
              "    padding: 0;\n",
              "    width: 32px;\n",
              "  }\n",
              "\n",
              "  .colab-df-quickchart:hover {\n",
              "    background-color: var(--hover-bg-color);\n",
              "    box-shadow: 0 1px 2px rgba(60, 64, 67, 0.3), 0 1px 3px 1px rgba(60, 64, 67, 0.15);\n",
              "    fill: var(--button-hover-fill-color);\n",
              "  }\n",
              "\n",
              "  .colab-df-quickchart-complete:disabled,\n",
              "  .colab-df-quickchart-complete:disabled:hover {\n",
              "    background-color: var(--disabled-bg-color);\n",
              "    fill: var(--disabled-fill-color);\n",
              "    box-shadow: none;\n",
              "  }\n",
              "\n",
              "  .colab-df-spinner {\n",
              "    border: 2px solid var(--fill-color);\n",
              "    border-color: transparent;\n",
              "    border-bottom-color: var(--fill-color);\n",
              "    animation:\n",
              "      spin 1s steps(1) infinite;\n",
              "  }\n",
              "\n",
              "  @keyframes spin {\n",
              "    0% {\n",
              "      border-color: transparent;\n",
              "      border-bottom-color: var(--fill-color);\n",
              "      border-left-color: var(--fill-color);\n",
              "    }\n",
              "    20% {\n",
              "      border-color: transparent;\n",
              "      border-left-color: var(--fill-color);\n",
              "      border-top-color: var(--fill-color);\n",
              "    }\n",
              "    30% {\n",
              "      border-color: transparent;\n",
              "      border-left-color: var(--fill-color);\n",
              "      border-top-color: var(--fill-color);\n",
              "      border-right-color: var(--fill-color);\n",
              "    }\n",
              "    40% {\n",
              "      border-color: transparent;\n",
              "      border-right-color: var(--fill-color);\n",
              "      border-top-color: var(--fill-color);\n",
              "    }\n",
              "    60% {\n",
              "      border-color: transparent;\n",
              "      border-right-color: var(--fill-color);\n",
              "    }\n",
              "    80% {\n",
              "      border-color: transparent;\n",
              "      border-right-color: var(--fill-color);\n",
              "      border-bottom-color: var(--fill-color);\n",
              "    }\n",
              "    90% {\n",
              "      border-color: transparent;\n",
              "      border-bottom-color: var(--fill-color);\n",
              "    }\n",
              "  }\n",
              "</style>\n",
              "\n",
              "  <script>\n",
              "    async function quickchart(key) {\n",
              "      const quickchartButtonEl =\n",
              "        document.querySelector('#' + key + ' button');\n",
              "      quickchartButtonEl.disabled = true;  // To prevent multiple clicks.\n",
              "      quickchartButtonEl.classList.add('colab-df-spinner');\n",
              "      try {\n",
              "        const charts = await google.colab.kernel.invokeFunction(\n",
              "            'suggestCharts', [key], {});\n",
              "      } catch (error) {\n",
              "        console.error('Error during call to suggestCharts:', error);\n",
              "      }\n",
              "      quickchartButtonEl.classList.remove('colab-df-spinner');\n",
              "      quickchartButtonEl.classList.add('colab-df-quickchart-complete');\n",
              "    }\n",
              "    (() => {\n",
              "      let quickchartButtonEl =\n",
              "        document.querySelector('#df-f524315b-953c-4f82-960e-9d439102c130 button');\n",
              "      quickchartButtonEl.style.display =\n",
              "        google.colab.kernel.accessAllowed ? 'block' : 'none';\n",
              "    })();\n",
              "  </script>\n",
              "</div>\n",
              "\n",
              "    </div>\n",
              "  </div>\n"
            ],
            "application/vnd.google.colaboratory.intrinsic+json": {
              "type": "dataframe",
              "summary": "{\n  \"name\": \"DF[['total_distance', 'trip_duration']]\",\n  \"rows\": 8,\n  \"fields\": [\n    {\n      \"column\": \"total_distance\",\n      \"properties\": {\n        \"dtype\": \"number\",\n        \"std\": 510962.9005900177,\n        \"min\": 0.0,\n        \"max\": 1458644.0,\n        \"num_unique_values\": 8,\n        \"samples\": [\n          4626.38182064986,\n          2755.1,\n          1458644.0\n        ],\n        \"semantic_type\": \"\",\n        \"description\": \"\"\n      }\n    },\n    {\n      \"column\": \"trip_duration\",\n      \"properties\": {\n        \"dtype\": \"number\",\n        \"std\": 1278713.5878413154,\n        \"min\": 1.0,\n        \"max\": 3526282.0,\n        \"num_unique_values\": 8,\n        \"samples\": [\n          959.4922729603659,\n          662.0,\n          1458644.0\n        ],\n        \"semantic_type\": \"\",\n        \"description\": \"\"\n      }\n    }\n  ]\n}"
            }
          },
          "metadata": {},
          "execution_count": 371
        }
      ]
    },
    {
      "cell_type": "markdown",
      "source": [
        "Проверим выброс по длительности, преобразовав столбец с секундами к часам, и отфильтровав:"
      ],
      "metadata": {
        "id": "kUcGUeTKyQkY"
      }
    },
    {
      "cell_type": "code",
      "execution_count": null,
      "metadata": {
        "id": "3KVmlq8SkBLo",
        "colab": {
          "base_uri": "https://localhost:8080/"
        },
        "outputId": "70f8e687-ed86-4b2e-b46c-ea03f47d6c86"
      },
      "outputs": [
        {
          "output_type": "execute_result",
          "data": {
            "text/plain": [
              "4"
            ]
          },
          "metadata": {},
          "execution_count": 372
        }
      ],
      "source": [
        "trip_duration_in_hours = DF['trip_duration'] / 60 / 60\n",
        "DF[trip_duration_in_hours > 24]['id'].count()"
      ]
    },
    {
      "cell_type": "markdown",
      "source": [
        "Воспользуемся формулой данной выше для вычисления выбросов по скорости:"
      ],
      "metadata": {
        "id": "gwm3-oaA2Mgm"
      }
    },
    {
      "cell_type": "code",
      "source": [
        "avg_speed = DF['total_distance'] / DF['trip_duration'] * 3.6\n",
        "DF[avg_speed > 300]['id'].count()"
      ],
      "metadata": {
        "colab": {
          "base_uri": "https://localhost:8080/"
        },
        "id": "4_ond7l8ycp3",
        "outputId": "d9cb96af-906e-43e4-a2b7-f892ce174db1"
      },
      "execution_count": null,
      "outputs": [
        {
          "output_type": "execute_result",
          "data": {
            "text/plain": [
              "407"
            ]
          },
          "metadata": {},
          "execution_count": 373
        }
      ]
    },
    {
      "cell_type": "code",
      "source": [
        "# Зачищаем выбросы из данных\n",
        "DF.drop(DF[trip_duration_in_hours > 24].index, inplace=True)\n",
        "DF.drop(DF[avg_speed > 300].index, inplace=True)"
      ],
      "metadata": {
        "colab": {
          "base_uri": "https://localhost:8080/"
        },
        "id": "pDF0p56j2n5G",
        "outputId": "2782136b-2d7c-407d-83ec-a300fc09ac72"
      },
      "execution_count": null,
      "outputs": [
        {
          "output_type": "stream",
          "name": "stderr",
          "text": [
            "<ipython-input-374-548d195c236a>:3: UserWarning: Boolean Series key will be reindexed to match DataFrame index.\n",
            "  DF.drop(DF[avg_speed > 300].index, inplace=True)\n"
          ]
        }
      ]
    },
    {
      "cell_type": "markdown",
      "source": [
        " В итоге удалось найти:\n",
        " - выбросов по признаку длительности поездки - **4**\n",
        " - выбросов по признаку скорости - **407**"
      ],
      "metadata": {
        "id": "VTJIX6TB2RJP"
      }
    },
    {
      "cell_type": "markdown",
      "metadata": {
        "id": "pEEXbpTfkBLo"
      },
      "source": [
        "## 3. Разведывательный анализ данных (EDA)"
      ]
    },
    {
      "cell_type": "markdown",
      "metadata": {
        "id": "59de6wa-kBLo"
      },
      "source": [
        "В этой части нашего проекта мы с вами:\n",
        "* Исследуем сформированный набор данных;\n",
        "* Попробуем найти закономерности, позволяющие сформулировать предварительные гипотезы относительно того, какие факторы являются решающими в определении длительности поездки;\n",
        "* Дополним наш анализ визуализациями, иллюстрирующими; исследование. Постарайтесь оформлять диаграммы с душой, а не «для галочки»: навыки визуализации полученных выводов обязательно пригодятся вам в будущем.\n"
      ]
    },
    {
      "cell_type": "markdown",
      "metadata": {
        "id": "d-8PQtqRkBLo"
      },
      "source": [
        "Начинаем с целевого признака. Забегая вперед, скажем, что основной метрикой качества решения поставленной задачи будет RMSLE - Root Mean Squared Log Error, которая вычисляется на основе целевой переменной в логарифмическом масштабе. В таком случае целесообразно сразу логарифмировать признак длительности поездки и рассматривать при анализе логарифм в качестве целевого признака:\n",
        "$$trip\\_duration\\_log = log(trip\\_duration+1),$$\n",
        "где под символом log подразумевается натуральный логарифм.\n"
      ]
    },
    {
      "cell_type": "code",
      "execution_count": null,
      "metadata": {
        "id": "y59BwN3MkBLp"
      },
      "outputs": [],
      "source": [
        "taxi_data['trip_duration_log'] = np.log(taxi_data['trip_duration']+1)"
      ]
    },
    {
      "cell_type": "markdown",
      "metadata": {
        "id": "OoqAWXLLkBLp"
      },
      "source": [
        "### Задание 3.1.\n",
        "Постройте гистограмму и коробчатую диаграмму длительности поездок в логарифмическом масштабе (trip_duration_log).\n",
        "Исходя из визуализации, сделайте предположение, является ли полученное распределение нормальным?\n",
        "Проверьте свою гипотезу с помощью теста Д’Агостино при уровне значимости $\\alpha=0.05$.\n",
        "\n",
        "а) Чему равен вычисленный p-value? Ответ округлите до сотых.\n",
        "\n",
        "б) Является ли распределение длительности поездок в логарифмическом масштабе нормальным?"
      ]
    },
    {
      "cell_type": "code",
      "execution_count": null,
      "metadata": {
        "id": "hSPVCtNckBLp"
      },
      "outputs": [],
      "source": [
        "# ваш код здесь"
      ]
    },
    {
      "cell_type": "markdown",
      "metadata": {
        "id": "teZmcjlIkBLp"
      },
      "source": [
        "### Задание 3.2.\n",
        "Постройте визуализацию, которая позволит сравнить распределение длительности поездки в логарифмическом масштабе (trip_duration_log) в зависимости от таксопарка (vendor_id).\n",
        "\n",
        "Сравните два распределения между собой."
      ]
    },
    {
      "cell_type": "code",
      "execution_count": null,
      "metadata": {
        "id": "SfyhOuOYkBLp"
      },
      "outputs": [],
      "source": [
        "# ваш код здесь"
      ]
    },
    {
      "cell_type": "code",
      "execution_count": null,
      "metadata": {
        "id": "wY6be0BggVMo"
      },
      "outputs": [],
      "source": []
    },
    {
      "cell_type": "markdown",
      "metadata": {
        "id": "Gq7d2zjjkBLp"
      },
      "source": [
        "### Задание 3.3.\n",
        "Постройте визуализацию, которая позволит сравнить распределение длительности поездки в логарифмическом масштабе (trip_duration_log) в зависимости от признака отправки сообщения поставщику (store_and_fwd_flag).\n",
        "\n",
        "Сравните два распределения между собой."
      ]
    },
    {
      "cell_type": "code",
      "execution_count": null,
      "metadata": {
        "id": "3If4bSdEkBLp"
      },
      "outputs": [],
      "source": [
        "# ваш код здесь"
      ]
    },
    {
      "cell_type": "markdown",
      "metadata": {
        "id": "ThgfBISekBLp"
      },
      "source": [
        "### Задание 3.4.\n",
        "Постройте две визуализации:\n",
        "* Распределение количества поездок в зависимости от часа дня;\n",
        "* Зависимость медианной длительности поездки от часа дня.\n",
        "\n",
        "На основе построенных графиков ответьте на следующие вопросы:\n",
        "\n",
        "а) В какое время суток такси заказывают реже всего?\n",
        "\n",
        "б) В какое время суток наблюдается пик медианной длительности поездок?"
      ]
    },
    {
      "cell_type": "code",
      "execution_count": null,
      "metadata": {
        "id": "b7tRWY_BkBLq",
        "colab": {
          "base_uri": "https://localhost:8080/",
          "height": 453
        },
        "outputId": "904615ba-0659-4ef8-cc7b-e9d9ef994afd"
      },
      "outputs": [
        {
          "output_type": "execute_result",
          "data": {
            "text/plain": [
              "<Axes: >"
            ]
          },
          "metadata": {},
          "execution_count": 379
        },
        {
          "output_type": "display_data",
          "data": {
            "text/plain": [
              "<Figure size 640x480 with 1 Axes>"
            ],
            "image/png": "[encoded data removed]"
          },
          "metadata": {}
        }
      ],
      "source": [
        "# ваш код здесь\n",
        "sns.countplot()"
      ]
    },
    {
      "cell_type": "markdown",
      "metadata": {
        "id": "GmHyGkbzkBLq"
      },
      "source": [
        "### Задание 3.5.\n",
        "Постройте две визуализации:\n",
        "* Распределение количества поездок в зависимости от дня недели;\n",
        "*  Зависимость медианной длительности поездки от дня недели.\n",
        "\n",
        "На основе построенных графиков ответьте на следующие вопросы:\n",
        "а) В какой день недели совершается больше всего поездок?\n",
        "б) В какой день недели медианная длительность поездок наименьшая?\n"
      ]
    },
    {
      "cell_type": "code",
      "execution_count": null,
      "metadata": {
        "id": "b0mHfS17kBLq"
      },
      "outputs": [],
      "source": [
        "# ваш код здесь"
      ]
    },
    {
      "cell_type": "markdown",
      "metadata": {
        "id": "KSRSS4tekBLq"
      },
      "source": [
        "### Задание 3.6.\n",
        "Посмотрим на обе временные характеристики одновременно.\n",
        "\n",
        "Постройте сводную таблицу, по строкам которой отложены часы (pickup_hour), по столбцам - дни недели (pickup_day_of_week), а в ячейках - медианная длительность поездки (trip_duration).\n",
        "\n",
        "Визуализируйте полученную сводную таблицу с помощью тепловой карты (рекомендуемая палитра - coolwarm)."
      ]
    },
    {
      "cell_type": "code",
      "execution_count": null,
      "metadata": {
        "id": "zDUyBJTQkBLq"
      },
      "outputs": [],
      "source": [
        "# ваш код здесь"
      ]
    },
    {
      "cell_type": "markdown",
      "metadata": {
        "id": "E5P2WBT6kBLq"
      },
      "source": [
        "### Задание 3.7.\n",
        "Постройте две диаграммы рассеяния (scatter-диаграммы):\n",
        "* первая должна иллюстрировать географическое расположение точек начала поездок (pickup_longitude, pickup_latitude)\n",
        "* вторая должна географическое расположение точек завершения поездок (dropoff_longitude, dropoff_latitude).\n",
        "\n",
        "Для этого на диаграммах по оси абсцисс отложите широту (longitude), а по оси ординат - долготу (latitude).\n",
        "Включите в визуализацию только те точки, которые находятся в пределах Нью-Йорка - добавьте следующие ограничения на границы осей абсцисс и ординат:\n",
        "\n",
        "city_long_border = (-74.03, -73.75)\n",
        "\n",
        "city_lat_border = (40.63, 40.85)\n",
        "\n",
        "Добавьте на диаграммы расцветку по десяти географическим кластерам (geo_cluster), которые мы сгенерировали ранее.\n",
        "\n",
        "**Рекомендация:** для наглядности уменьшите размер точек на диаграмме рассеяния.  \n"
      ]
    },
    {
      "cell_type": "code",
      "execution_count": null,
      "metadata": {
        "id": "T0Wd1q_PkBLq"
      },
      "outputs": [],
      "source": [
        "city_long_border = (-74.03, -73.75)\n",
        "city_lat_border = (40.63, 40.85)\n",
        "\n",
        "# ваш код здесь"
      ]
    },
    {
      "cell_type": "markdown",
      "metadata": {
        "id": "cSKZEkO4kBLq"
      },
      "source": [
        "## 4. Отбор и преобразование признаков"
      ]
    },
    {
      "cell_type": "markdown",
      "metadata": {
        "id": "Erg_Ejz1kBLr"
      },
      "source": [
        "Перед тем как перейти к построению модели, осталось сделать ещё несколько шагов.\n",
        "* Следует помнить, что многие алгоритмы машинного обучения не могут обрабатывать категориальные признаки в их обычном виде. Поэтому нам необходимо их закодировать;\n",
        "* Надо отобрать признаки, которые мы будем использовать для обучения модели;\n",
        "*  Необходимо масштабировать и трансформировать некоторые признаки для того, чтобы улучшить сходимость моделей, в основе которых лежат численные методы.\n"
      ]
    },
    {
      "cell_type": "code",
      "execution_count": null,
      "metadata": {
        "id": "N7MHv9HKkBLr",
        "colab": {
          "base_uri": "https://localhost:8080/"
        },
        "outputId": "3331af7f-6c58-41a8-baa6-37f87556d155"
      },
      "outputs": [
        {
          "output_type": "stream",
          "name": "stdout",
          "text": [
            "Shape of data: (1458644, 15)\n",
            "Columns: Index(['id', 'vendor_id', 'pickup_datetime', 'dropoff_datetime',\n",
            "       'passenger_count', 'pickup_longitude', 'pickup_latitude',\n",
            "       'dropoff_longitude', 'dropoff_latitude', 'store_and_fwd_flag',\n",
            "       'trip_duration', 'pickup_date', 'pickup_hour', 'pickup_day_of_week',\n",
            "       'trip_duration_log'],\n",
            "      dtype='object')\n"
          ]
        }
      ],
      "source": [
        "print('Shape of data: {}'.format(taxi_data.shape))\n",
        "print('Columns: {}'.format(taxi_data.columns))"
      ]
    },
    {
      "cell_type": "markdown",
      "metadata": {
        "id": "j6sgAOFqkBLr"
      },
      "source": [
        "Для удобства работы сделаем копию исходной таблицы с поездками:"
      ]
    },
    {
      "cell_type": "code",
      "execution_count": null,
      "metadata": {
        "id": "7rxobyQFkBLr",
        "colab": {
          "base_uri": "https://localhost:8080/",
          "height": 313
        },
        "outputId": "e66125ca-ed2d-42a5-8e07-cacafd6b2215"
      },
      "outputs": [
        {
          "output_type": "execute_result",
          "data": {
            "text/plain": [
              "          id  vendor_id     pickup_datetime     dropoff_datetime  \\\n",
              "0  id2875421          2 2016-03-14 17:24:55  2016-03-14 17:32:30   \n",
              "1  id2377394          1 2016-06-12 00:43:35  2016-06-12 00:54:38   \n",
              "2  id3858529          2 2016-01-19 11:35:24  2016-01-19 12:10:48   \n",
              "3  id3504673          2 2016-04-06 19:32:31  2016-04-06 19:39:40   \n",
              "4  id2181028          2 2016-03-26 13:30:55  2016-03-26 13:38:10   \n",
              "\n",
              "   passenger_count  pickup_longitude  pickup_latitude  dropoff_longitude  \\\n",
              "0                1           -73.982           40.768            -73.965   \n",
              "1                1           -73.980           40.739            -73.999   \n",
              "2                1           -73.979           40.764            -74.005   \n",
              "3                1           -74.010           40.720            -74.012   \n",
              "4                1           -73.973           40.793            -73.973   \n",
              "\n",
              "   dropoff_latitude store_and_fwd_flag  trip_duration pickup_date  \\\n",
              "0            40.766                  N            455  2016-03-14   \n",
              "1            40.731                  N            663  2016-06-12   \n",
              "2            40.710                  N           2124  2016-01-19   \n",
              "3            40.707                  N            429  2016-04-06   \n",
              "4            40.783                  N            435  2016-03-26   \n",
              "\n",
              "   pickup_hour  pickup_day_of_week  trip_duration_log  \n",
              "0           17                   0              6.122  \n",
              "1            0                   6              6.498  \n",
              "2           11                   1              7.662  \n",
              "3           19                   2              6.064  \n",
              "4           13                   5              6.078  "
            ],
            "text/html": [
              "\n",
              "  <div id=\"df-1dac5f03-a40c-4953-9a2e-e2e94005ba91\" class=\"colab-df-container\">\n",
              "    <div>\n",
              "<style scoped>\n",
              "    .dataframe tbody tr th:only-of-type {\n",
              "        vertical-align: middle;\n",
              "    }\n",
              "\n",
              "    .dataframe tbody tr th {\n",
              "        vertical-align: top;\n",
              "    }\n",
              "\n",
              "    .dataframe thead th {\n",
              "        text-align: right;\n",
              "    }\n",
              "</style>\n",
              "<table border=\"1\" class=\"dataframe\">\n",
              "  <thead>\n",
              "    <tr style=\"text-align: right;\">\n",
              "      <th></th>\n",
              "      <th>id</th>\n",
              "      <th>vendor_id</th>\n",
              "      <th>pickup_datetime</th>\n",
              "      <th>dropoff_datetime</th>\n",
              "      <th>passenger_count</th>\n",
              "      <th>pickup_longitude</th>\n",
              "      <th>pickup_latitude</th>\n",
              "      <th>dropoff_longitude</th>\n",
              "      <th>dropoff_latitude</th>\n",
              "      <th>store_and_fwd_flag</th>\n",
              "      <th>trip_duration</th>\n",
              "      <th>pickup_date</th>\n",
              "      <th>pickup_hour</th>\n",
              "      <th>pickup_day_of_week</th>\n",
              "      <th>trip_duration_log</th>\n",
              "    </tr>\n",
              "  </thead>\n",
              "  <tbody>\n",
              "    <tr>\n",
              "      <th>0</th>\n",
              "      <td>id2875421</td>\n",
              "      <td>2</td>\n",
              "      <td>2016-03-14 17:24:55</td>\n",
              "      <td>2016-03-14 17:32:30</td>\n",
              "      <td>1</td>\n",
              "      <td>-73.982</td>\n",
              "      <td>40.768</td>\n",
              "      <td>-73.965</td>\n",
              "      <td>40.766</td>\n",
              "      <td>N</td>\n",
              "      <td>455</td>\n",
              "      <td>2016-03-14</td>\n",
              "      <td>17</td>\n",
              "      <td>0</td>\n",
              "      <td>6.122</td>\n",
              "    </tr>\n",
              "    <tr>\n",
              "      <th>1</th>\n",
              "      <td>id2377394</td>\n",
              "      <td>1</td>\n",
              "      <td>2016-06-12 00:43:35</td>\n",
              "      <td>2016-06-12 00:54:38</td>\n",
              "      <td>1</td>\n",
              "      <td>-73.980</td>\n",
              "      <td>40.739</td>\n",
              "      <td>-73.999</td>\n",
              "      <td>40.731</td>\n",
              "      <td>N</td>\n",
              "      <td>663</td>\n",
              "      <td>2016-06-12</td>\n",
              "      <td>0</td>\n",
              "      <td>6</td>\n",
              "      <td>6.498</td>\n",
              "    </tr>\n",
              "    <tr>\n",
              "      <th>2</th>\n",
              "      <td>id3858529</td>\n",
              "      <td>2</td>\n",
              "      <td>2016-01-19 11:35:24</td>\n",
              "      <td>2016-01-19 12:10:48</td>\n",
              "      <td>1</td>\n",
              "      <td>-73.979</td>\n",
              "      <td>40.764</td>\n",
              "      <td>-74.005</td>\n",
              "      <td>40.710</td>\n",
              "      <td>N</td>\n",
              "      <td>2124</td>\n",
              "      <td>2016-01-19</td>\n",
              "      <td>11</td>\n",
              "      <td>1</td>\n",
              "      <td>7.662</td>\n",
              "    </tr>\n",
              "    <tr>\n",
              "      <th>3</th>\n",
              "      <td>id3504673</td>\n",
              "      <td>2</td>\n",
              "      <td>2016-04-06 19:32:31</td>\n",
              "      <td>2016-04-06 19:39:40</td>\n",
              "      <td>1</td>\n",
              "      <td>-74.010</td>\n",
              "      <td>40.720</td>\n",
              "      <td>-74.012</td>\n",
              "      <td>40.707</td>\n",
              "      <td>N</td>\n",
              "      <td>429</td>\n",
              "      <td>2016-04-06</td>\n",
              "      <td>19</td>\n",
              "      <td>2</td>\n",
              "      <td>6.064</td>\n",
              "    </tr>\n",
              "    <tr>\n",
              "      <th>4</th>\n",
              "      <td>id2181028</td>\n",
              "      <td>2</td>\n",
              "      <td>2016-03-26 13:30:55</td>\n",
              "      <td>2016-03-26 13:38:10</td>\n",
              "      <td>1</td>\n",
              "      <td>-73.973</td>\n",
              "      <td>40.793</td>\n",
              "      <td>-73.973</td>\n",
              "      <td>40.783</td>\n",
              "      <td>N</td>\n",
              "      <td>435</td>\n",
              "      <td>2016-03-26</td>\n",
              "      <td>13</td>\n",
              "      <td>5</td>\n",
              "      <td>6.078</td>\n",
              "    </tr>\n",
              "  </tbody>\n",
              "</table>\n",
              "</div>\n",
              "    <div class=\"colab-df-buttons\">\n",
              "\n",
              "  <div class=\"colab-df-container\">\n",
              "    <button class=\"colab-df-convert\" onclick=\"convertToInteractive('df-1dac5f03-a40c-4953-9a2e-e2e94005ba91')\"\n",
              "            title=\"Convert this dataframe to an interactive table.\"\n",
              "            style=\"display:none;\">\n",
              "\n",
              "  <svg xmlns=\"http://www.w3.org/2000/svg\" height=\"24px\" viewBox=\"0 -960 960 960\">\n",
              "    <path d=\"M120-120v-720h720v720H120Zm60-500h600v-160H180v160Zm220 220h160v-160H400v160Zm0 220h160v-160H400v160ZM180-400h160v-160H180v160Zm440 0h160v-160H620v160ZM180-180h160v-160H180v160Zm440 0h160v-160H620v160Z\"/>\n",
              "  </svg>\n",
              "    </button>\n",
              "\n",
              "  <style>\n",
              "    .colab-df-container {\n",
              "      display:flex;\n",
              "      gap: 12px;\n",
              "    }\n",
              "\n",
              "    .colab-df-convert {\n",
              "      background-color: #E8F0FE;\n",
              "      border: none;\n",
              "      border-radius: 50%;\n",
              "      cursor: pointer;\n",
              "      display: none;\n",
              "      fill: #1967D2;\n",
              "      height: 32px;\n",
              "      padding: 0 0 0 0;\n",
              "      width: 32px;\n",
              "    }\n",
              "\n",
              "    .colab-df-convert:hover {\n",
              "      background-color: #E2EBFA;\n",
              "      box-shadow: 0px 1px 2px rgba(60, 64, 67, 0.3), 0px 1px 3px 1px rgba(60, 64, 67, 0.15);\n",
              "      fill: #174EA6;\n",
              "    }\n",
              "\n",
              "    .colab-df-buttons div {\n",
              "      margin-bottom: 4px;\n",
              "    }\n",
              "\n",
              "    [theme=dark] .colab-df-convert {\n",
              "      background-color: #3B4455;\n",
              "      fill: #D2E3FC;\n",
              "    }\n",
              "\n",
              "    [theme=dark] .colab-df-convert:hover {\n",
              "      background-color: #434B5C;\n",
              "      box-shadow: 0px 1px 3px 1px rgba(0, 0, 0, 0.15);\n",
              "      filter: drop-shadow(0px 1px 2px rgba(0, 0, 0, 0.3));\n",
              "      fill: #FFFFFF;\n",
              "    }\n",
              "  </style>\n",
              "\n",
              "    <script>\n",
              "      const buttonEl =\n",
              "        document.querySelector('#df-1dac5f03-a40c-4953-9a2e-e2e94005ba91 button.colab-df-convert');\n",
              "      buttonEl.style.display =\n",
              "        google.colab.kernel.accessAllowed ? 'block' : 'none';\n",
              "\n",
              "      async function convertToInteractive(key) {\n",
              "        const element = document.querySelector('#df-1dac5f03-a40c-4953-9a2e-e2e94005ba91');\n",
              "        const dataTable =\n",
              "          await google.colab.kernel.invokeFunction('convertToInteractive',\n",
              "                                                    [key], {});\n",
              "        if (!dataTable) return;\n",
              "\n",
              "        const docLinkHtml = 'Like what you see? Visit the ' +\n",
              "          '<a target=\"_blank\" href=https://colab.research.google.com/notebooks/data_table.ipynb>data table notebook</a>'\n",
              "          + ' to learn more about interactive tables.';\n",
              "        element.innerHTML = '';\n",
              "        dataTable['output_type'] = 'display_data';\n",
              "        await google.colab.output.renderOutput(dataTable, element);\n",
              "        const docLink = document.createElement('div');\n",
              "        docLink.innerHTML = docLinkHtml;\n",
              "        element.appendChild(docLink);\n",
              "      }\n",
              "    </script>\n",
              "  </div>\n",
              "\n",
              "\n",
              "<div id=\"df-10edb028-2ee8-4e75-a0e4-01ac91749447\">\n",
              "  <button class=\"colab-df-quickchart\" onclick=\"quickchart('df-10edb028-2ee8-4e75-a0e4-01ac91749447')\"\n",
              "            title=\"Suggest charts\"\n",
              "            style=\"display:none;\">\n",
              "\n",
              "<svg xmlns=\"http://www.w3.org/2000/svg\" height=\"24px\"viewBox=\"0 0 24 24\"\n",
              "     width=\"24px\">\n",
              "    <g>\n",
              "        <path d=\"M19 3H5c-1.1 0-2 .9-2 2v14c0 1.1.9 2 2 2h14c1.1 0 2-.9 2-2V5c0-1.1-.9-2-2-2zM9 17H7v-7h2v7zm4 0h-2V7h2v10zm4 0h-2v-4h2v4z\"/>\n",
              "    </g>\n",
              "</svg>\n",
              "  </button>\n",
              "\n",
              "<style>\n",
              "  .colab-df-quickchart {\n",
              "      --bg-color: #E8F0FE;\n",
              "      --fill-color: #1967D2;\n",
              "      --hover-bg-color: #E2EBFA;\n",
              "      --hover-fill-color: #174EA6;\n",
              "      --disabled-fill-color: #AAA;\n",
              "      --disabled-bg-color: #DDD;\n",
              "  }\n",
              "\n",
              "  [theme=dark] .colab-df-quickchart {\n",
              "      --bg-color: #3B4455;\n",
              "      --fill-color: #D2E3FC;\n",
              "      --hover-bg-color: #434B5C;\n",
              "      --hover-fill-color: #FFFFFF;\n",
              "      --disabled-bg-color: #3B4455;\n",
              "      --disabled-fill-color: #666;\n",
              "  }\n",
              "\n",
              "  .colab-df-quickchart {\n",
              "    background-color: var(--bg-color);\n",
              "    border: none;\n",
              "    border-radius: 50%;\n",
              "    cursor: pointer;\n",
              "    display: none;\n",
              "    fill: var(--fill-color);\n",
              "    height: 32px;\n",
              "    padding: 0;\n",
              "    width: 32px;\n",
              "  }\n",
              "\n",
              "  .colab-df-quickchart:hover {\n",
              "    background-color: var(--hover-bg-color);\n",
              "    box-shadow: 0 1px 2px rgba(60, 64, 67, 0.3), 0 1px 3px 1px rgba(60, 64, 67, 0.15);\n",
              "    fill: var(--button-hover-fill-color);\n",
              "  }\n",
              "\n",
              "  .colab-df-quickchart-complete:disabled,\n",
              "  .colab-df-quickchart-complete:disabled:hover {\n",
              "    background-color: var(--disabled-bg-color);\n",
              "    fill: var(--disabled-fill-color);\n",
              "    box-shadow: none;\n",
              "  }\n",
              "\n",
              "  .colab-df-spinner {\n",
              "    border: 2px solid var(--fill-color);\n",
              "    border-color: transparent;\n",
              "    border-bottom-color: var(--fill-color);\n",
              "    animation:\n",
              "      spin 1s steps(1) infinite;\n",
              "  }\n",
              "\n",
              "  @keyframes spin {\n",
              "    0% {\n",
              "      border-color: transparent;\n",
              "      border-bottom-color: var(--fill-color);\n",
              "      border-left-color: var(--fill-color);\n",
              "    }\n",
              "    20% {\n",
              "      border-color: transparent;\n",
              "      border-left-color: var(--fill-color);\n",
              "      border-top-color: var(--fill-color);\n",
              "    }\n",
              "    30% {\n",
              "      border-color: transparent;\n",
              "      border-left-color: var(--fill-color);\n",
              "      border-top-color: var(--fill-color);\n",
              "      border-right-color: var(--fill-color);\n",
              "    }\n",
              "    40% {\n",
              "      border-color: transparent;\n",
              "      border-right-color: var(--fill-color);\n",
              "      border-top-color: var(--fill-color);\n",
              "    }\n",
              "    60% {\n",
              "      border-color: transparent;\n",
              "      border-right-color: var(--fill-color);\n",
              "    }\n",
              "    80% {\n",
              "      border-color: transparent;\n",
              "      border-right-color: var(--fill-color);\n",
              "      border-bottom-color: var(--fill-color);\n",
              "    }\n",
              "    90% {\n",
              "      border-color: transparent;\n",
              "      border-bottom-color: var(--fill-color);\n",
              "    }\n",
              "  }\n",
              "</style>\n",
              "\n",
              "  <script>\n",
              "    async function quickchart(key) {\n",
              "      const quickchartButtonEl =\n",
              "        document.querySelector('#' + key + ' button');\n",
              "      quickchartButtonEl.disabled = true;  // To prevent multiple clicks.\n",
              "      quickchartButtonEl.classList.add('colab-df-spinner');\n",
              "      try {\n",
              "        const charts = await google.colab.kernel.invokeFunction(\n",
              "            'suggestCharts', [key], {});\n",
              "      } catch (error) {\n",
              "        console.error('Error during call to suggestCharts:', error);\n",
              "      }\n",
              "      quickchartButtonEl.classList.remove('colab-df-spinner');\n",
              "      quickchartButtonEl.classList.add('colab-df-quickchart-complete');\n",
              "    }\n",
              "    (() => {\n",
              "      let quickchartButtonEl =\n",
              "        document.querySelector('#df-10edb028-2ee8-4e75-a0e4-01ac91749447 button');\n",
              "      quickchartButtonEl.style.display =\n",
              "        google.colab.kernel.accessAllowed ? 'block' : 'none';\n",
              "    })();\n",
              "  </script>\n",
              "</div>\n",
              "\n",
              "    </div>\n",
              "  </div>\n"
            ],
            "application/vnd.google.colaboratory.intrinsic+json": {
              "type": "dataframe",
              "variable_name": "train_data"
            }
          },
          "metadata": {},
          "execution_count": 384
        }
      ],
      "source": [
        "train_data = taxi_data.copy()\n",
        "train_data.head()"
      ]
    },
    {
      "cell_type": "markdown",
      "metadata": {
        "id": "U7i7DFBdkBLr"
      },
      "source": [
        "### Задание 4.1.\n",
        "Сразу позаботимся об очевидных неинформативных и избыточных признаках.\n",
        "\n",
        "а) Какой из признаков является уникальным для каждой поездки и не несет полезной информации в определении ее продолжительности?\n",
        "\n",
        "б) Утечка данных (data leak) - это…\n",
        "\n",
        "в) Подумайте, наличие какого из признаков в обучающем наборе данных создает утечку данных?\n",
        "\n",
        "г) Исключите выбранные в пунктах а) и в) признаки из исходной таблицы с данными. Сколько столбцов в таблице у вас осталось?\n"
      ]
    },
    {
      "cell_type": "code",
      "execution_count": null,
      "metadata": {
        "id": "-hg53Bv1kBLr"
      },
      "outputs": [],
      "source": [
        "# ваш код здесь"
      ]
    },
    {
      "cell_type": "markdown",
      "metadata": {
        "id": "NHyYd7XzkBLr"
      },
      "source": [
        "Ранее мы извлекли всю необходимую для нас информацию из даты начала поездки, теперь мы можем избавиться от этих признаков, так как они нам больше не понадобятся:\n"
      ]
    },
    {
      "cell_type": "code",
      "execution_count": null,
      "metadata": {
        "id": "nzO9ioMHkBLs",
        "colab": {
          "base_uri": "https://localhost:8080/"
        },
        "outputId": "2f1e45af-2f0b-4527-f155-39882d1850a9"
      },
      "outputs": [
        {
          "output_type": "stream",
          "name": "stdout",
          "text": [
            "Shape of data:  (1458644, 13)\n"
          ]
        }
      ],
      "source": [
        "drop_columns = ['pickup_datetime', 'pickup_date']\n",
        "train_data = train_data.drop(drop_columns, axis=1)\n",
        "print('Shape of data:  {}'.format(train_data.shape))"
      ]
    },
    {
      "cell_type": "markdown",
      "metadata": {
        "id": "cXHbkc3ykBLs"
      },
      "source": [
        "### Задание 4.2.\n",
        "\n",
        "Закодируйте признак vendor_id в таблице train_data таким образом, чтобы он был равен 0, если идентификатор таксопарка равен 1, и 1 — в противном случае.\n",
        "\n",
        "Закодируйте признак store_and_fwd_flag в таблице train_data таким образом, чтобы он был равен 0, если флаг выставлен в значение 'N', и 1 — в противном случае.\n",
        "\n",
        "а) Рассчитайте среднее по закодированному столбцу vendor_id. Ответ приведите с точностью до сотых.\n",
        "\n",
        "б) Рассчитайте среднее по закодированному столбцу store_and_fwd_flag. Ответ приведите с точностью до тысячных.\n",
        "\n"
      ]
    },
    {
      "cell_type": "code",
      "execution_count": null,
      "metadata": {
        "id": "_O1jJaZtkBLs",
        "colab": {
          "base_uri": "https://localhost:8080/",
          "height": 162
        },
        "outputId": "205af646-f182-408c-dc18-95e0225b42da"
      },
      "outputs": [
        {
          "output_type": "error",
          "ename": "NameError",
          "evalue": "name 'data' is not defined",
          "traceback": [
            "\u001b[0;31m---------------------------------------------------------------------------\u001b[0m",
            "\u001b[0;31mNameError\u001b[0m                                 Traceback (most recent call last)",
            "\u001b[0;32m<ipython-input-387-187693d23e01>\u001b[0m in \u001b[0;36m<cell line: 2>\u001b[0;34m()\u001b[0m\n\u001b[1;32m      1\u001b[0m \u001b[0;31m# ваш код здесь\u001b[0m\u001b[0;34m\u001b[0m\u001b[0;34m\u001b[0m\u001b[0m\n\u001b[0;32m----> 2\u001b[0;31m \u001b[0mdata\u001b[0m\u001b[0;34m[\u001b[0m\u001b[0;34m'col1'\u001b[0m\u001b[0;34m]\u001b[0m \u001b[0;34m=\u001b[0m \u001b[0mdata\u001b[0m\u001b[0;34m[\u001b[0m\u001b[0;34m'col1'\u001b[0m\u001b[0;34m]\u001b[0m\u001b[0;34m.\u001b[0m\u001b[0mmap\u001b[0m\u001b[0;34m(\u001b[0m\u001b[0;32mlambda\u001b[0m \u001b[0mx\u001b[0m\u001b[0;34m:\u001b[0m \u001b[0;36m1\u001b[0m \u001b[0;32mif\u001b[0m \u001b[0mx\u001b[0m \u001b[0;34m==\u001b[0m \u001b[0;34m'N'\u001b[0m \u001b[0;32melse\u001b[0m \u001b[0;36m0\u001b[0m\u001b[0;34m)\u001b[0m\u001b[0;34m\u001b[0m\u001b[0;34m\u001b[0m\u001b[0m\n\u001b[0m",
            "\u001b[0;31mNameError\u001b[0m: name 'data' is not defined"
          ]
        }
      ],
      "source": [
        "# ваш код здесь\n",
        "data['col1'] = data['col1'].map(lambda x: 1 if x == 'N' else 0)"
      ]
    },
    {
      "cell_type": "markdown",
      "metadata": {
        "id": "XMUmtLu1kBLs"
      },
      "source": [
        "### Задание 4.3.\n",
        "Создайте таблицу data_onehot из закодированных однократным кодированием признаков pickup_day_of_week, geo_cluster и events в таблице train_data с помощью OneHotEncoder из библиотеки sklearn. Параметр drop выставите в значение 'first', чтобы удалять первый бинарный столбец, тем самым не создавая излишних признаков.\n",
        "\n",
        "В параметре handle_unknown установите значение 'ignore'. Это позволит коду отработать без ошибок в случае появления в тестовой выборке значений, отсутствующих в обучающей выборке.\n",
        "\n",
        "В результате работы OneHotEncoder вы получите безымянный numpy-массив, который нам будет необходимо преобразовать обратно в DataFrame, для более удобной работы в дальнейшем. Чтобы получить имена закодированных столбцов у объекта типа OneHotEncoder есть специальный метод get_feature_names_out(). Он возвращает список новых закодированных имен столбцов в формате <оригинальное имя столбца>_<имя категории>.\n",
        "\n",
        "Пример использования:\n",
        "\n",
        "``` python\n",
        "# Объявляем кодировщик\n",
        "one_hot_encoder = OneHotEncoder(drop='first', handle_unknown='ignore')\n",
        "# Получаем закодированные имена столбцов\n",
        "column_names = one_hot_encoder.get_feature_names_out()\n",
        "# Составляем DataFrame из закодированных признаков\n",
        "data_onehot = pd.DataFrame(data_onehot, columns=column_names)\n",
        "```\n",
        "\n",
        "В этом псевдокоде:\n",
        "* one_hot_encoder - объект класса OneHotEncoder\n",
        "* data_onehot - numpy-массив, полученный в результате трансформации кодировщиком\n",
        "\n",
        "В результате выполнения задания у вас должен быть образован DataFrame `data_onehot`, который содержит кодированные категориальные признаки pickup_day_of_week, geo_cluster и events.\n",
        "\n",
        "\n",
        "Сколько бинарных столбцов у вас получилось сгенерировать с помощью однократного кодирования?\n"
      ]
    },
    {
      "cell_type": "code",
      "execution_count": null,
      "metadata": {
        "id": "BonLFJbhkBLs"
      },
      "outputs": [],
      "source": [
        "# ваш код здесь\n",
        "get_dummies()"
      ]
    },
    {
      "cell_type": "markdown",
      "metadata": {
        "id": "AsGsYqHRkBLs"
      },
      "source": [
        "Добавим полученную таблицу с закодированными признаками:"
      ]
    },
    {
      "cell_type": "code",
      "execution_count": null,
      "metadata": {
        "id": "blXeWiS0kBLs"
      },
      "outputs": [],
      "source": [
        "train_data = pd.concat(\n",
        "    [train_data.reset_index(drop=True).drop(columns_to_change, axis=1), data_onehot],\n",
        "    axis=1\n",
        ")\n",
        "print('Shape of data: {}'.format(train_data.shape))"
      ]
    },
    {
      "cell_type": "markdown",
      "metadata": {
        "id": "XQhXAud5kBLt"
      },
      "source": [
        "Теперь, когда категориальные признаки предобработаны, сформируем матрицу наблюдений X, вектор целевой переменной y и его логарифм y_log. В матрицу наблюдений войдут все столбцы из таблицы с поездками за исключением целевого признака trip_duration и его логарифмированной версии trip_duration_log:\n"
      ]
    },
    {
      "cell_type": "code",
      "execution_count": null,
      "metadata": {
        "id": "Vz6YfcALkBLt"
      },
      "outputs": [],
      "source": [
        "X = train_data.drop(['trip_duration', 'trip_duration_log'], axis=1)\n",
        "y = train_data['trip_duration']\n",
        "y_log = train_data['trip_duration_log']"
      ]
    },
    {
      "cell_type": "markdown",
      "metadata": {
        "id": "orPjdejMkBLt"
      },
      "source": [
        "Все наши модели мы будем обучать на логарифмированной версии y_log."
      ]
    },
    {
      "cell_type": "markdown",
      "metadata": {
        "id": "L8CzG9CnkBLt"
      },
      "source": [
        "Выбранный тип валидации - hold-out. Разобьем выборку на обучающую и валидационную в соотношении 67/33:"
      ]
    },
    {
      "cell_type": "code",
      "execution_count": null,
      "metadata": {
        "id": "hPEJ89ZdkBLt"
      },
      "outputs": [],
      "source": [
        "X_train, X_valid, y_train_log, y_valid_log = model_selection.train_test_split(\n",
        "    X, y_log,\n",
        "    test_size=0.33,\n",
        "    random_state=42\n",
        ")\n",
        "# OOT = out of time"
      ]
    },
    {
      "cell_type": "markdown",
      "metadata": {
        "id": "yL9ZPlW3kBLt"
      },
      "source": [
        "На данный момент у нас достаточно много признаков: скорее всего, не все из них будут важны. Давайте оставим лишь те, которые сильнее всего связаны с целевой переменной и точно будут вносить вклад в повышение качества модели.\n"
      ]
    },
    {
      "cell_type": "markdown",
      "metadata": {
        "id": "AaqdJUp-kBLt"
      },
      "source": [
        "### Задание 4.4.\n",
        "С помощью SelectKBest отберите 25 признаков, наилучшим образом подходящих для предсказания целевой переменной в логарифмическом масштабе. Отбор реализуйте по обучающей выборке, используя параметр score_func = f_regression.\n",
        "\n",
        "Укажите признаки, которые вошли в список отобранных\n"
      ]
    },
    {
      "cell_type": "code",
      "execution_count": null,
      "metadata": {
        "id": "TEeqoG20kBLt"
      },
      "outputs": [],
      "source": [
        "# ваш код здесь"
      ]
    },
    {
      "cell_type": "markdown",
      "metadata": {
        "id": "JLOJ_kdlkBLt"
      },
      "source": [
        "Так как мы будем использовать различные модели, в том числе внутри которых заложены численные методы оптимизации, то давайте заранее позаботимся о масштабировании факторов.\n"
      ]
    },
    {
      "cell_type": "markdown",
      "metadata": {
        "id": "9WfHLiGKkBLu"
      },
      "source": [
        "### Задание 4.5.\n",
        "Нормализуйте предикторы в обучающей и валидационной выборках с помощью MinMaxScaler из библиотеки sklearn. Помните, что обучение нормализатора производится на обучающей выборке, а трансформация на обучающей и валидационной!\n",
        "\n",
        "Рассчитайте среднее арифметическое для первого предиктора (т. е. для первого столбца матрицы) из валидационной выборки. Ответ округлите до сотых.\n"
      ]
    },
    {
      "cell_type": "code",
      "execution_count": null,
      "metadata": {
        "id": "WSslyUgwkBLu"
      },
      "outputs": [],
      "source": [
        "# ваш код здесь"
      ]
    },
    {
      "cell_type": "markdown",
      "metadata": {
        "id": "gaEMuA6skBLu"
      },
      "source": [
        "## 5. Решение задачи регрессии: линейная регрессия и деревья решений"
      ]
    },
    {
      "cell_type": "markdown",
      "metadata": {
        "id": "y-pS_2XykBLu"
      },
      "source": [
        "Определим метрику, по которой мы будем измерять качество наших моделей. Мы будем следовать канонам исходного соревнования на Kaggle и в качестве метрики использовать RMSLE (Root Mean Squared Log Error), которая вычисляется как:\n",
        "$$RMSLE = \\sqrt{\\frac{1}{n}\\sum_{i=1}^n(log(y_i+1)-log(\\hat{y_i}+1))^2},$$\n",
        "где:\n",
        "* $y_i$ - истинная длительность i-ой поездки на такси (trip_duration)\n",
        "* $\\hat{y_i}$- предсказанная моделью длительность i-ой поездки на такси\n",
        "\n",
        "Заметим, что логарифмирование целевого признака мы уже провели заранее, поэтому нам будет достаточно вычислить метрику RMSE для модели, обученной прогнозировать длительность поездки такси в логарифмическом масштабе:\n",
        "$$z_i=log(y_i+1),$$\n",
        "$$RMSLE = \\sqrt{\\frac{1}{n}\\sum_{i=1}^n(z_i-\\hat{z_i})^2}=\\sqrt{MSE(z_i,\\hat{z_i})}$$\n",
        "\n"
      ]
    },
    {
      "cell_type": "markdown",
      "metadata": {
        "id": "6Qd3xY1-kBLu"
      },
      "source": [
        "### Задание 5.1.\n",
        "Постройте модель линейной регрессии на обучающей выборке (факторы должны быть нормализованы, целевую переменную используйте в логарифмическом масштабе). Все параметры оставьте по умолчанию.\n",
        "\n",
        "Для полученной модели рассчитайте метрику RMSLE на тренировочной и валидационной выборках. Ответ округлите до сотых.\n"
      ]
    },
    {
      "cell_type": "code",
      "execution_count": null,
      "metadata": {
        "id": "R1IB1yK5kBLu"
      },
      "outputs": [],
      "source": [
        "# ваш код здесь"
      ]
    },
    {
      "cell_type": "markdown",
      "metadata": {
        "id": "QSN6i928kBLu"
      },
      "source": [
        "### Задание 5.2.\n",
        "Сгенерируйте полиномиальные признаки 2-ой степени с помощью PolynomialFeatures из библиотеки sklearn. Параметр include_bias выставите в значение False.\n",
        "\n",
        "Постройте модель полиномиальной регрессии 2-ой степени на обучающей выборке (факторы должны быть нормализованы, целевую переменную используйте в логарифмическом масштабе). Все параметры оставьте по умолчанию.\n",
        "\n",
        "а) Для полученной модели рассчитайте метрику RMSLE на тренировочной и валидационной выборках. Ответ округлите до сотых.\n",
        "\n",
        "б) Наблюдаются ли у вашей модели признаки переобучения?\n"
      ]
    },
    {
      "cell_type": "code",
      "execution_count": null,
      "metadata": {
        "id": "gIIWA_arkBLu"
      },
      "outputs": [],
      "source": [
        "# ваш код здесь"
      ]
    },
    {
      "cell_type": "markdown",
      "metadata": {
        "id": "7ChD_MF6kBLv"
      },
      "source": [
        "### Задание 5.3.\n",
        "Постройте модель полиномиальной регрессии 2-ой степени с L2-регуляризацией (регуляризация по Тихонову) на обучающей выборке  (факторы должны быть нормализованы, целевую переменную используйте в логарифмическом масштабе). Коэффициент регуляризации $\\alpha$ установите равным 1, остальные параметры оставьте по умолчанию.\n",
        "\n",
        "Для полученной модели рассчитайте метрику RMSLE на тренировочной и валидационной выборках. Ответ округлите до сотых.\n"
      ]
    },
    {
      "cell_type": "code",
      "execution_count": null,
      "metadata": {
        "id": "pwcMCt3XkBLv"
      },
      "outputs": [],
      "source": [
        "# ваш код здесь"
      ]
    },
    {
      "cell_type": "markdown",
      "metadata": {
        "id": "aU5EJsIqkBLv"
      },
      "source": [
        "### Задание 5.4.\n",
        "Постройте модель дерева решений (DecisionTreeRegressor) на обучающей выборке (факторы должны быть нормализованы, целевую переменную используйте в логарифмическом масштабе). Все параметры оставьте по умолчанию.\n",
        "\n",
        "а) Для полученной модели рассчитайте метрику RMSLE на тренировочной и валидационной выборках. Ответ округлите до сотых.\n",
        "\n",
        "б) Наблюдаются ли у вашей модели признаки переобучения?\n"
      ]
    },
    {
      "cell_type": "code",
      "execution_count": null,
      "metadata": {
        "id": "SY1G4YcrkBLv"
      },
      "outputs": [],
      "source": [
        "# ваш код здесь"
      ]
    },
    {
      "cell_type": "markdown",
      "metadata": {
        "id": "1YJIlj4ykBLv"
      },
      "source": [
        "### Задание 5.5.\n",
        "Переберите все возможные варианты глубины дерева решений в диапазоне от 7 до 20:\n",
        "\n",
        "max_depths = range(7, 20)\n",
        "\n",
        "Параметр random_state задайте равным 42.\n",
        "\n",
        "Постройте линейные графики изменения метрики RMSE на тренировочной и валидационной выборках в зависимости от значения параметра глубины дерева решений.\n",
        "\n",
        "а) Найдите оптимальное значение максимальной глубины дерева, для которой будет наблюдаться минимальное значение RMSLE на обучающей выборке, но при этом еще не будет наблюдаться переобучение (валидационная кривая еще не начинает возрастать).\n",
        "\n",
        "б) Чему равно значение метрик RMSLE на тренировочной и валидационной выборках для дерева решений с выбранной оптимальной глубиной? Ответ округлите до сотых.\n"
      ]
    },
    {
      "cell_type": "code",
      "execution_count": null,
      "metadata": {
        "id": "_MbTVYsWkBLv"
      },
      "outputs": [],
      "source": [
        "# ваш код здесь\n",
        "GridSearchCV\n",
        "optuna / hyperopt"
      ]
    },
    {
      "cell_type": "markdown",
      "metadata": {
        "id": "zUXrz7YDkBLv"
      },
      "source": [
        "## 6. Решение задачи регрессии: ансамблевые методы и построение прогноза"
      ]
    },
    {
      "cell_type": "markdown",
      "metadata": {
        "id": "297rnbaikBLv"
      },
      "source": [
        "Переходим к тяжелой артиллерии: ансамблевым алгоритмам."
      ]
    },
    {
      "cell_type": "markdown",
      "metadata": {
        "id": "ZIAGlVjqkBLw"
      },
      "source": [
        "### Задание 6.1.\n",
        "\n",
        "Постройте модель случайного леса на обучающей выборке (факторы должны быть нормализованы, целевую переменную используйте в логарифмическом масштабе). В качестве гиперпараметров укажите следующие:\n",
        "* n_estimators=200,\n",
        "* max_depth=12,\n",
        "* criterion='squared_error',\n",
        "* min_samples_split=20,\n",
        "* random_state=42\n",
        "\n",
        "Для полученной модели рассчитайте метрику RMSLE на тренировочной и валидационной выборках. Ответ округлите до сотых.\n"
      ]
    },
    {
      "cell_type": "code",
      "execution_count": null,
      "metadata": {
        "id": "QQQdFHWfkBLw"
      },
      "outputs": [],
      "source": [
        "# ваш код здесь"
      ]
    },
    {
      "cell_type": "markdown",
      "metadata": {
        "id": "JZz_qWKDkBLw"
      },
      "source": [
        "### Задание 6.2.\n",
        "Постройте модель градиентного бустинга над деревьями решений (GradientBoostingRegressor) на обучающей выборке (факторы должны быть нормализованы, целевую переменную используйте в логарифмическом масштабе). В качестве гиперпараметров укажите следующие:\n",
        "* learning_rate=0.5,\n",
        "* n_estimators=100,\n",
        "* max_depth=6,\n",
        "* min_samples_split=30,\n",
        "* random_state=42\n",
        "\n",
        "Для полученной модели рассчитайте метрику RMSLE на тренировочной и валидационной выборках. Ответ округлите до сотых.\n"
      ]
    },
    {
      "cell_type": "code",
      "execution_count": null,
      "metadata": {
        "id": "KnnmuhoSkBLw"
      },
      "outputs": [],
      "source": [
        "# ваш код здесь"
      ]
    },
    {
      "cell_type": "markdown",
      "metadata": {
        "id": "zC3NKXLhkBLw"
      },
      "source": [
        "### Задание 6.3.\n",
        "Какая из построенных вами моделей показала наилучший результат (наименьшее значение RMSLE на валидационной выборке)?\n",
        "* Линейная регрессия\n",
        "* Полиномиальная регрессия 2ой степени\n",
        "* Дерево решений\n",
        "* Случайный лес\n",
        "* Градиентный бустинг над деревьями решений\n"
      ]
    },
    {
      "cell_type": "markdown",
      "metadata": {
        "id": "eaBYTxnkkBLx"
      },
      "source": [
        "### Задание 6.4.\n",
        "Постройте столбчатую диаграмму коэффициентов значимости каждого из факторов.\n",
        "\n",
        "Укажите топ-3 наиболее значимых для предсказания целевого признака - длительности поездки в логарифмическом масштабе - факторов.\n"
      ]
    },
    {
      "cell_type": "code",
      "execution_count": null,
      "metadata": {
        "id": "KmYOePR8kBLx"
      },
      "outputs": [],
      "source": [
        "# ваш код здесь"
      ]
    },
    {
      "cell_type": "markdown",
      "metadata": {
        "id": "TQ4NzZaTkBLx"
      },
      "source": [
        "### Задание 6.5.\n",
        "Для лучшей из построенных моделей рассчитайте медианную абсолютную ошибку (MeAE - в sklearn функция median_absolute_error) предсказания длительности поездки такси на валидационной выборке:\n",
        "$$ MeAE = median(|y_i-\\hat{y_i}|)$$\n",
        "\n",
        "Значение метрики MeAE переведите в минуты и округлите до десятых.\n"
      ]
    },
    {
      "cell_type": "code",
      "execution_count": null,
      "metadata": {
        "id": "mOYteyJ-kBLx"
      },
      "outputs": [],
      "source": [
        "# ваш код здесь"
      ]
    },
    {
      "cell_type": "markdown",
      "metadata": {
        "id": "NZzsSUFfkBLx"
      },
      "source": [
        "Финальный шаг - сделать submit -  предсказание для отложенного тестового набора данных."
      ]
    },
    {
      "cell_type": "markdown",
      "metadata": {
        "id": "J12UJrZOkBLx"
      },
      "source": [
        "Прочитаем тестовые данные и заранее выделим столбец с идентификаторами поездок из тестового набора данных. Он нам еще пригодится:\n"
      ]
    },
    {
      "cell_type": "code",
      "execution_count": null,
      "metadata": {
        "id": "5KAzvZidkBLx"
      },
      "outputs": [],
      "source": [
        "test_data = pd.read_csv(\"data/test.csv\")\n",
        "osrm_data_test = pd.read_csv(\"data/osrm_data_test.csv\")\n",
        "test_id = test_data['id']"
      ]
    },
    {
      "cell_type": "markdown",
      "metadata": {
        "id": "sdrR42JrkBLy"
      },
      "source": [
        "Перед созданием прогноза для тестовой выборки необходимо произвести все манипуляции с данными, которые мы производили с тренировочной выборкой, а именно:\n",
        "* Перевести признак pickup_datetime в формат datetime;\n",
        "* Добавить новые признаки (временные, географические, погодные и другие факторы);\n",
        "* Произвести очистку данных от пропусков;\n",
        "* Произвести кодировку категориальных признаков:\n",
        "    * Закодировать бинарные признаки;\n",
        "    * Закодировать номинальные признаки с помощью обученного на тренировочной выборке OneHotEncoder’а;\n",
        "* Сформировать матрицу наблюдений, оставив в таблице только те признаки, которые были отобраны с помощью SelectKBest;\n",
        "* Нормализовать данные с помощью обученного на тренировочной выборке MinMaxScaler’а.\n"
      ]
    },
    {
      "cell_type": "code",
      "execution_count": null,
      "metadata": {
        "id": "nqWQbqhGkBLy"
      },
      "outputs": [],
      "source": [
        "test_data['pickup_datetime']=pd.to_datetime(test_data['pickup_datetime'],format='%Y-%m-%d %H:%M:%S')\n",
        "test_data = add_datetime_features(test_data)\n",
        "test_data = add_holiday_features(test_data, holiday_data)\n",
        "test_data = add_osrm_features(test_data, osrm_data_test)\n",
        "test_data = add_geographical_features(test_data)\n",
        "test_data = add_cluster_features(test_data, kmeans)\n",
        "test_data = add_weather_features(test_data, weather_data)\n",
        "test_data = fill_null_weather_data(test_data)\n",
        "\n",
        "test_data['vendor_id'] = test_data['vendor_id'].apply(lambda x: 0 if x == 1 else 1)\n",
        "test_data['store_and_fwd_flag'] = test_data['store_and_fwd_flag'].apply(lambda x: 0 if x == 'N' else 1)\n",
        "test_data_onehot = one_hot_encoder.fit_transform(test_data[columns_to_change]).toarray()\n",
        "column_names = one_hot_encoder.get_feature_names_out(columns_to_change)\n",
        "test_data_onehot = pd.DataFrame(test_data_onehot, columns=column_names)\n",
        "\n",
        "test_data = pd.concat(\n",
        "    [test_data.reset_index(drop=True).drop(columns_to_change, axis=1), test_data_onehot],\n",
        "    axis=1\n",
        ")\n",
        "X_test = test_data[best_features]\n",
        "X_test_scaled = scaler.transform(X_test)\n",
        "print('Shape of data: {}'.format(X_test.shape))"
      ]
    },
    {
      "cell_type": "markdown",
      "metadata": {
        "id": "24JJ64T4kBLy"
      },
      "source": [
        "Только после выполнения всех этих шагов можно сделать предсказание длительности поездки для тестовой выборки. Не забудьте перевести предсказания из логарифмического масштаба в истинный, используя формулу:\n",
        "$$y_i=exp(z_i)-1$$\n",
        "\n",
        "После того, как вы сформируете предсказание длительности поездок на тестовой выборке вам необходимо будет создать submission-файл в формате csv, отправить его на платформу Kaggle и посмотреть на результирующее значение метрики RMSLE на тестовой выборке.\n",
        "\n",
        "Код для создания submission-файла:\n"
      ]
    },
    {
      "cell_type": "code",
      "execution_count": null,
      "metadata": {
        "id": "JeMAzrHHkBLy"
      },
      "outputs": [],
      "source": [
        "# ваш код здесь\n",
        "submission = pd.DataFrame({'id': test_id, 'trip_duration': y_test_predict})\n",
        "submission.to_csv('data/submission_gb.csv', index=False)"
      ]
    },
    {
      "cell_type": "markdown",
      "metadata": {
        "id": "iU5BA_XDkBLy"
      },
      "source": [
        "### **В качестве бонуса**\n",
        "\n",
        "В завершение по ансамблевым мы предлагаем вам попробовать улучшить свое предсказание, воспользовавшись моделью экстремального градиентного бустинга (XGBoost) из библиотеки xgboost.\n",
        "\n",
        "**XGBoost** - современная модель машинного обучения, которая является продолжением идеи градиентного бустинга Фридмана. У нее есть несколько преимуществ по сравнению с классической моделью градиентного бустинга из библиотеки sklearn: повышенная производительность путем параллелизации процесса обучения, повышенное качество решения за счет усовершенствования алгоритма бустинга, меньшая склонность к переобучению и широкий функционал возможности управления параметрами модели.\n"
      ]
    },
    {
      "cell_type": "markdown",
      "metadata": {
        "id": "_FARWLbakBLy"
      },
      "source": [
        "Для ее использования необходимо для начала установить пакет xgboost:"
      ]
    },
    {
      "cell_type": "code",
      "execution_count": null,
      "metadata": {
        "id": "h8KXUhyGkBLy"
      },
      "outputs": [],
      "source": [
        "#!pip install xgboost catboost"
      ]
    },
    {
      "cell_type": "markdown",
      "metadata": {
        "id": "urka0597kBLz"
      },
      "source": [
        "После чего модуль можно импортировать:"
      ]
    },
    {
      "cell_type": "code",
      "execution_count": null,
      "metadata": {
        "id": "kpLIalxfkBLz"
      },
      "outputs": [],
      "source": [
        "import xgboost as xgb"
      ]
    },
    {
      "cell_type": "markdown",
      "metadata": {
        "id": "CwJ80NU7kBLz"
      },
      "source": [
        "Перед обучением модели необходимо перевести наборы данных в тип данных xgboost.DMatrix:"
      ]
    },
    {
      "cell_type": "code",
      "execution_count": null,
      "metadata": {
        "id": "ehrdmZJekBLz"
      },
      "outputs": [],
      "source": [
        "# Создание матриц наблюдений в формате DMatrix\n",
        "dtrain = xgb.DMatrix(X_train_scaled, label=y_train_log, feature_names=best_features)\n",
        "dvalid = xgb.DMatrix(X_valid_scaled, label=y_valid_log, feature_names=best_features)\n",
        "dtest = xgb.DMatrix(X_test_scaled, feature_names=best_features)"
      ]
    },
    {
      "cell_type": "markdown",
      "metadata": {
        "id": "kW0LAucxkBLz"
      },
      "source": [
        "Обучение модели XGBoost происходит с помощью метода train, в который необходимо передать параметры модели, набор данных, количество базовых моделей в ансамбле, а также дополнительные параметры:\n"
      ]
    },
    {
      "cell_type": "code",
      "execution_count": null,
      "metadata": {
        "id": "u0uDs1YakBLz"
      },
      "outputs": [],
      "source": [
        "# Гиперпараметры модели\n",
        "xgb_pars = {'min_child_weight': 20, 'eta': 0.1, 'colsample_bytree': 0.9,\n",
        "            'max_depth': 6, 'subsample': 0.9, 'lambda': 1, 'nthread': -1,\n",
        "            'booster' : 'gbtree', 'eval_metric': 'rmse', 'objective': 'reg:squarederror'\n",
        "           }\n",
        "# Тренировочная и валидационная выборка\n",
        "watchlist = [(dtrain, 'train'), (dvalid, 'valid')]\n",
        "# Обучаем модель XGBoost\n",
        "model = xgb.train(\n",
        "    params=xgb_pars, #гиперпараметры модели\n",
        "    dtrain=dtrain, #обучающая выборка\n",
        "    num_boost_round=300, #количество моделей в ансамбле\n",
        "    evals=watchlist, #выборки, на которых считается матрица\n",
        "    early_stopping_rounds=20, #раняя остановка\n",
        "    maximize=False, #смена поиска максимума на минимум\n",
        "    verbose_eval=10 #шаг, через который происходит отображение метрик\n",
        ")"
      ]
    },
    {
      "cell_type": "markdown",
      "metadata": {
        "id": "nDiMljt5kBLz"
      },
      "source": [
        "Предсказать целевой признак на новых данных можно с помощью метода predict():"
      ]
    },
    {
      "cell_type": "code",
      "execution_count": null,
      "metadata": {
        "id": "XYBTeO7UkBLz"
      },
      "outputs": [],
      "source": [
        "#Делаем предсказание на тестовом наборе данных\n",
        "y_test_predict = np.exp(model.predict(dtest)) - 1\n",
        "print('Modeling RMSLE %.5f' % model.best_score)"
      ]
    },
    {
      "cell_type": "markdown",
      "metadata": {
        "id": "jgBn4xmikBLz"
      },
      "source": [
        "Также как и все модели, основанные на использовании деревьев решений в качестве базовых моделей, XGBoost имеет возможность определения коэффициентов важности факторов. Более того, в библиотеку встроена возможность визуализации важность факторов в виде столбчатой диаграммы. За эту возможность отвечает функция plot_importance():\n"
      ]
    },
    {
      "cell_type": "code",
      "execution_count": null,
      "metadata": {
        "id": "FEvlaqz4kBLz"
      },
      "outputs": [],
      "source": [
        "fig, ax = plt.subplots(figsize = (15,15))\n",
        "xgb.plot_importance(model, ax = ax, height=0.5)"
      ]
    }
  ],
  "metadata": {
    "colab": {
      "provenance": [],
      "toc_visible": true
    },
    "kernelspec": {
      "display_name": "Python 3",
      "name": "python3"
    },
    "language_info": {
      "codemirror_mode": {
        "name": "ipython",
        "version": 3
      },
      "file_extension": ".py",
      "mimetype": "text/x-python",
      "name": "python",
      "nbconvert_exporter": "python",
      "pygments_lexer": "ipython3",
      "version": "3.11.7"
    }
  },
  "nbformat": 4,
  "nbformat_minor": 0
}